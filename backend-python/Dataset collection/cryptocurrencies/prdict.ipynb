{
 "cells": [
  {
   "cell_type": "code",
   "execution_count": 72,
   "metadata": {},
   "outputs": [],
   "source": [
    "import yfinance as yf\n",
    "import os\n",
    "import pandas as pd\n",
    "import matplotlib.pyplot as plt"
   ]
  },
  {
   "cell_type": "code",
   "execution_count": 73,
   "metadata": {},
   "outputs": [],
   "source": [
    "# # # # List of cryptocurrency tickers\n",
    "# crypto_tickers = {\n",
    "#     \"BTC-USD\": \"Bitcoin (BTC)\",\n",
    "#     \"ETH-USD\": \"Ethereum (ETH)\",\n",
    "#     \"USDT-USD\": \"Tether (USDT)\",\n",
    "#     \"BNB-USD\": \"BNB (BNB)\",\n",
    "#     \"SOL-USD\": \"Solana (SOL)\",\n",
    "#     \"STETH-USD\": \"Lido Staked Ether (STETH)\",\n",
    "#     \"USDC-USD\": \"USDC (USDC)\",\n",
    "#     \"XRP-USD\": \"XRP (XRP)\",\n",
    "#     \"DOGE-USD\": \"Dogecoin (DOGE)\",\n",
    "#     \"ADA-USD\": \"Cardano (ADA)\",\n",
    "#     \"TON-USD\": \"Toncoin (TON)\",\n",
    "#     \"SHIB-USD\": \"Shiba Inu (SHIB)\",\n",
    "#     \"AVAX-USD\": \"Avalanche (AVAX)\",\n",
    "#     \"LINK-USD\": \"Chainlink (LINK)\",\n",
    "#     \"WBTC-USD\": \"Wrapped Bitcoin (WBTC)\",\n",
    "#     \"TRX-USD\": \"TRON (TRX)\",\n",
    "#     \"DOT-USD\": \"Polkadot (DOT)\",\n",
    "#     \"BCH-USD\": \"Bitcoin Cash (BCH)\",\n",
    "#     \"NEAR-USD\": \"NEAR Protocol (NEAR)\",\n",
    "#     \"UNI-USD\": \"Uniswap (UNI)\",\n",
    "#     \"MATIC-USD\": \"Polygon (MATIC)\",\n",
    "#     \"PEPE-USD\": \"Pepe (PEPE)\",\n",
    "#     \"LTC-USD\": \"Litecoin (LTC)\",\n",
    "#     \"ICP-USD\": \"Internet Computer (ICP)\"\n",
    "# }\n",
    "\n",
    "# # BTC_ticker = yf.Ticker(\"BTC-USD\")"
   ]
  },
  {
   "cell_type": "code",
   "execution_count": 74,
   "metadata": {},
   "outputs": [],
   "source": [
    "# if os.path.exists(\"BTC.csv\"):\n",
    "#     BTC = pd.read_csv(\"BTC.csv\", index_col=0)\n",
    "# else:\n",
    "#     BTC = BTC_ticker.history(period=\"max\")\n",
    "#     BTC.to_csv(\"BTC.csv\")"
   ]
  },
  {
   "cell_type": "code",
   "execution_count": 75,
   "metadata": {},
   "outputs": [],
   "source": [
    "# BTC"
   ]
  },
  {
   "cell_type": "code",
   "execution_count": 76,
   "metadata": {},
   "outputs": [],
   "source": [
    "# BTC.index = pd.to_datetime(BTC.index)"
   ]
  },
  {
   "cell_type": "code",
   "execution_count": 77,
   "metadata": {},
   "outputs": [],
   "source": [
    "# BTC.columns = [c.lower() for c in BTC.columns]\n",
    "# BTC.plot.line(y=\"close\", use_index=True)"
   ]
  },
  {
   "cell_type": "code",
   "execution_count": 78,
   "metadata": {},
   "outputs": [],
   "source": [
    "\n",
    "# Define the tickers\n",
    "tickers = {\n",
    "    \"BTC\": \"BTC-USD\",\n",
    "    \"ETH\": \"ETH-USD\",\n",
    "    \"USDT\": \"USDT-USD\",\n",
    "    \"BNB\": \"BNB-USD\",\n",
    "    \"SOL\": \"SOL-USD\"\n",
    "}\n",
    "\n"
   ]
  },
  {
   "cell_type": "code",
   "execution_count": 79,
   "metadata": {},
   "outputs": [
    {
     "name": "stdout",
     "output_type": "stream",
     "text": [
      "Data saved to cryptocurrencies.csv\n"
     ]
    }
   ],
   "source": [
    "# Fetch historical data for each ticker\n",
    "data = {}\n",
    "for name, ticker in tickers.items():\n",
    "    ticker_data = yf.Ticker(ticker).history(period=\"max\")\n",
    "    ticker_data[\"Ticker\"] = name\n",
    "    data[name] = ticker_data\n",
    "\n",
    "# Combine data into a single DataFrame\n",
    "combined_data = pd.concat(data.values(), keys=data.keys()).reset_index(level=0).rename(columns={\"level_0\": \"Symbol\"})\n",
    "\n",
    "# Save to CSV\n",
    "csv_path = \"cryptocurrencies.csv\"\n",
    "combined_data.to_csv(csv_path)\n",
    "\n",
    "print(f\"Data saved to {csv_path}\")\n"
   ]
  }
 ],
 "metadata": {
  "kernelspec": {
   "display_name": "Python 3",
   "language": "python",
   "name": "python3"
  },
  "language_info": {
   "codemirror_mode": {
    "name": "ipython",
    "version": 3
   },
   "file_extension": ".py",
   "mimetype": "text/x-python",
   "name": "python",
   "nbconvert_exporter": "python",
   "pygments_lexer": "ipython3",
   "version": "3.12.1"
  }
 },
 "nbformat": 4,
 "nbformat_minor": 2
}
