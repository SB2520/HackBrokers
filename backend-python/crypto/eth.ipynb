{
 "cells": [
  {
   "cell_type": "code",
<<<<<<< HEAD
   "execution_count": 49,
=======
   "execution_count": 1,
>>>>>>> 5a6dd52f8e0999325c4df24e29d9267d27ab28c8
   "metadata": {},
   "outputs": [],
   "source": [
    "import pandas as pd \n",
    "import numpy as np\n",
    "from sklearn.preprocessing import MinMaxScaler\n",
    "from sklearn.model_selection import train_test_split"
   ]
  },
  {
   "cell_type": "code",
<<<<<<< HEAD
   "execution_count": 50,
=======
   "execution_count": 2,
>>>>>>> 5a6dd52f8e0999325c4df24e29d9267d27ab28c8
   "metadata": {},
   "outputs": [
    {
     "data": {
      "text/html": [
       "<div>\n",
       "<style scoped>\n",
       "    .dataframe tbody tr th:only-of-type {\n",
       "        vertical-align: middle;\n",
       "    }\n",
       "\n",
       "    .dataframe tbody tr th {\n",
       "        vertical-align: top;\n",
       "    }\n",
       "\n",
       "    .dataframe thead th {\n",
       "        text-align: right;\n",
       "    }\n",
       "</style>\n",
       "<table border=\"1\" class=\"dataframe\">\n",
       "  <thead>\n",
       "    <tr style=\"text-align: right;\">\n",
       "      <th></th>\n",
       "      <th>Date</th>\n",
       "      <th>Open</th>\n",
       "      <th>High</th>\n",
       "      <th>Low</th>\n",
       "      <th>Close</th>\n",
       "      <th>Volume</th>\n",
       "      <th>Dividends</th>\n",
       "      <th>Stock Splits</th>\n",
       "    </tr>\n",
       "  </thead>\n",
       "  <tbody>\n",
       "    <tr>\n",
       "      <th>0</th>\n",
       "      <td>2017-11-09 00:00:00+00:00</td>\n",
       "      <td>308.644989</td>\n",
       "      <td>329.451996</td>\n",
       "      <td>307.056000</td>\n",
       "      <td>320.884003</td>\n",
       "      <td>893249984</td>\n",
       "      <td>0.0</td>\n",
       "      <td>0.0</td>\n",
       "    </tr>\n",
       "    <tr>\n",
       "      <th>1</th>\n",
       "      <td>2017-11-10 00:00:00+00:00</td>\n",
       "      <td>320.670990</td>\n",
       "      <td>324.717987</td>\n",
       "      <td>294.541992</td>\n",
       "      <td>299.252991</td>\n",
       "      <td>885985984</td>\n",
       "      <td>0.0</td>\n",
       "      <td>0.0</td>\n",
       "    </tr>\n",
       "    <tr>\n",
       "      <th>2</th>\n",
       "      <td>2017-11-11 00:00:00+00:00</td>\n",
       "      <td>298.585999</td>\n",
       "      <td>319.453003</td>\n",
       "      <td>298.191986</td>\n",
       "      <td>314.681000</td>\n",
       "      <td>842300992</td>\n",
       "      <td>0.0</td>\n",
       "      <td>0.0</td>\n",
       "    </tr>\n",
       "    <tr>\n",
       "      <th>3</th>\n",
       "      <td>2017-11-12 00:00:00+00:00</td>\n",
       "      <td>314.690002</td>\n",
       "      <td>319.153015</td>\n",
       "      <td>298.513000</td>\n",
       "      <td>307.907990</td>\n",
       "      <td>1613479936</td>\n",
       "      <td>0.0</td>\n",
       "      <td>0.0</td>\n",
       "    </tr>\n",
       "    <tr>\n",
       "      <th>4</th>\n",
       "      <td>2017-11-13 00:00:00+00:00</td>\n",
       "      <td>307.024994</td>\n",
       "      <td>328.415009</td>\n",
       "      <td>307.024994</td>\n",
       "      <td>316.716003</td>\n",
       "      <td>1041889984</td>\n",
       "      <td>0.0</td>\n",
       "      <td>0.0</td>\n",
       "    </tr>\n",
       "  </tbody>\n",
       "</table>\n",
       "</div>"
      ],
      "text/plain": [
       "                        Date        Open        High         Low       Close  \\\n",
       "0  2017-11-09 00:00:00+00:00  308.644989  329.451996  307.056000  320.884003   \n",
       "1  2017-11-10 00:00:00+00:00  320.670990  324.717987  294.541992  299.252991   \n",
       "2  2017-11-11 00:00:00+00:00  298.585999  319.453003  298.191986  314.681000   \n",
       "3  2017-11-12 00:00:00+00:00  314.690002  319.153015  298.513000  307.907990   \n",
       "4  2017-11-13 00:00:00+00:00  307.024994  328.415009  307.024994  316.716003   \n",
       "\n",
       "       Volume  Dividends  Stock Splits  \n",
       "0   893249984        0.0           0.0  \n",
       "1   885985984        0.0           0.0  \n",
       "2   842300992        0.0           0.0  \n",
       "3  1613479936        0.0           0.0  \n",
       "4  1041889984        0.0           0.0  "
      ]
     },
<<<<<<< HEAD
     "execution_count": 50,
=======
     "execution_count": 2,
>>>>>>> 5a6dd52f8e0999325c4df24e29d9267d27ab28c8
     "metadata": {},
     "output_type": "execute_result"
    }
   ],
   "source": [
    "df = pd.read_csv('eth.csv')\n",
    "df.head(5) "
   ]
  },
  {
   "cell_type": "code",
<<<<<<< HEAD
   "execution_count": 51,
=======
   "execution_count": 3,
>>>>>>> 5a6dd52f8e0999325c4df24e29d9267d27ab28c8
   "metadata": {},
   "outputs": [
    {
     "data": {
      "text/plain": [
       "Index(['Date', 'Open', 'High', 'Low', 'Close', 'Volume', 'Dividends',\n",
       "       'Stock Splits'],\n",
       "      dtype='object')"
      ]
     },
<<<<<<< HEAD
     "execution_count": 51,
=======
     "execution_count": 3,
>>>>>>> 5a6dd52f8e0999325c4df24e29d9267d27ab28c8
     "metadata": {},
     "output_type": "execute_result"
    }
   ],
   "source": [
    "df.columns"
   ]
  },
  {
   "cell_type": "code",
<<<<<<< HEAD
   "execution_count": 52,
=======
   "execution_count": 4,
>>>>>>> 5a6dd52f8e0999325c4df24e29d9267d27ab28c8
   "metadata": {},
   "outputs": [],
   "source": [
    "df.drop([ 'Open', 'High', 'Low',  'Dividends', 'Stock Splits', 'Volume'], inplace = True, axis = 1)"
   ]
  },
  {
   "cell_type": "code",
<<<<<<< HEAD
   "execution_count": 53,
=======
   "execution_count": 5,
>>>>>>> 5a6dd52f8e0999325c4df24e29d9267d27ab28c8
   "metadata": {},
   "outputs": [
    {
     "data": {
      "text/plain": [
       "0       09-11-2017\n",
       "1       10-11-2017\n",
       "2       11-11-2017\n",
       "3       12-11-2017\n",
       "4       13-11-2017\n",
       "           ...    \n",
       "2394    30-05-2024\n",
       "2395    31-05-2024\n",
       "2396    01-06-2024\n",
       "2397    02-06-2024\n",
       "2398    03-06-2024\n",
       "Name: formatted_time, Length: 2399, dtype: object"
      ]
     },
<<<<<<< HEAD
     "execution_count": 53,
=======
     "execution_count": 5,
>>>>>>> 5a6dd52f8e0999325c4df24e29d9267d27ab28c8
     "metadata": {},
     "output_type": "execute_result"
    }
   ],
   "source": [
    "df['time'] = pd.to_datetime(df['Date'])\n",
    "df['formatted_time'] = df['time'].dt.strftime('%d-%m-%Y')\n",
    "df['formatted_time']"
   ]
  },
  {
   "cell_type": "code",
<<<<<<< HEAD
   "execution_count": 54,
=======
   "execution_count": 6,
>>>>>>> 5a6dd52f8e0999325c4df24e29d9267d27ab28c8
   "metadata": {},
   "outputs": [],
   "source": [
    "df.drop([ 'Date', 'time'], inplace = True, axis = 1)"
   ]
  },
  {
   "cell_type": "code",
<<<<<<< HEAD
   "execution_count": 55,
=======
   "execution_count": 7,
>>>>>>> 5a6dd52f8e0999325c4df24e29d9267d27ab28c8
   "metadata": {},
   "outputs": [
    {
     "data": {
      "text/html": [
       "<div>\n",
       "<style scoped>\n",
       "    .dataframe tbody tr th:only-of-type {\n",
       "        vertical-align: middle;\n",
       "    }\n",
       "\n",
       "    .dataframe tbody tr th {\n",
       "        vertical-align: top;\n",
       "    }\n",
       "\n",
       "    .dataframe thead th {\n",
       "        text-align: right;\n",
       "    }\n",
       "</style>\n",
       "<table border=\"1\" class=\"dataframe\">\n",
       "  <thead>\n",
       "    <tr style=\"text-align: right;\">\n",
       "      <th></th>\n",
       "      <th>Close</th>\n",
       "      <th>formatted_time</th>\n",
       "    </tr>\n",
       "  </thead>\n",
       "  <tbody>\n",
       "    <tr>\n",
       "      <th>0</th>\n",
       "      <td>320.884003</td>\n",
       "      <td>09-11-2017</td>\n",
       "    </tr>\n",
       "    <tr>\n",
       "      <th>1</th>\n",
       "      <td>299.252991</td>\n",
       "      <td>10-11-2017</td>\n",
       "    </tr>\n",
       "    <tr>\n",
       "      <th>2</th>\n",
       "      <td>314.681000</td>\n",
       "      <td>11-11-2017</td>\n",
       "    </tr>\n",
       "    <tr>\n",
       "      <th>3</th>\n",
       "      <td>307.907990</td>\n",
       "      <td>12-11-2017</td>\n",
       "    </tr>\n",
       "    <tr>\n",
       "      <th>4</th>\n",
       "      <td>316.716003</td>\n",
       "      <td>13-11-2017</td>\n",
       "    </tr>\n",
       "    <tr>\n",
       "      <th>...</th>\n",
       "      <td>...</td>\n",
       "      <td>...</td>\n",
       "    </tr>\n",
       "    <tr>\n",
       "      <th>2394</th>\n",
       "      <td>3746.849609</td>\n",
       "      <td>30-05-2024</td>\n",
       "    </tr>\n",
       "    <tr>\n",
       "      <th>2395</th>\n",
       "      <td>3760.026611</td>\n",
       "      <td>31-05-2024</td>\n",
       "    </tr>\n",
       "    <tr>\n",
       "      <th>2396</th>\n",
       "      <td>3813.198975</td>\n",
       "      <td>01-06-2024</td>\n",
       "    </tr>\n",
       "    <tr>\n",
       "      <th>2397</th>\n",
       "      <td>3780.895996</td>\n",
       "      <td>02-06-2024</td>\n",
       "    </tr>\n",
       "    <tr>\n",
       "      <th>2398</th>\n",
       "      <td>3833.744629</td>\n",
       "      <td>03-06-2024</td>\n",
       "    </tr>\n",
       "  </tbody>\n",
       "</table>\n",
       "<p>2399 rows × 2 columns</p>\n",
       "</div>"
      ],
      "text/plain": [
       "            Close formatted_time\n",
       "0      320.884003     09-11-2017\n",
       "1      299.252991     10-11-2017\n",
       "2      314.681000     11-11-2017\n",
       "3      307.907990     12-11-2017\n",
       "4      316.716003     13-11-2017\n",
       "...           ...            ...\n",
       "2394  3746.849609     30-05-2024\n",
       "2395  3760.026611     31-05-2024\n",
       "2396  3813.198975     01-06-2024\n",
       "2397  3780.895996     02-06-2024\n",
       "2398  3833.744629     03-06-2024\n",
       "\n",
       "[2399 rows x 2 columns]"
      ]
     },
<<<<<<< HEAD
     "execution_count": 55,
=======
     "execution_count": 7,
>>>>>>> 5a6dd52f8e0999325c4df24e29d9267d27ab28c8
     "metadata": {},
     "output_type": "execute_result"
    }
   ],
   "source": [
    "df"
   ]
  },
  {
   "cell_type": "code",
<<<<<<< HEAD
   "execution_count": 56,
=======
   "execution_count": 8,
>>>>>>> 5a6dd52f8e0999325c4df24e29d9267d27ab28c8
   "metadata": {},
   "outputs": [],
   "source": [
    "import pandas_ta as ta\n",
    " \n",
    "df['SMA'] = ta.sma(df['Close'], length=5) \n",
    "df['EMA'] = ta.ema(df['Close'], length=5) \n",
    "df['RSI'] = ta.rsi(df['Close'], length=14) "
   ]
  },
  {
   "cell_type": "code",
<<<<<<< HEAD
   "execution_count": 57,
=======
   "execution_count": 9,
>>>>>>> 5a6dd52f8e0999325c4df24e29d9267d27ab28c8
   "metadata": {},
   "outputs": [
    {
     "data": {
      "text/html": [
       "<div>\n",
       "<style scoped>\n",
       "    .dataframe tbody tr th:only-of-type {\n",
       "        vertical-align: middle;\n",
       "    }\n",
       "\n",
       "    .dataframe tbody tr th {\n",
       "        vertical-align: top;\n",
       "    }\n",
       "\n",
       "    .dataframe thead th {\n",
       "        text-align: right;\n",
       "    }\n",
       "</style>\n",
       "<table border=\"1\" class=\"dataframe\">\n",
       "  <thead>\n",
       "    <tr style=\"text-align: right;\">\n",
       "      <th></th>\n",
       "      <th>Close</th>\n",
       "      <th>formatted_time</th>\n",
       "      <th>SMA</th>\n",
       "      <th>EMA</th>\n",
       "      <th>RSI</th>\n",
       "    </tr>\n",
       "  </thead>\n",
       "  <tbody>\n",
       "    <tr>\n",
       "      <th>0</th>\n",
       "      <td>320.884003</td>\n",
       "      <td>09-11-2017</td>\n",
       "      <td>NaN</td>\n",
       "      <td>NaN</td>\n",
       "      <td>NaN</td>\n",
       "    </tr>\n",
       "    <tr>\n",
       "      <th>1</th>\n",
       "      <td>299.252991</td>\n",
       "      <td>10-11-2017</td>\n",
       "      <td>NaN</td>\n",
       "      <td>NaN</td>\n",
       "      <td>NaN</td>\n",
       "    </tr>\n",
       "    <tr>\n",
       "      <th>2</th>\n",
       "      <td>314.681000</td>\n",
       "      <td>11-11-2017</td>\n",
       "      <td>NaN</td>\n",
       "      <td>NaN</td>\n",
       "      <td>NaN</td>\n",
       "    </tr>\n",
       "    <tr>\n",
       "      <th>3</th>\n",
       "      <td>307.907990</td>\n",
       "      <td>12-11-2017</td>\n",
       "      <td>NaN</td>\n",
       "      <td>NaN</td>\n",
       "      <td>NaN</td>\n",
       "    </tr>\n",
       "    <tr>\n",
       "      <th>4</th>\n",
       "      <td>316.716003</td>\n",
       "      <td>13-11-2017</td>\n",
       "      <td>311.888397</td>\n",
       "      <td>311.888397</td>\n",
       "      <td>NaN</td>\n",
       "    </tr>\n",
       "    <tr>\n",
       "      <th>...</th>\n",
       "      <td>...</td>\n",
       "      <td>...</td>\n",
       "      <td>...</td>\n",
       "      <td>...</td>\n",
       "      <td>...</td>\n",
       "    </tr>\n",
       "    <tr>\n",
       "      <th>2394</th>\n",
       "      <td>3746.849609</td>\n",
       "      <td>30-05-2024</td>\n",
       "      <td>3813.641357</td>\n",
       "      <td>3775.709597</td>\n",
       "      <td>63.639676</td>\n",
       "    </tr>\n",
       "    <tr>\n",
       "      <th>2395</th>\n",
       "      <td>3760.026611</td>\n",
       "      <td>31-05-2024</td>\n",
       "      <td>3800.467187</td>\n",
       "      <td>3770.481935</td>\n",
       "      <td>64.095183</td>\n",
       "    </tr>\n",
       "    <tr>\n",
       "      <th>2396</th>\n",
       "      <td>3813.198975</td>\n",
       "      <td>01-06-2024</td>\n",
       "      <td>3784.705615</td>\n",
       "      <td>3784.720948</td>\n",
       "      <td>65.948936</td>\n",
       "    </tr>\n",
       "    <tr>\n",
       "      <th>2397</th>\n",
       "      <td>3780.895996</td>\n",
       "      <td>02-06-2024</td>\n",
       "      <td>3772.833545</td>\n",
       "      <td>3783.445964</td>\n",
       "      <td>63.794067</td>\n",
       "    </tr>\n",
       "    <tr>\n",
       "      <th>2398</th>\n",
       "      <td>3833.744629</td>\n",
       "      <td>03-06-2024</td>\n",
       "      <td>3786.943164</td>\n",
       "      <td>3800.212186</td>\n",
       "      <td>65.764946</td>\n",
       "    </tr>\n",
       "  </tbody>\n",
       "</table>\n",
       "<p>2399 rows × 5 columns</p>\n",
       "</div>"
      ],
      "text/plain": [
       "            Close formatted_time          SMA          EMA        RSI\n",
       "0      320.884003     09-11-2017          NaN          NaN        NaN\n",
       "1      299.252991     10-11-2017          NaN          NaN        NaN\n",
       "2      314.681000     11-11-2017          NaN          NaN        NaN\n",
       "3      307.907990     12-11-2017          NaN          NaN        NaN\n",
       "4      316.716003     13-11-2017   311.888397   311.888397        NaN\n",
       "...           ...            ...          ...          ...        ...\n",
       "2394  3746.849609     30-05-2024  3813.641357  3775.709597  63.639676\n",
       "2395  3760.026611     31-05-2024  3800.467187  3770.481935  64.095183\n",
       "2396  3813.198975     01-06-2024  3784.705615  3784.720948  65.948936\n",
       "2397  3780.895996     02-06-2024  3772.833545  3783.445964  63.794067\n",
       "2398  3833.744629     03-06-2024  3786.943164  3800.212186  65.764946\n",
       "\n",
       "[2399 rows x 5 columns]"
      ]
     },
<<<<<<< HEAD
     "execution_count": 57,
=======
     "execution_count": 9,
>>>>>>> 5a6dd52f8e0999325c4df24e29d9267d27ab28c8
     "metadata": {},
     "output_type": "execute_result"
    }
   ],
   "source": [
    "df"
   ]
  },
  {
   "cell_type": "code",
<<<<<<< HEAD
   "execution_count": 58,
=======
   "execution_count": 10,
>>>>>>> 5a6dd52f8e0999325c4df24e29d9267d27ab28c8
   "metadata": {},
   "outputs": [],
   "source": [
    "df.fillna(0, inplace = True)"
   ]
  },
  {
   "cell_type": "code",
<<<<<<< HEAD
   "execution_count": 59,
=======
   "execution_count": 11,
>>>>>>> 5a6dd52f8e0999325c4df24e29d9267d27ab28c8
   "metadata": {},
   "outputs": [],
   "source": [
    "new_df = df.copy()"
   ]
  },
  {
   "cell_type": "code",
<<<<<<< HEAD
   "execution_count": 60,
=======
   "execution_count": 12,
>>>>>>> 5a6dd52f8e0999325c4df24e29d9267d27ab28c8
   "metadata": {},
   "outputs": [],
   "source": [
    "X = new_df.drop(['Close', 'formatted_time'], axis = 1).values\n",
    "Y = new_df['Close'].values"
   ]
  },
  {
   "cell_type": "code",
<<<<<<< HEAD
   "execution_count": 61,
=======
   "execution_count": 13,
>>>>>>> 5a6dd52f8e0999325c4df24e29d9267d27ab28c8
   "metadata": {},
   "outputs": [],
   "source": [
    "X_train, X_test, y_train, y_test = train_test_split(X, Y, test_size=0.2, random_state=42)"
   ]
  },
  {
   "cell_type": "code",
<<<<<<< HEAD
   "execution_count": 62,
=======
   "execution_count": 14,
>>>>>>> 5a6dd52f8e0999325c4df24e29d9267d27ab28c8
   "metadata": {},
   "outputs": [],
   "source": [
    "from sklearn.model_selection import GridSearchCV\n",
    "from sklearn.ensemble import RandomForestRegressor, GradientBoostingRegressor\n",
    "from sklearn.metrics import mean_squared_error, mean_absolute_error, r2_score \n"
   ]
  },
  {
   "cell_type": "code",
<<<<<<< HEAD
   "execution_count": 63,
=======
   "execution_count": 15,
>>>>>>> 5a6dd52f8e0999325c4df24e29d9267d27ab28c8
   "metadata": {},
   "outputs": [
    {
     "data": {
      "text/html": [
<<<<<<< HEAD
       "<style>#sk-container-id-5 {\n",
=======
       "<style>#sk-container-id-1 {\n",
>>>>>>> 5a6dd52f8e0999325c4df24e29d9267d27ab28c8
       "  /* Definition of color scheme common for light and dark mode */\n",
       "  --sklearn-color-text: black;\n",
       "  --sklearn-color-line: gray;\n",
       "  /* Definition of color scheme for unfitted estimators */\n",
       "  --sklearn-color-unfitted-level-0: #fff5e6;\n",
       "  --sklearn-color-unfitted-level-1: #f6e4d2;\n",
       "  --sklearn-color-unfitted-level-2: #ffe0b3;\n",
       "  --sklearn-color-unfitted-level-3: chocolate;\n",
       "  /* Definition of color scheme for fitted estimators */\n",
       "  --sklearn-color-fitted-level-0: #f0f8ff;\n",
       "  --sklearn-color-fitted-level-1: #d4ebff;\n",
       "  --sklearn-color-fitted-level-2: #b3dbfd;\n",
       "  --sklearn-color-fitted-level-3: cornflowerblue;\n",
       "\n",
       "  /* Specific color for light theme */\n",
       "  --sklearn-color-text-on-default-background: var(--sg-text-color, var(--theme-code-foreground, var(--jp-content-font-color1, black)));\n",
       "  --sklearn-color-background: var(--sg-background-color, var(--theme-background, var(--jp-layout-color0, white)));\n",
       "  --sklearn-color-border-box: var(--sg-text-color, var(--theme-code-foreground, var(--jp-content-font-color1, black)));\n",
       "  --sklearn-color-icon: #696969;\n",
       "\n",
       "  @media (prefers-color-scheme: dark) {\n",
       "    /* Redefinition of color scheme for dark theme */\n",
       "    --sklearn-color-text-on-default-background: var(--sg-text-color, var(--theme-code-foreground, var(--jp-content-font-color1, white)));\n",
       "    --sklearn-color-background: var(--sg-background-color, var(--theme-background, var(--jp-layout-color0, #111)));\n",
       "    --sklearn-color-border-box: var(--sg-text-color, var(--theme-code-foreground, var(--jp-content-font-color1, white)));\n",
       "    --sklearn-color-icon: #878787;\n",
       "  }\n",
       "}\n",
       "\n",
<<<<<<< HEAD
       "#sk-container-id-5 {\n",
       "  color: var(--sklearn-color-text);\n",
       "}\n",
       "\n",
       "#sk-container-id-5 pre {\n",
       "  padding: 0;\n",
       "}\n",
       "\n",
       "#sk-container-id-5 input.sk-hidden--visually {\n",
=======
       "#sk-container-id-1 {\n",
       "  color: var(--sklearn-color-text);\n",
       "}\n",
       "\n",
       "#sk-container-id-1 pre {\n",
       "  padding: 0;\n",
       "}\n",
       "\n",
       "#sk-container-id-1 input.sk-hidden--visually {\n",
>>>>>>> 5a6dd52f8e0999325c4df24e29d9267d27ab28c8
       "  border: 0;\n",
       "  clip: rect(1px 1px 1px 1px);\n",
       "  clip: rect(1px, 1px, 1px, 1px);\n",
       "  height: 1px;\n",
       "  margin: -1px;\n",
       "  overflow: hidden;\n",
       "  padding: 0;\n",
       "  position: absolute;\n",
       "  width: 1px;\n",
       "}\n",
       "\n",
<<<<<<< HEAD
       "#sk-container-id-5 div.sk-dashed-wrapped {\n",
=======
       "#sk-container-id-1 div.sk-dashed-wrapped {\n",
>>>>>>> 5a6dd52f8e0999325c4df24e29d9267d27ab28c8
       "  border: 1px dashed var(--sklearn-color-line);\n",
       "  margin: 0 0.4em 0.5em 0.4em;\n",
       "  box-sizing: border-box;\n",
       "  padding-bottom: 0.4em;\n",
       "  background-color: var(--sklearn-color-background);\n",
       "}\n",
       "\n",
<<<<<<< HEAD
       "#sk-container-id-5 div.sk-container {\n",
=======
       "#sk-container-id-1 div.sk-container {\n",
>>>>>>> 5a6dd52f8e0999325c4df24e29d9267d27ab28c8
       "  /* jupyter's `normalize.less` sets `[hidden] { display: none; }`\n",
       "     but bootstrap.min.css set `[hidden] { display: none !important; }`\n",
       "     so we also need the `!important` here to be able to override the\n",
       "     default hidden behavior on the sphinx rendered scikit-learn.org.\n",
       "     See: https://github.com/scikit-learn/scikit-learn/issues/21755 */\n",
       "  display: inline-block !important;\n",
       "  position: relative;\n",
       "}\n",
       "\n",
<<<<<<< HEAD
       "#sk-container-id-5 div.sk-text-repr-fallback {\n",
=======
       "#sk-container-id-1 div.sk-text-repr-fallback {\n",
>>>>>>> 5a6dd52f8e0999325c4df24e29d9267d27ab28c8
       "  display: none;\n",
       "}\n",
       "\n",
       "div.sk-parallel-item,\n",
       "div.sk-serial,\n",
       "div.sk-item {\n",
       "  /* draw centered vertical line to link estimators */\n",
       "  background-image: linear-gradient(var(--sklearn-color-text-on-default-background), var(--sklearn-color-text-on-default-background));\n",
       "  background-size: 2px 100%;\n",
       "  background-repeat: no-repeat;\n",
       "  background-position: center center;\n",
       "}\n",
       "\n",
       "/* Parallel-specific style estimator block */\n",
       "\n",
<<<<<<< HEAD
       "#sk-container-id-5 div.sk-parallel-item::after {\n",
=======
       "#sk-container-id-1 div.sk-parallel-item::after {\n",
>>>>>>> 5a6dd52f8e0999325c4df24e29d9267d27ab28c8
       "  content: \"\";\n",
       "  width: 100%;\n",
       "  border-bottom: 2px solid var(--sklearn-color-text-on-default-background);\n",
       "  flex-grow: 1;\n",
       "}\n",
       "\n",
<<<<<<< HEAD
       "#sk-container-id-5 div.sk-parallel {\n",
=======
       "#sk-container-id-1 div.sk-parallel {\n",
>>>>>>> 5a6dd52f8e0999325c4df24e29d9267d27ab28c8
       "  display: flex;\n",
       "  align-items: stretch;\n",
       "  justify-content: center;\n",
       "  background-color: var(--sklearn-color-background);\n",
       "  position: relative;\n",
       "}\n",
       "\n",
<<<<<<< HEAD
       "#sk-container-id-5 div.sk-parallel-item {\n",
=======
       "#sk-container-id-1 div.sk-parallel-item {\n",
>>>>>>> 5a6dd52f8e0999325c4df24e29d9267d27ab28c8
       "  display: flex;\n",
       "  flex-direction: column;\n",
       "}\n",
       "\n",
<<<<<<< HEAD
       "#sk-container-id-5 div.sk-parallel-item:first-child::after {\n",
=======
       "#sk-container-id-1 div.sk-parallel-item:first-child::after {\n",
>>>>>>> 5a6dd52f8e0999325c4df24e29d9267d27ab28c8
       "  align-self: flex-end;\n",
       "  width: 50%;\n",
       "}\n",
       "\n",
<<<<<<< HEAD
       "#sk-container-id-5 div.sk-parallel-item:last-child::after {\n",
=======
       "#sk-container-id-1 div.sk-parallel-item:last-child::after {\n",
>>>>>>> 5a6dd52f8e0999325c4df24e29d9267d27ab28c8
       "  align-self: flex-start;\n",
       "  width: 50%;\n",
       "}\n",
       "\n",
<<<<<<< HEAD
       "#sk-container-id-5 div.sk-parallel-item:only-child::after {\n",
=======
       "#sk-container-id-1 div.sk-parallel-item:only-child::after {\n",
>>>>>>> 5a6dd52f8e0999325c4df24e29d9267d27ab28c8
       "  width: 0;\n",
       "}\n",
       "\n",
       "/* Serial-specific style estimator block */\n",
       "\n",
<<<<<<< HEAD
       "#sk-container-id-5 div.sk-serial {\n",
=======
       "#sk-container-id-1 div.sk-serial {\n",
>>>>>>> 5a6dd52f8e0999325c4df24e29d9267d27ab28c8
       "  display: flex;\n",
       "  flex-direction: column;\n",
       "  align-items: center;\n",
       "  background-color: var(--sklearn-color-background);\n",
       "  padding-right: 1em;\n",
       "  padding-left: 1em;\n",
       "}\n",
       "\n",
       "\n",
       "/* Toggleable style: style used for estimator/Pipeline/ColumnTransformer box that is\n",
       "clickable and can be expanded/collapsed.\n",
       "- Pipeline and ColumnTransformer use this feature and define the default style\n",
       "- Estimators will overwrite some part of the style using the `sk-estimator` class\n",
       "*/\n",
       "\n",
       "/* Pipeline and ColumnTransformer style (default) */\n",
       "\n",
<<<<<<< HEAD
       "#sk-container-id-5 div.sk-toggleable {\n",
=======
       "#sk-container-id-1 div.sk-toggleable {\n",
>>>>>>> 5a6dd52f8e0999325c4df24e29d9267d27ab28c8
       "  /* Default theme specific background. It is overwritten whether we have a\n",
       "  specific estimator or a Pipeline/ColumnTransformer */\n",
       "  background-color: var(--sklearn-color-background);\n",
       "}\n",
       "\n",
       "/* Toggleable label */\n",
<<<<<<< HEAD
       "#sk-container-id-5 label.sk-toggleable__label {\n",
=======
       "#sk-container-id-1 label.sk-toggleable__label {\n",
>>>>>>> 5a6dd52f8e0999325c4df24e29d9267d27ab28c8
       "  cursor: pointer;\n",
       "  display: block;\n",
       "  width: 100%;\n",
       "  margin-bottom: 0;\n",
       "  padding: 0.5em;\n",
       "  box-sizing: border-box;\n",
       "  text-align: center;\n",
       "}\n",
       "\n",
<<<<<<< HEAD
       "#sk-container-id-5 label.sk-toggleable__label-arrow:before {\n",
=======
       "#sk-container-id-1 label.sk-toggleable__label-arrow:before {\n",
>>>>>>> 5a6dd52f8e0999325c4df24e29d9267d27ab28c8
       "  /* Arrow on the left of the label */\n",
       "  content: \"▸\";\n",
       "  float: left;\n",
       "  margin-right: 0.25em;\n",
       "  color: var(--sklearn-color-icon);\n",
       "}\n",
       "\n",
<<<<<<< HEAD
       "#sk-container-id-5 label.sk-toggleable__label-arrow:hover:before {\n",
=======
       "#sk-container-id-1 label.sk-toggleable__label-arrow:hover:before {\n",
>>>>>>> 5a6dd52f8e0999325c4df24e29d9267d27ab28c8
       "  color: var(--sklearn-color-text);\n",
       "}\n",
       "\n",
       "/* Toggleable content - dropdown */\n",
       "\n",
<<<<<<< HEAD
       "#sk-container-id-5 div.sk-toggleable__content {\n",
=======
       "#sk-container-id-1 div.sk-toggleable__content {\n",
>>>>>>> 5a6dd52f8e0999325c4df24e29d9267d27ab28c8
       "  max-height: 0;\n",
       "  max-width: 0;\n",
       "  overflow: hidden;\n",
       "  text-align: left;\n",
       "  /* unfitted */\n",
       "  background-color: var(--sklearn-color-unfitted-level-0);\n",
       "}\n",
       "\n",
<<<<<<< HEAD
       "#sk-container-id-5 div.sk-toggleable__content.fitted {\n",
=======
       "#sk-container-id-1 div.sk-toggleable__content.fitted {\n",
>>>>>>> 5a6dd52f8e0999325c4df24e29d9267d27ab28c8
       "  /* fitted */\n",
       "  background-color: var(--sklearn-color-fitted-level-0);\n",
       "}\n",
       "\n",
<<<<<<< HEAD
       "#sk-container-id-5 div.sk-toggleable__content pre {\n",
=======
       "#sk-container-id-1 div.sk-toggleable__content pre {\n",
>>>>>>> 5a6dd52f8e0999325c4df24e29d9267d27ab28c8
       "  margin: 0.2em;\n",
       "  border-radius: 0.25em;\n",
       "  color: var(--sklearn-color-text);\n",
       "  /* unfitted */\n",
       "  background-color: var(--sklearn-color-unfitted-level-0);\n",
       "}\n",
       "\n",
<<<<<<< HEAD
       "#sk-container-id-5 div.sk-toggleable__content.fitted pre {\n",
=======
       "#sk-container-id-1 div.sk-toggleable__content.fitted pre {\n",
>>>>>>> 5a6dd52f8e0999325c4df24e29d9267d27ab28c8
       "  /* unfitted */\n",
       "  background-color: var(--sklearn-color-fitted-level-0);\n",
       "}\n",
       "\n",
<<<<<<< HEAD
       "#sk-container-id-5 input.sk-toggleable__control:checked~div.sk-toggleable__content {\n",
=======
       "#sk-container-id-1 input.sk-toggleable__control:checked~div.sk-toggleable__content {\n",
>>>>>>> 5a6dd52f8e0999325c4df24e29d9267d27ab28c8
       "  /* Expand drop-down */\n",
       "  max-height: 200px;\n",
       "  max-width: 100%;\n",
       "  overflow: auto;\n",
       "}\n",
       "\n",
<<<<<<< HEAD
       "#sk-container-id-5 input.sk-toggleable__control:checked~label.sk-toggleable__label-arrow:before {\n",
=======
       "#sk-container-id-1 input.sk-toggleable__control:checked~label.sk-toggleable__label-arrow:before {\n",
>>>>>>> 5a6dd52f8e0999325c4df24e29d9267d27ab28c8
       "  content: \"▾\";\n",
       "}\n",
       "\n",
       "/* Pipeline/ColumnTransformer-specific style */\n",
       "\n",
<<<<<<< HEAD
       "#sk-container-id-5 div.sk-label input.sk-toggleable__control:checked~label.sk-toggleable__label {\n",
=======
       "#sk-container-id-1 div.sk-label input.sk-toggleable__control:checked~label.sk-toggleable__label {\n",
>>>>>>> 5a6dd52f8e0999325c4df24e29d9267d27ab28c8
       "  color: var(--sklearn-color-text);\n",
       "  background-color: var(--sklearn-color-unfitted-level-2);\n",
       "}\n",
       "\n",
<<<<<<< HEAD
       "#sk-container-id-5 div.sk-label.fitted input.sk-toggleable__control:checked~label.sk-toggleable__label {\n",
=======
       "#sk-container-id-1 div.sk-label.fitted input.sk-toggleable__control:checked~label.sk-toggleable__label {\n",
>>>>>>> 5a6dd52f8e0999325c4df24e29d9267d27ab28c8
       "  background-color: var(--sklearn-color-fitted-level-2);\n",
       "}\n",
       "\n",
       "/* Estimator-specific style */\n",
       "\n",
       "/* Colorize estimator box */\n",
<<<<<<< HEAD
       "#sk-container-id-5 div.sk-estimator input.sk-toggleable__control:checked~label.sk-toggleable__label {\n",
=======
       "#sk-container-id-1 div.sk-estimator input.sk-toggleable__control:checked~label.sk-toggleable__label {\n",
>>>>>>> 5a6dd52f8e0999325c4df24e29d9267d27ab28c8
       "  /* unfitted */\n",
       "  background-color: var(--sklearn-color-unfitted-level-2);\n",
       "}\n",
       "\n",
<<<<<<< HEAD
       "#sk-container-id-5 div.sk-estimator.fitted input.sk-toggleable__control:checked~label.sk-toggleable__label {\n",
=======
       "#sk-container-id-1 div.sk-estimator.fitted input.sk-toggleable__control:checked~label.sk-toggleable__label {\n",
>>>>>>> 5a6dd52f8e0999325c4df24e29d9267d27ab28c8
       "  /* fitted */\n",
       "  background-color: var(--sklearn-color-fitted-level-2);\n",
       "}\n",
       "\n",
<<<<<<< HEAD
       "#sk-container-id-5 div.sk-label label.sk-toggleable__label,\n",
       "#sk-container-id-5 div.sk-label label {\n",
=======
       "#sk-container-id-1 div.sk-label label.sk-toggleable__label,\n",
       "#sk-container-id-1 div.sk-label label {\n",
>>>>>>> 5a6dd52f8e0999325c4df24e29d9267d27ab28c8
       "  /* The background is the default theme color */\n",
       "  color: var(--sklearn-color-text-on-default-background);\n",
       "}\n",
       "\n",
       "/* On hover, darken the color of the background */\n",
<<<<<<< HEAD
       "#sk-container-id-5 div.sk-label:hover label.sk-toggleable__label {\n",
=======
       "#sk-container-id-1 div.sk-label:hover label.sk-toggleable__label {\n",
>>>>>>> 5a6dd52f8e0999325c4df24e29d9267d27ab28c8
       "  color: var(--sklearn-color-text);\n",
       "  background-color: var(--sklearn-color-unfitted-level-2);\n",
       "}\n",
       "\n",
       "/* Label box, darken color on hover, fitted */\n",
<<<<<<< HEAD
       "#sk-container-id-5 div.sk-label.fitted:hover label.sk-toggleable__label.fitted {\n",
=======
       "#sk-container-id-1 div.sk-label.fitted:hover label.sk-toggleable__label.fitted {\n",
>>>>>>> 5a6dd52f8e0999325c4df24e29d9267d27ab28c8
       "  color: var(--sklearn-color-text);\n",
       "  background-color: var(--sklearn-color-fitted-level-2);\n",
       "}\n",
       "\n",
       "/* Estimator label */\n",
       "\n",
<<<<<<< HEAD
       "#sk-container-id-5 div.sk-label label {\n",
=======
       "#sk-container-id-1 div.sk-label label {\n",
>>>>>>> 5a6dd52f8e0999325c4df24e29d9267d27ab28c8
       "  font-family: monospace;\n",
       "  font-weight: bold;\n",
       "  display: inline-block;\n",
       "  line-height: 1.2em;\n",
       "}\n",
       "\n",
<<<<<<< HEAD
       "#sk-container-id-5 div.sk-label-container {\n",
=======
       "#sk-container-id-1 div.sk-label-container {\n",
>>>>>>> 5a6dd52f8e0999325c4df24e29d9267d27ab28c8
       "  text-align: center;\n",
       "}\n",
       "\n",
       "/* Estimator-specific */\n",
<<<<<<< HEAD
       "#sk-container-id-5 div.sk-estimator {\n",
=======
       "#sk-container-id-1 div.sk-estimator {\n",
>>>>>>> 5a6dd52f8e0999325c4df24e29d9267d27ab28c8
       "  font-family: monospace;\n",
       "  border: 1px dotted var(--sklearn-color-border-box);\n",
       "  border-radius: 0.25em;\n",
       "  box-sizing: border-box;\n",
       "  margin-bottom: 0.5em;\n",
       "  /* unfitted */\n",
       "  background-color: var(--sklearn-color-unfitted-level-0);\n",
       "}\n",
       "\n",
<<<<<<< HEAD
       "#sk-container-id-5 div.sk-estimator.fitted {\n",
=======
       "#sk-container-id-1 div.sk-estimator.fitted {\n",
>>>>>>> 5a6dd52f8e0999325c4df24e29d9267d27ab28c8
       "  /* fitted */\n",
       "  background-color: var(--sklearn-color-fitted-level-0);\n",
       "}\n",
       "\n",
       "/* on hover */\n",
<<<<<<< HEAD
       "#sk-container-id-5 div.sk-estimator:hover {\n",
=======
       "#sk-container-id-1 div.sk-estimator:hover {\n",
>>>>>>> 5a6dd52f8e0999325c4df24e29d9267d27ab28c8
       "  /* unfitted */\n",
       "  background-color: var(--sklearn-color-unfitted-level-2);\n",
       "}\n",
       "\n",
<<<<<<< HEAD
       "#sk-container-id-5 div.sk-estimator.fitted:hover {\n",
=======
       "#sk-container-id-1 div.sk-estimator.fitted:hover {\n",
>>>>>>> 5a6dd52f8e0999325c4df24e29d9267d27ab28c8
       "  /* fitted */\n",
       "  background-color: var(--sklearn-color-fitted-level-2);\n",
       "}\n",
       "\n",
       "/* Specification for estimator info (e.g. \"i\" and \"?\") */\n",
       "\n",
       "/* Common style for \"i\" and \"?\" */\n",
       "\n",
       ".sk-estimator-doc-link,\n",
       "a:link.sk-estimator-doc-link,\n",
       "a:visited.sk-estimator-doc-link {\n",
       "  float: right;\n",
       "  font-size: smaller;\n",
       "  line-height: 1em;\n",
       "  font-family: monospace;\n",
       "  background-color: var(--sklearn-color-background);\n",
       "  border-radius: 1em;\n",
       "  height: 1em;\n",
       "  width: 1em;\n",
       "  text-decoration: none !important;\n",
       "  margin-left: 1ex;\n",
       "  /* unfitted */\n",
       "  border: var(--sklearn-color-unfitted-level-1) 1pt solid;\n",
       "  color: var(--sklearn-color-unfitted-level-1);\n",
       "}\n",
       "\n",
       ".sk-estimator-doc-link.fitted,\n",
       "a:link.sk-estimator-doc-link.fitted,\n",
       "a:visited.sk-estimator-doc-link.fitted {\n",
       "  /* fitted */\n",
       "  border: var(--sklearn-color-fitted-level-1) 1pt solid;\n",
       "  color: var(--sklearn-color-fitted-level-1);\n",
       "}\n",
       "\n",
       "/* On hover */\n",
       "div.sk-estimator:hover .sk-estimator-doc-link:hover,\n",
       ".sk-estimator-doc-link:hover,\n",
       "div.sk-label-container:hover .sk-estimator-doc-link:hover,\n",
       ".sk-estimator-doc-link:hover {\n",
       "  /* unfitted */\n",
       "  background-color: var(--sklearn-color-unfitted-level-3);\n",
       "  color: var(--sklearn-color-background);\n",
       "  text-decoration: none;\n",
       "}\n",
       "\n",
       "div.sk-estimator.fitted:hover .sk-estimator-doc-link.fitted:hover,\n",
       ".sk-estimator-doc-link.fitted:hover,\n",
       "div.sk-label-container:hover .sk-estimator-doc-link.fitted:hover,\n",
       ".sk-estimator-doc-link.fitted:hover {\n",
       "  /* fitted */\n",
       "  background-color: var(--sklearn-color-fitted-level-3);\n",
       "  color: var(--sklearn-color-background);\n",
       "  text-decoration: none;\n",
       "}\n",
       "\n",
       "/* Span, style for the box shown on hovering the info icon */\n",
       ".sk-estimator-doc-link span {\n",
       "  display: none;\n",
       "  z-index: 9999;\n",
       "  position: relative;\n",
       "  font-weight: normal;\n",
       "  right: .2ex;\n",
       "  padding: .5ex;\n",
       "  margin: .5ex;\n",
       "  width: min-content;\n",
       "  min-width: 20ex;\n",
       "  max-width: 50ex;\n",
       "  color: var(--sklearn-color-text);\n",
       "  box-shadow: 2pt 2pt 4pt #999;\n",
       "  /* unfitted */\n",
       "  background: var(--sklearn-color-unfitted-level-0);\n",
       "  border: .5pt solid var(--sklearn-color-unfitted-level-3);\n",
       "}\n",
       "\n",
       ".sk-estimator-doc-link.fitted span {\n",
       "  /* fitted */\n",
       "  background: var(--sklearn-color-fitted-level-0);\n",
       "  border: var(--sklearn-color-fitted-level-3);\n",
       "}\n",
       "\n",
       ".sk-estimator-doc-link:hover span {\n",
       "  display: block;\n",
       "}\n",
       "\n",
       "/* \"?\"-specific style due to the `<a>` HTML tag */\n",
       "\n",
<<<<<<< HEAD
       "#sk-container-id-5 a.estimator_doc_link {\n",
=======
       "#sk-container-id-1 a.estimator_doc_link {\n",
>>>>>>> 5a6dd52f8e0999325c4df24e29d9267d27ab28c8
       "  float: right;\n",
       "  font-size: 1rem;\n",
       "  line-height: 1em;\n",
       "  font-family: monospace;\n",
       "  background-color: var(--sklearn-color-background);\n",
       "  border-radius: 1rem;\n",
       "  height: 1rem;\n",
       "  width: 1rem;\n",
       "  text-decoration: none;\n",
       "  /* unfitted */\n",
       "  color: var(--sklearn-color-unfitted-level-1);\n",
       "  border: var(--sklearn-color-unfitted-level-1) 1pt solid;\n",
       "}\n",
       "\n",
<<<<<<< HEAD
       "#sk-container-id-5 a.estimator_doc_link.fitted {\n",
=======
       "#sk-container-id-1 a.estimator_doc_link.fitted {\n",
>>>>>>> 5a6dd52f8e0999325c4df24e29d9267d27ab28c8
       "  /* fitted */\n",
       "  border: var(--sklearn-color-fitted-level-1) 1pt solid;\n",
       "  color: var(--sklearn-color-fitted-level-1);\n",
       "}\n",
       "\n",
       "/* On hover */\n",
<<<<<<< HEAD
       "#sk-container-id-5 a.estimator_doc_link:hover {\n",
=======
       "#sk-container-id-1 a.estimator_doc_link:hover {\n",
>>>>>>> 5a6dd52f8e0999325c4df24e29d9267d27ab28c8
       "  /* unfitted */\n",
       "  background-color: var(--sklearn-color-unfitted-level-3);\n",
       "  color: var(--sklearn-color-background);\n",
       "  text-decoration: none;\n",
       "}\n",
       "\n",
<<<<<<< HEAD
       "#sk-container-id-5 a.estimator_doc_link.fitted:hover {\n",
       "  /* fitted */\n",
       "  background-color: var(--sklearn-color-fitted-level-3);\n",
       "}\n",
       "</style><div id=\"sk-container-id-5\" class=\"sk-top-container\"><div class=\"sk-text-repr-fallback\"><pre>GridSearchCV(cv=3, estimator=RandomForestRegressor(),\n",
       "             param_grid={&#x27;n_estimators&#x27;: [50, 100, 150, 200, 250, 300]})</pre><b>In a Jupyter environment, please rerun this cell to show the HTML representation or trust the notebook. <br />On GitHub, the HTML representation is unable to render, please try loading this page with nbviewer.org.</b></div><div class=\"sk-container\" hidden><div class=\"sk-item sk-dashed-wrapped\"><div class=\"sk-label-container\"><div class=\"sk-label fitted sk-toggleable\"><input class=\"sk-toggleable__control sk-hidden--visually\" id=\"sk-estimator-id-9\" type=\"checkbox\" ><label for=\"sk-estimator-id-9\" class=\"sk-toggleable__label fitted sk-toggleable__label-arrow fitted\">&nbsp;&nbsp;GridSearchCV<a class=\"sk-estimator-doc-link fitted\" rel=\"noreferrer\" target=\"_blank\" href=\"https://scikit-learn.org/1.4/modules/generated/sklearn.model_selection.GridSearchCV.html\">?<span>Documentation for GridSearchCV</span></a><span class=\"sk-estimator-doc-link fitted\">i<span>Fitted</span></span></label><div class=\"sk-toggleable__content fitted\"><pre>GridSearchCV(cv=3, estimator=RandomForestRegressor(),\n",
       "             param_grid={&#x27;n_estimators&#x27;: [50, 100, 150, 200, 250, 300]})</pre></div> </div></div><div class=\"sk-parallel\"><div class=\"sk-parallel-item\"><div class=\"sk-item\"><div class=\"sk-label-container\"><div class=\"sk-label fitted sk-toggleable\"><input class=\"sk-toggleable__control sk-hidden--visually\" id=\"sk-estimator-id-10\" type=\"checkbox\" ><label for=\"sk-estimator-id-10\" class=\"sk-toggleable__label fitted sk-toggleable__label-arrow fitted\">estimator: RandomForestRegressor</label><div class=\"sk-toggleable__content fitted\"><pre>RandomForestRegressor()</pre></div> </div></div><div class=\"sk-serial\"><div class=\"sk-item\"><div class=\"sk-estimator fitted sk-toggleable\"><input class=\"sk-toggleable__control sk-hidden--visually\" id=\"sk-estimator-id-11\" type=\"checkbox\" ><label for=\"sk-estimator-id-11\" class=\"sk-toggleable__label fitted sk-toggleable__label-arrow fitted\">&nbsp;RandomForestRegressor<a class=\"sk-estimator-doc-link fitted\" rel=\"noreferrer\" target=\"_blank\" href=\"https://scikit-learn.org/1.4/modules/generated/sklearn.ensemble.RandomForestRegressor.html\">?<span>Documentation for RandomForestRegressor</span></a></label><div class=\"sk-toggleable__content fitted\"><pre>RandomForestRegressor()</pre></div> </div></div></div></div></div></div></div></div></div>"
=======
       "#sk-container-id-1 a.estimator_doc_link.fitted:hover {\n",
       "  /* fitted */\n",
       "  background-color: var(--sklearn-color-fitted-level-3);\n",
       "}\n",
       "</style><div id=\"sk-container-id-1\" class=\"sk-top-container\"><div class=\"sk-text-repr-fallback\"><pre>GridSearchCV(cv=3, estimator=RandomForestRegressor(),\n",
       "             param_grid={&#x27;n_estimators&#x27;: [50, 100, 150, 200, 250, 300]})</pre><b>In a Jupyter environment, please rerun this cell to show the HTML representation or trust the notebook. <br />On GitHub, the HTML representation is unable to render, please try loading this page with nbviewer.org.</b></div><div class=\"sk-container\" hidden><div class=\"sk-item sk-dashed-wrapped\"><div class=\"sk-label-container\"><div class=\"sk-label fitted sk-toggleable\"><input class=\"sk-toggleable__control sk-hidden--visually\" id=\"sk-estimator-id-1\" type=\"checkbox\" ><label for=\"sk-estimator-id-1\" class=\"sk-toggleable__label fitted sk-toggleable__label-arrow fitted\">&nbsp;&nbsp;GridSearchCV<a class=\"sk-estimator-doc-link fitted\" rel=\"noreferrer\" target=\"_blank\" href=\"https://scikit-learn.org/1.5/modules/generated/sklearn.model_selection.GridSearchCV.html\">?<span>Documentation for GridSearchCV</span></a><span class=\"sk-estimator-doc-link fitted\">i<span>Fitted</span></span></label><div class=\"sk-toggleable__content fitted\"><pre>GridSearchCV(cv=3, estimator=RandomForestRegressor(),\n",
       "             param_grid={&#x27;n_estimators&#x27;: [50, 100, 150, 200, 250, 300]})</pre></div> </div></div><div class=\"sk-parallel\"><div class=\"sk-parallel-item\"><div class=\"sk-item\"><div class=\"sk-label-container\"><div class=\"sk-label fitted sk-toggleable\"><input class=\"sk-toggleable__control sk-hidden--visually\" id=\"sk-estimator-id-2\" type=\"checkbox\" ><label for=\"sk-estimator-id-2\" class=\"sk-toggleable__label fitted sk-toggleable__label-arrow fitted\">best_estimator_: RandomForestRegressor</label><div class=\"sk-toggleable__content fitted\"><pre>RandomForestRegressor(n_estimators=250)</pre></div> </div></div><div class=\"sk-serial\"><div class=\"sk-item\"><div class=\"sk-estimator fitted sk-toggleable\"><input class=\"sk-toggleable__control sk-hidden--visually\" id=\"sk-estimator-id-3\" type=\"checkbox\" ><label for=\"sk-estimator-id-3\" class=\"sk-toggleable__label fitted sk-toggleable__label-arrow fitted\">&nbsp;RandomForestRegressor<a class=\"sk-estimator-doc-link fitted\" rel=\"noreferrer\" target=\"_blank\" href=\"https://scikit-learn.org/1.5/modules/generated/sklearn.ensemble.RandomForestRegressor.html\">?<span>Documentation for RandomForestRegressor</span></a></label><div class=\"sk-toggleable__content fitted\"><pre>RandomForestRegressor(n_estimators=250)</pre></div> </div></div></div></div></div></div></div></div></div>"
>>>>>>> 5a6dd52f8e0999325c4df24e29d9267d27ab28c8
      ],
      "text/plain": [
       "GridSearchCV(cv=3, estimator=RandomForestRegressor(),\n",
       "             param_grid={'n_estimators': [50, 100, 150, 200, 250, 300]})"
      ]
     },
<<<<<<< HEAD
     "execution_count": 63,
=======
     "execution_count": 15,
>>>>>>> 5a6dd52f8e0999325c4df24e29d9267d27ab28c8
     "metadata": {},
     "output_type": "execute_result"
    }
   ],
   "source": [
    "rf = RandomForestRegressor()\n",
    " \n",
    "param_grid = {\n",
    "    'n_estimators': [50, 100, 150, 200, 250, 300]\n",
    "}\n",
    "grid_search_rf = GridSearchCV(estimator=rf, param_grid=param_grid, cv=3)\n",
    "grid_search_rf.fit(X_train, y_train)\n"
   ]
  },
  {
   "cell_type": "code",
<<<<<<< HEAD
   "execution_count": 64,
=======
   "execution_count": 16,
>>>>>>> 5a6dd52f8e0999325c4df24e29d9267d27ab28c8
   "metadata": {},
   "outputs": [
    {
     "data": {
      "text/html": [
<<<<<<< HEAD
       "<style>#sk-container-id-6 {\n",
=======
       "<style>#sk-container-id-2 {\n",
>>>>>>> 5a6dd52f8e0999325c4df24e29d9267d27ab28c8
       "  /* Definition of color scheme common for light and dark mode */\n",
       "  --sklearn-color-text: black;\n",
       "  --sklearn-color-line: gray;\n",
       "  /* Definition of color scheme for unfitted estimators */\n",
       "  --sklearn-color-unfitted-level-0: #fff5e6;\n",
       "  --sklearn-color-unfitted-level-1: #f6e4d2;\n",
       "  --sklearn-color-unfitted-level-2: #ffe0b3;\n",
       "  --sklearn-color-unfitted-level-3: chocolate;\n",
       "  /* Definition of color scheme for fitted estimators */\n",
       "  --sklearn-color-fitted-level-0: #f0f8ff;\n",
       "  --sklearn-color-fitted-level-1: #d4ebff;\n",
       "  --sklearn-color-fitted-level-2: #b3dbfd;\n",
       "  --sklearn-color-fitted-level-3: cornflowerblue;\n",
       "\n",
       "  /* Specific color for light theme */\n",
       "  --sklearn-color-text-on-default-background: var(--sg-text-color, var(--theme-code-foreground, var(--jp-content-font-color1, black)));\n",
       "  --sklearn-color-background: var(--sg-background-color, var(--theme-background, var(--jp-layout-color0, white)));\n",
       "  --sklearn-color-border-box: var(--sg-text-color, var(--theme-code-foreground, var(--jp-content-font-color1, black)));\n",
       "  --sklearn-color-icon: #696969;\n",
       "\n",
       "  @media (prefers-color-scheme: dark) {\n",
       "    /* Redefinition of color scheme for dark theme */\n",
       "    --sklearn-color-text-on-default-background: var(--sg-text-color, var(--theme-code-foreground, var(--jp-content-font-color1, white)));\n",
       "    --sklearn-color-background: var(--sg-background-color, var(--theme-background, var(--jp-layout-color0, #111)));\n",
       "    --sklearn-color-border-box: var(--sg-text-color, var(--theme-code-foreground, var(--jp-content-font-color1, white)));\n",
       "    --sklearn-color-icon: #878787;\n",
       "  }\n",
       "}\n",
       "\n",
<<<<<<< HEAD
       "#sk-container-id-6 {\n",
       "  color: var(--sklearn-color-text);\n",
       "}\n",
       "\n",
       "#sk-container-id-6 pre {\n",
       "  padding: 0;\n",
       "}\n",
       "\n",
       "#sk-container-id-6 input.sk-hidden--visually {\n",
=======
       "#sk-container-id-2 {\n",
       "  color: var(--sklearn-color-text);\n",
       "}\n",
       "\n",
       "#sk-container-id-2 pre {\n",
       "  padding: 0;\n",
       "}\n",
       "\n",
       "#sk-container-id-2 input.sk-hidden--visually {\n",
>>>>>>> 5a6dd52f8e0999325c4df24e29d9267d27ab28c8
       "  border: 0;\n",
       "  clip: rect(1px 1px 1px 1px);\n",
       "  clip: rect(1px, 1px, 1px, 1px);\n",
       "  height: 1px;\n",
       "  margin: -1px;\n",
       "  overflow: hidden;\n",
       "  padding: 0;\n",
       "  position: absolute;\n",
       "  width: 1px;\n",
       "}\n",
       "\n",
<<<<<<< HEAD
       "#sk-container-id-6 div.sk-dashed-wrapped {\n",
=======
       "#sk-container-id-2 div.sk-dashed-wrapped {\n",
>>>>>>> 5a6dd52f8e0999325c4df24e29d9267d27ab28c8
       "  border: 1px dashed var(--sklearn-color-line);\n",
       "  margin: 0 0.4em 0.5em 0.4em;\n",
       "  box-sizing: border-box;\n",
       "  padding-bottom: 0.4em;\n",
       "  background-color: var(--sklearn-color-background);\n",
       "}\n",
       "\n",
<<<<<<< HEAD
       "#sk-container-id-6 div.sk-container {\n",
=======
       "#sk-container-id-2 div.sk-container {\n",
>>>>>>> 5a6dd52f8e0999325c4df24e29d9267d27ab28c8
       "  /* jupyter's `normalize.less` sets `[hidden] { display: none; }`\n",
       "     but bootstrap.min.css set `[hidden] { display: none !important; }`\n",
       "     so we also need the `!important` here to be able to override the\n",
       "     default hidden behavior on the sphinx rendered scikit-learn.org.\n",
       "     See: https://github.com/scikit-learn/scikit-learn/issues/21755 */\n",
       "  display: inline-block !important;\n",
       "  position: relative;\n",
       "}\n",
       "\n",
<<<<<<< HEAD
       "#sk-container-id-6 div.sk-text-repr-fallback {\n",
=======
       "#sk-container-id-2 div.sk-text-repr-fallback {\n",
>>>>>>> 5a6dd52f8e0999325c4df24e29d9267d27ab28c8
       "  display: none;\n",
       "}\n",
       "\n",
       "div.sk-parallel-item,\n",
       "div.sk-serial,\n",
       "div.sk-item {\n",
       "  /* draw centered vertical line to link estimators */\n",
       "  background-image: linear-gradient(var(--sklearn-color-text-on-default-background), var(--sklearn-color-text-on-default-background));\n",
       "  background-size: 2px 100%;\n",
       "  background-repeat: no-repeat;\n",
       "  background-position: center center;\n",
       "}\n",
       "\n",
       "/* Parallel-specific style estimator block */\n",
       "\n",
<<<<<<< HEAD
       "#sk-container-id-6 div.sk-parallel-item::after {\n",
=======
       "#sk-container-id-2 div.sk-parallel-item::after {\n",
>>>>>>> 5a6dd52f8e0999325c4df24e29d9267d27ab28c8
       "  content: \"\";\n",
       "  width: 100%;\n",
       "  border-bottom: 2px solid var(--sklearn-color-text-on-default-background);\n",
       "  flex-grow: 1;\n",
       "}\n",
       "\n",
<<<<<<< HEAD
       "#sk-container-id-6 div.sk-parallel {\n",
=======
       "#sk-container-id-2 div.sk-parallel {\n",
>>>>>>> 5a6dd52f8e0999325c4df24e29d9267d27ab28c8
       "  display: flex;\n",
       "  align-items: stretch;\n",
       "  justify-content: center;\n",
       "  background-color: var(--sklearn-color-background);\n",
       "  position: relative;\n",
       "}\n",
       "\n",
<<<<<<< HEAD
       "#sk-container-id-6 div.sk-parallel-item {\n",
=======
       "#sk-container-id-2 div.sk-parallel-item {\n",
>>>>>>> 5a6dd52f8e0999325c4df24e29d9267d27ab28c8
       "  display: flex;\n",
       "  flex-direction: column;\n",
       "}\n",
       "\n",
<<<<<<< HEAD
       "#sk-container-id-6 div.sk-parallel-item:first-child::after {\n",
=======
       "#sk-container-id-2 div.sk-parallel-item:first-child::after {\n",
>>>>>>> 5a6dd52f8e0999325c4df24e29d9267d27ab28c8
       "  align-self: flex-end;\n",
       "  width: 50%;\n",
       "}\n",
       "\n",
<<<<<<< HEAD
       "#sk-container-id-6 div.sk-parallel-item:last-child::after {\n",
=======
       "#sk-container-id-2 div.sk-parallel-item:last-child::after {\n",
>>>>>>> 5a6dd52f8e0999325c4df24e29d9267d27ab28c8
       "  align-self: flex-start;\n",
       "  width: 50%;\n",
       "}\n",
       "\n",
<<<<<<< HEAD
       "#sk-container-id-6 div.sk-parallel-item:only-child::after {\n",
=======
       "#sk-container-id-2 div.sk-parallel-item:only-child::after {\n",
>>>>>>> 5a6dd52f8e0999325c4df24e29d9267d27ab28c8
       "  width: 0;\n",
       "}\n",
       "\n",
       "/* Serial-specific style estimator block */\n",
       "\n",
<<<<<<< HEAD
       "#sk-container-id-6 div.sk-serial {\n",
=======
       "#sk-container-id-2 div.sk-serial {\n",
>>>>>>> 5a6dd52f8e0999325c4df24e29d9267d27ab28c8
       "  display: flex;\n",
       "  flex-direction: column;\n",
       "  align-items: center;\n",
       "  background-color: var(--sklearn-color-background);\n",
       "  padding-right: 1em;\n",
       "  padding-left: 1em;\n",
       "}\n",
       "\n",
       "\n",
       "/* Toggleable style: style used for estimator/Pipeline/ColumnTransformer box that is\n",
       "clickable and can be expanded/collapsed.\n",
       "- Pipeline and ColumnTransformer use this feature and define the default style\n",
       "- Estimators will overwrite some part of the style using the `sk-estimator` class\n",
       "*/\n",
       "\n",
       "/* Pipeline and ColumnTransformer style (default) */\n",
       "\n",
<<<<<<< HEAD
       "#sk-container-id-6 div.sk-toggleable {\n",
=======
       "#sk-container-id-2 div.sk-toggleable {\n",
>>>>>>> 5a6dd52f8e0999325c4df24e29d9267d27ab28c8
       "  /* Default theme specific background. It is overwritten whether we have a\n",
       "  specific estimator or a Pipeline/ColumnTransformer */\n",
       "  background-color: var(--sklearn-color-background);\n",
       "}\n",
       "\n",
       "/* Toggleable label */\n",
<<<<<<< HEAD
       "#sk-container-id-6 label.sk-toggleable__label {\n",
=======
       "#sk-container-id-2 label.sk-toggleable__label {\n",
>>>>>>> 5a6dd52f8e0999325c4df24e29d9267d27ab28c8
       "  cursor: pointer;\n",
       "  display: block;\n",
       "  width: 100%;\n",
       "  margin-bottom: 0;\n",
       "  padding: 0.5em;\n",
       "  box-sizing: border-box;\n",
       "  text-align: center;\n",
       "}\n",
       "\n",
<<<<<<< HEAD
       "#sk-container-id-6 label.sk-toggleable__label-arrow:before {\n",
=======
       "#sk-container-id-2 label.sk-toggleable__label-arrow:before {\n",
>>>>>>> 5a6dd52f8e0999325c4df24e29d9267d27ab28c8
       "  /* Arrow on the left of the label */\n",
       "  content: \"▸\";\n",
       "  float: left;\n",
       "  margin-right: 0.25em;\n",
       "  color: var(--sklearn-color-icon);\n",
       "}\n",
       "\n",
<<<<<<< HEAD
       "#sk-container-id-6 label.sk-toggleable__label-arrow:hover:before {\n",
=======
       "#sk-container-id-2 label.sk-toggleable__label-arrow:hover:before {\n",
>>>>>>> 5a6dd52f8e0999325c4df24e29d9267d27ab28c8
       "  color: var(--sklearn-color-text);\n",
       "}\n",
       "\n",
       "/* Toggleable content - dropdown */\n",
       "\n",
<<<<<<< HEAD
       "#sk-container-id-6 div.sk-toggleable__content {\n",
=======
       "#sk-container-id-2 div.sk-toggleable__content {\n",
>>>>>>> 5a6dd52f8e0999325c4df24e29d9267d27ab28c8
       "  max-height: 0;\n",
       "  max-width: 0;\n",
       "  overflow: hidden;\n",
       "  text-align: left;\n",
       "  /* unfitted */\n",
       "  background-color: var(--sklearn-color-unfitted-level-0);\n",
       "}\n",
       "\n",
<<<<<<< HEAD
       "#sk-container-id-6 div.sk-toggleable__content.fitted {\n",
=======
       "#sk-container-id-2 div.sk-toggleable__content.fitted {\n",
>>>>>>> 5a6dd52f8e0999325c4df24e29d9267d27ab28c8
       "  /* fitted */\n",
       "  background-color: var(--sklearn-color-fitted-level-0);\n",
       "}\n",
       "\n",
<<<<<<< HEAD
       "#sk-container-id-6 div.sk-toggleable__content pre {\n",
=======
       "#sk-container-id-2 div.sk-toggleable__content pre {\n",
>>>>>>> 5a6dd52f8e0999325c4df24e29d9267d27ab28c8
       "  margin: 0.2em;\n",
       "  border-radius: 0.25em;\n",
       "  color: var(--sklearn-color-text);\n",
       "  /* unfitted */\n",
       "  background-color: var(--sklearn-color-unfitted-level-0);\n",
       "}\n",
       "\n",
<<<<<<< HEAD
       "#sk-container-id-6 div.sk-toggleable__content.fitted pre {\n",
=======
       "#sk-container-id-2 div.sk-toggleable__content.fitted pre {\n",
>>>>>>> 5a6dd52f8e0999325c4df24e29d9267d27ab28c8
       "  /* unfitted */\n",
       "  background-color: var(--sklearn-color-fitted-level-0);\n",
       "}\n",
       "\n",
<<<<<<< HEAD
       "#sk-container-id-6 input.sk-toggleable__control:checked~div.sk-toggleable__content {\n",
=======
       "#sk-container-id-2 input.sk-toggleable__control:checked~div.sk-toggleable__content {\n",
>>>>>>> 5a6dd52f8e0999325c4df24e29d9267d27ab28c8
       "  /* Expand drop-down */\n",
       "  max-height: 200px;\n",
       "  max-width: 100%;\n",
       "  overflow: auto;\n",
       "}\n",
       "\n",
<<<<<<< HEAD
       "#sk-container-id-6 input.sk-toggleable__control:checked~label.sk-toggleable__label-arrow:before {\n",
=======
       "#sk-container-id-2 input.sk-toggleable__control:checked~label.sk-toggleable__label-arrow:before {\n",
>>>>>>> 5a6dd52f8e0999325c4df24e29d9267d27ab28c8
       "  content: \"▾\";\n",
       "}\n",
       "\n",
       "/* Pipeline/ColumnTransformer-specific style */\n",
       "\n",
<<<<<<< HEAD
       "#sk-container-id-6 div.sk-label input.sk-toggleable__control:checked~label.sk-toggleable__label {\n",
=======
       "#sk-container-id-2 div.sk-label input.sk-toggleable__control:checked~label.sk-toggleable__label {\n",
>>>>>>> 5a6dd52f8e0999325c4df24e29d9267d27ab28c8
       "  color: var(--sklearn-color-text);\n",
       "  background-color: var(--sklearn-color-unfitted-level-2);\n",
       "}\n",
       "\n",
<<<<<<< HEAD
       "#sk-container-id-6 div.sk-label.fitted input.sk-toggleable__control:checked~label.sk-toggleable__label {\n",
=======
       "#sk-container-id-2 div.sk-label.fitted input.sk-toggleable__control:checked~label.sk-toggleable__label {\n",
>>>>>>> 5a6dd52f8e0999325c4df24e29d9267d27ab28c8
       "  background-color: var(--sklearn-color-fitted-level-2);\n",
       "}\n",
       "\n",
       "/* Estimator-specific style */\n",
       "\n",
       "/* Colorize estimator box */\n",
<<<<<<< HEAD
       "#sk-container-id-6 div.sk-estimator input.sk-toggleable__control:checked~label.sk-toggleable__label {\n",
=======
       "#sk-container-id-2 div.sk-estimator input.sk-toggleable__control:checked~label.sk-toggleable__label {\n",
>>>>>>> 5a6dd52f8e0999325c4df24e29d9267d27ab28c8
       "  /* unfitted */\n",
       "  background-color: var(--sklearn-color-unfitted-level-2);\n",
       "}\n",
       "\n",
<<<<<<< HEAD
       "#sk-container-id-6 div.sk-estimator.fitted input.sk-toggleable__control:checked~label.sk-toggleable__label {\n",
=======
       "#sk-container-id-2 div.sk-estimator.fitted input.sk-toggleable__control:checked~label.sk-toggleable__label {\n",
>>>>>>> 5a6dd52f8e0999325c4df24e29d9267d27ab28c8
       "  /* fitted */\n",
       "  background-color: var(--sklearn-color-fitted-level-2);\n",
       "}\n",
       "\n",
<<<<<<< HEAD
       "#sk-container-id-6 div.sk-label label.sk-toggleable__label,\n",
       "#sk-container-id-6 div.sk-label label {\n",
=======
       "#sk-container-id-2 div.sk-label label.sk-toggleable__label,\n",
       "#sk-container-id-2 div.sk-label label {\n",
>>>>>>> 5a6dd52f8e0999325c4df24e29d9267d27ab28c8
       "  /* The background is the default theme color */\n",
       "  color: var(--sklearn-color-text-on-default-background);\n",
       "}\n",
       "\n",
       "/* On hover, darken the color of the background */\n",
<<<<<<< HEAD
       "#sk-container-id-6 div.sk-label:hover label.sk-toggleable__label {\n",
=======
       "#sk-container-id-2 div.sk-label:hover label.sk-toggleable__label {\n",
>>>>>>> 5a6dd52f8e0999325c4df24e29d9267d27ab28c8
       "  color: var(--sklearn-color-text);\n",
       "  background-color: var(--sklearn-color-unfitted-level-2);\n",
       "}\n",
       "\n",
       "/* Label box, darken color on hover, fitted */\n",
<<<<<<< HEAD
       "#sk-container-id-6 div.sk-label.fitted:hover label.sk-toggleable__label.fitted {\n",
=======
       "#sk-container-id-2 div.sk-label.fitted:hover label.sk-toggleable__label.fitted {\n",
>>>>>>> 5a6dd52f8e0999325c4df24e29d9267d27ab28c8
       "  color: var(--sklearn-color-text);\n",
       "  background-color: var(--sklearn-color-fitted-level-2);\n",
       "}\n",
       "\n",
       "/* Estimator label */\n",
       "\n",
<<<<<<< HEAD
       "#sk-container-id-6 div.sk-label label {\n",
=======
       "#sk-container-id-2 div.sk-label label {\n",
>>>>>>> 5a6dd52f8e0999325c4df24e29d9267d27ab28c8
       "  font-family: monospace;\n",
       "  font-weight: bold;\n",
       "  display: inline-block;\n",
       "  line-height: 1.2em;\n",
       "}\n",
       "\n",
<<<<<<< HEAD
       "#sk-container-id-6 div.sk-label-container {\n",
=======
       "#sk-container-id-2 div.sk-label-container {\n",
>>>>>>> 5a6dd52f8e0999325c4df24e29d9267d27ab28c8
       "  text-align: center;\n",
       "}\n",
       "\n",
       "/* Estimator-specific */\n",
<<<<<<< HEAD
       "#sk-container-id-6 div.sk-estimator {\n",
=======
       "#sk-container-id-2 div.sk-estimator {\n",
>>>>>>> 5a6dd52f8e0999325c4df24e29d9267d27ab28c8
       "  font-family: monospace;\n",
       "  border: 1px dotted var(--sklearn-color-border-box);\n",
       "  border-radius: 0.25em;\n",
       "  box-sizing: border-box;\n",
       "  margin-bottom: 0.5em;\n",
       "  /* unfitted */\n",
       "  background-color: var(--sklearn-color-unfitted-level-0);\n",
       "}\n",
       "\n",
<<<<<<< HEAD
       "#sk-container-id-6 div.sk-estimator.fitted {\n",
=======
       "#sk-container-id-2 div.sk-estimator.fitted {\n",
>>>>>>> 5a6dd52f8e0999325c4df24e29d9267d27ab28c8
       "  /* fitted */\n",
       "  background-color: var(--sklearn-color-fitted-level-0);\n",
       "}\n",
       "\n",
       "/* on hover */\n",
<<<<<<< HEAD
       "#sk-container-id-6 div.sk-estimator:hover {\n",
=======
       "#sk-container-id-2 div.sk-estimator:hover {\n",
>>>>>>> 5a6dd52f8e0999325c4df24e29d9267d27ab28c8
       "  /* unfitted */\n",
       "  background-color: var(--sklearn-color-unfitted-level-2);\n",
       "}\n",
       "\n",
<<<<<<< HEAD
       "#sk-container-id-6 div.sk-estimator.fitted:hover {\n",
=======
       "#sk-container-id-2 div.sk-estimator.fitted:hover {\n",
>>>>>>> 5a6dd52f8e0999325c4df24e29d9267d27ab28c8
       "  /* fitted */\n",
       "  background-color: var(--sklearn-color-fitted-level-2);\n",
       "}\n",
       "\n",
       "/* Specification for estimator info (e.g. \"i\" and \"?\") */\n",
       "\n",
       "/* Common style for \"i\" and \"?\" */\n",
       "\n",
       ".sk-estimator-doc-link,\n",
       "a:link.sk-estimator-doc-link,\n",
       "a:visited.sk-estimator-doc-link {\n",
       "  float: right;\n",
       "  font-size: smaller;\n",
       "  line-height: 1em;\n",
       "  font-family: monospace;\n",
       "  background-color: var(--sklearn-color-background);\n",
       "  border-radius: 1em;\n",
       "  height: 1em;\n",
       "  width: 1em;\n",
       "  text-decoration: none !important;\n",
       "  margin-left: 1ex;\n",
       "  /* unfitted */\n",
       "  border: var(--sklearn-color-unfitted-level-1) 1pt solid;\n",
       "  color: var(--sklearn-color-unfitted-level-1);\n",
       "}\n",
       "\n",
       ".sk-estimator-doc-link.fitted,\n",
       "a:link.sk-estimator-doc-link.fitted,\n",
       "a:visited.sk-estimator-doc-link.fitted {\n",
       "  /* fitted */\n",
       "  border: var(--sklearn-color-fitted-level-1) 1pt solid;\n",
       "  color: var(--sklearn-color-fitted-level-1);\n",
       "}\n",
       "\n",
       "/* On hover */\n",
       "div.sk-estimator:hover .sk-estimator-doc-link:hover,\n",
       ".sk-estimator-doc-link:hover,\n",
       "div.sk-label-container:hover .sk-estimator-doc-link:hover,\n",
       ".sk-estimator-doc-link:hover {\n",
       "  /* unfitted */\n",
       "  background-color: var(--sklearn-color-unfitted-level-3);\n",
       "  color: var(--sklearn-color-background);\n",
       "  text-decoration: none;\n",
       "}\n",
       "\n",
       "div.sk-estimator.fitted:hover .sk-estimator-doc-link.fitted:hover,\n",
       ".sk-estimator-doc-link.fitted:hover,\n",
       "div.sk-label-container:hover .sk-estimator-doc-link.fitted:hover,\n",
       ".sk-estimator-doc-link.fitted:hover {\n",
       "  /* fitted */\n",
       "  background-color: var(--sklearn-color-fitted-level-3);\n",
       "  color: var(--sklearn-color-background);\n",
       "  text-decoration: none;\n",
       "}\n",
       "\n",
       "/* Span, style for the box shown on hovering the info icon */\n",
       ".sk-estimator-doc-link span {\n",
       "  display: none;\n",
       "  z-index: 9999;\n",
       "  position: relative;\n",
       "  font-weight: normal;\n",
       "  right: .2ex;\n",
       "  padding: .5ex;\n",
       "  margin: .5ex;\n",
       "  width: min-content;\n",
       "  min-width: 20ex;\n",
       "  max-width: 50ex;\n",
       "  color: var(--sklearn-color-text);\n",
       "  box-shadow: 2pt 2pt 4pt #999;\n",
       "  /* unfitted */\n",
       "  background: var(--sklearn-color-unfitted-level-0);\n",
       "  border: .5pt solid var(--sklearn-color-unfitted-level-3);\n",
       "}\n",
       "\n",
       ".sk-estimator-doc-link.fitted span {\n",
       "  /* fitted */\n",
       "  background: var(--sklearn-color-fitted-level-0);\n",
       "  border: var(--sklearn-color-fitted-level-3);\n",
       "}\n",
       "\n",
       ".sk-estimator-doc-link:hover span {\n",
       "  display: block;\n",
       "}\n",
       "\n",
       "/* \"?\"-specific style due to the `<a>` HTML tag */\n",
       "\n",
<<<<<<< HEAD
       "#sk-container-id-6 a.estimator_doc_link {\n",
=======
       "#sk-container-id-2 a.estimator_doc_link {\n",
>>>>>>> 5a6dd52f8e0999325c4df24e29d9267d27ab28c8
       "  float: right;\n",
       "  font-size: 1rem;\n",
       "  line-height: 1em;\n",
       "  font-family: monospace;\n",
       "  background-color: var(--sklearn-color-background);\n",
       "  border-radius: 1rem;\n",
       "  height: 1rem;\n",
       "  width: 1rem;\n",
       "  text-decoration: none;\n",
       "  /* unfitted */\n",
       "  color: var(--sklearn-color-unfitted-level-1);\n",
       "  border: var(--sklearn-color-unfitted-level-1) 1pt solid;\n",
       "}\n",
       "\n",
<<<<<<< HEAD
       "#sk-container-id-6 a.estimator_doc_link.fitted {\n",
=======
       "#sk-container-id-2 a.estimator_doc_link.fitted {\n",
>>>>>>> 5a6dd52f8e0999325c4df24e29d9267d27ab28c8
       "  /* fitted */\n",
       "  border: var(--sklearn-color-fitted-level-1) 1pt solid;\n",
       "  color: var(--sklearn-color-fitted-level-1);\n",
       "}\n",
       "\n",
       "/* On hover */\n",
<<<<<<< HEAD
       "#sk-container-id-6 a.estimator_doc_link:hover {\n",
=======
       "#sk-container-id-2 a.estimator_doc_link:hover {\n",
>>>>>>> 5a6dd52f8e0999325c4df24e29d9267d27ab28c8
       "  /* unfitted */\n",
       "  background-color: var(--sklearn-color-unfitted-level-3);\n",
       "  color: var(--sklearn-color-background);\n",
       "  text-decoration: none;\n",
       "}\n",
       "\n",
<<<<<<< HEAD
       "#sk-container-id-6 a.estimator_doc_link.fitted:hover {\n",
       "  /* fitted */\n",
       "  background-color: var(--sklearn-color-fitted-level-3);\n",
       "}\n",
       "</style><div id=\"sk-container-id-6\" class=\"sk-top-container\"><div class=\"sk-text-repr-fallback\"><pre>RandomForestRegressor(n_estimators=300)</pre><b>In a Jupyter environment, please rerun this cell to show the HTML representation or trust the notebook. <br />On GitHub, the HTML representation is unable to render, please try loading this page with nbviewer.org.</b></div><div class=\"sk-container\" hidden><div class=\"sk-item\"><div class=\"sk-estimator fitted sk-toggleable\"><input class=\"sk-toggleable__control sk-hidden--visually\" id=\"sk-estimator-id-12\" type=\"checkbox\" checked><label for=\"sk-estimator-id-12\" class=\"sk-toggleable__label fitted sk-toggleable__label-arrow fitted\">&nbsp;&nbsp;RandomForestRegressor<a class=\"sk-estimator-doc-link fitted\" rel=\"noreferrer\" target=\"_blank\" href=\"https://scikit-learn.org/1.4/modules/generated/sklearn.ensemble.RandomForestRegressor.html\">?<span>Documentation for RandomForestRegressor</span></a><span class=\"sk-estimator-doc-link fitted\">i<span>Fitted</span></span></label><div class=\"sk-toggleable__content fitted\"><pre>RandomForestRegressor(n_estimators=300)</pre></div> </div></div></div></div>"
=======
       "#sk-container-id-2 a.estimator_doc_link.fitted:hover {\n",
       "  /* fitted */\n",
       "  background-color: var(--sklearn-color-fitted-level-3);\n",
       "}\n",
       "</style><div id=\"sk-container-id-2\" class=\"sk-top-container\"><div class=\"sk-text-repr-fallback\"><pre>RandomForestRegressor(n_estimators=250)</pre><b>In a Jupyter environment, please rerun this cell to show the HTML representation or trust the notebook. <br />On GitHub, the HTML representation is unable to render, please try loading this page with nbviewer.org.</b></div><div class=\"sk-container\" hidden><div class=\"sk-item\"><div class=\"sk-estimator fitted sk-toggleable\"><input class=\"sk-toggleable__control sk-hidden--visually\" id=\"sk-estimator-id-4\" type=\"checkbox\" checked><label for=\"sk-estimator-id-4\" class=\"sk-toggleable__label fitted sk-toggleable__label-arrow fitted\">&nbsp;&nbsp;RandomForestRegressor<a class=\"sk-estimator-doc-link fitted\" rel=\"noreferrer\" target=\"_blank\" href=\"https://scikit-learn.org/1.5/modules/generated/sklearn.ensemble.RandomForestRegressor.html\">?<span>Documentation for RandomForestRegressor</span></a><span class=\"sk-estimator-doc-link fitted\">i<span>Fitted</span></span></label><div class=\"sk-toggleable__content fitted\"><pre>RandomForestRegressor(n_estimators=250)</pre></div> </div></div></div></div>"
>>>>>>> 5a6dd52f8e0999325c4df24e29d9267d27ab28c8
      ],
      "text/plain": [
       "RandomForestRegressor(n_estimators=300)"
      ]
     },
<<<<<<< HEAD
     "execution_count": 64,
=======
     "execution_count": 16,
>>>>>>> 5a6dd52f8e0999325c4df24e29d9267d27ab28c8
     "metadata": {},
     "output_type": "execute_result"
    }
   ],
   "source": [
    "best_rf = grid_search_rf.best_estimator_\n",
    "best_rf"
   ]
  },
  {
   "cell_type": "code",
<<<<<<< HEAD
   "execution_count": 65,
=======
   "execution_count": 17,
>>>>>>> 5a6dd52f8e0999325c4df24e29d9267d27ab28c8
   "metadata": {},
   "outputs": [
    {
     "data": {
      "text/plain": [
<<<<<<< HEAD
       "array([1849.71668335, 1859.76502889,  152.14959112, 1816.26451416,\n",
       "       1816.32274862,  522.69756999, 3330.88651367, 1247.08752197,\n",
       "       2766.94088867,  381.34432831, 1200.16595398,  859.9838328 ,\n",
       "       1924.84568563, 3866.26181152, 1644.25611287, 1297.48249552,\n",
       "        763.897441  , 1582.77013509, 3175.0770988 , 2651.47277018,\n",
       "        436.4173525 , 1643.63934814,  411.03799795, 1653.72908447,\n",
       "       2050.23113973,  173.892108  , 2353.34850016, 1952.30503255,\n",
       "       2647.2976945 , 1984.63818888, 1296.86389242,  585.1710259 ,\n",
       "       1886.92658488, 1816.52655029, 1784.3765153 , 1622.85636719,\n",
       "        499.26706329,  121.81044482,  172.41314524,  239.35266851,\n",
       "        112.66432149, 2820.21557536,  145.34232051,  250.06843892,\n",
       "        985.73831706,  600.04212179, 1809.99744303, 1627.66390544,\n",
       "       2277.64483643,  485.32414337,  399.02316905, 1776.39814657,\n",
       "        159.32466665, 1563.51376099, 1584.83608561, 3079.79903483,\n",
       "       3167.89330566, 3723.09438558, 2178.82847209, 3106.21540771,\n",
       "       1806.20888306,  244.1860318 , 1873.74502279,  226.19763748,\n",
       "       1334.0776766 ,  187.7588768 , 2358.69429769,  132.19626211,\n",
       "       1849.2650769 ,  367.6474706 , 3324.74085205, 1363.37836507,\n",
       "       1904.62415243, 1857.41815877,  467.66735535,  482.31649475,\n",
       "       2218.52923787,  672.81532043,  135.34150096, 4584.29416992,\n",
       "        453.3839092 ,  131.60729375, 1471.0123348 ,  132.51641759,\n",
       "        244.35397517,  135.28041049,  571.52405904,  138.15665573,\n",
       "        948.03806824,  755.31028422, 1411.91070435,  197.94376628,\n",
       "        440.8612206 , 2264.1086556 , 2423.19701253, 3147.39472249,\n",
       "        180.87601954, 2395.613479  , 3338.45612305, 1809.22079386,\n",
       "       2922.19991048, 3557.95932048,  161.09819412, 2266.15815674,\n",
       "       1635.10295247, 2824.709729  , 1563.56004964,  131.74512965,\n",
       "       1943.80335002, 4098.45044189,  185.62640244, 1754.74899577,\n",
       "       1780.57881307, 1293.97317139,  169.3949913 ,  117.84208771,\n",
       "       1814.46770711, 1800.83456299, 1159.48925456,  218.76538427,\n",
       "        192.18731918, 2553.23485107, 1931.56683512, 2912.5425887 ,\n",
       "       1625.52580933,  165.21271291,  255.56812312, 3501.53589274,\n",
       "        235.96395945,  593.06657735, 1623.35600505,  645.61299662,\n",
       "       1537.78885091,  203.59415797,  555.28416504, 3335.43471842,\n",
       "       1893.71489217,  601.91112569, 1216.0843103 ,  229.7534935 ,\n",
       "        380.90741028, 1744.89131551, 1978.26448405, 4224.5660498 ,\n",
       "       1203.14481405, 3936.73322998, 1889.38023478, 3820.77182699,\n",
       "       1818.93744263,  122.1186322 , 2998.20450765, 1665.26316854,\n",
       "        422.18515818,  286.61208862, 2657.63226481,  139.9685733 ,\n",
       "        135.02935819,  204.42968536,  599.1927179 , 2068.06625285,\n",
       "       1842.99961385,  243.4451506 ,  222.29861516,  440.3728538 ,\n",
       "        216.7141746 , 1816.82122477, 3190.63730713,  447.89344991,\n",
       "        129.50763771,  712.1471405 ,  111.84509402, 2337.24751058,\n",
       "       1660.64549723,  602.9805894 ,  139.67147349,  184.39381073,\n",
       "        469.69194845,  289.88740611, 1525.66854614,  215.53804372,\n",
       "       1644.87411418,  286.54156911,  113.64335917, 1514.8484908 ,\n",
       "       3003.93494548,  240.98339127, 3744.53271403, 1837.91960164,\n",
       "       1185.4449703 , 2244.26796956, 2259.52460124,  118.06451706,\n",
       "       3742.33880778,  379.33697367, 3812.70464762,  854.31807495,\n",
       "        292.36586599, 1850.73604533, 1195.69809367, 3292.92109212,\n",
       "       1557.32328776, 1226.46210002,  204.35296687, 3197.40523275,\n",
       "       1818.55454224,  394.61474162, 1814.50003255,  155.12140249,\n",
       "        137.88477976,  464.54453573, 3305.09740234,  116.97429507,\n",
       "        367.56633341, 4363.57605143,  495.1785729 , 3491.0393929 ,\n",
       "       1927.00848267, 3098.41599528, 4157.25376465,  149.51728984,\n",
       "        198.63072988,  126.45366865, 2965.58761637, 2645.41180176,\n",
       "        350.79686351, 1525.26680216,  221.10427597,  346.59143646,\n",
       "        206.00942469, 3730.40972412, 3875.06442871, 1288.90602702,\n",
       "        236.28887171, 1714.0593689 ,  365.79558289,  601.58855245,\n",
       "       1324.20105062,   85.68279172, 3324.28591553,  230.08791255,\n",
       "        137.60463201, 2968.89924561, 2265.15905273,  137.90201307,\n",
       "        396.90730123, 1828.16786336,  318.07069651, 1101.9851237 ,\n",
       "       1727.57264852,  153.71963481,  116.29373571,  166.10395101,\n",
       "        205.19145142, 3321.64618896, 1287.15428223, 4062.79646729,\n",
       "       1867.85640869,  205.63451345,  193.0432162 ,  744.70932454,\n",
       "       1347.92061768,  181.09006017,  770.87195068, 1812.53849487,\n",
       "       1918.85925212, 2951.46919922,  164.62105245,  700.39174113,\n",
       "        134.76107231,  117.0372788 ,  200.71375676, 2051.65853353,\n",
       "        206.37449839, 2087.7546346 ,  219.58810822, 1653.41599162,\n",
       "        136.28886444,  163.90191004, 1634.14804647, 2657.75552734,\n",
       "        121.26178485, 1842.59507894, 1851.49755249,  486.00535146,\n",
       "       1105.61467326,  212.37271088,  128.2143454 , 1059.03643819,\n",
       "        379.27562805, 2054.46519531,  160.78895131,  251.04899714,\n",
       "       1356.6544869 ,  172.82316127,  218.58430003,  502.28738271,\n",
       "        284.95727865, 1214.87518636, 1242.70353109,  206.33492498,\n",
       "        626.12476969,  236.58006989, 1211.57334717,  180.51658712,\n",
       "        728.36463155, 1815.61095866, 3689.87196452,  237.07912491,\n",
       "       1751.43320597,  219.21446472, 3055.28712321, 1538.10543864,\n",
       "        281.63970734, 2966.35875326, 1738.97616211,  140.80134043,\n",
       "       1866.78077922,  134.18310547, 2867.8365804 , 2636.82064046,\n",
       "       1843.9413383 ,  247.20708679, 2468.89641764,  287.55854167,\n",
       "       1658.28848674,  225.92055018,  216.48219081,  122.30710904,\n",
       "       1634.67827799, 1907.43558512,  493.33345846, 1273.52216593,\n",
       "       3150.39892497, 2990.0587736 , 2927.00271159, 1055.02497782,\n",
       "       1651.17332886, 1200.38079183, 1885.52573812,  870.11655253,\n",
       "        145.29378993,  132.31792849,  280.51688711, 1546.16605591,\n",
       "       2061.01226522, 1637.95073527,  275.87293772,  126.80058904,\n",
       "       1814.41887166, 1531.91262817, 3494.67552897,  285.27600352,\n",
       "        599.22225037,  152.13943659, 3390.51897135,  191.77413457,\n",
       "        148.8965593 , 3822.24241048,  364.1181721 , 1567.38331217,\n",
       "       1827.26361206,  467.72167501,  142.46582916, 2600.8725    ,\n",
       "       1888.13601685,  388.35161743,  167.98407542, 1230.54591349,\n",
       "       1046.19644633,  110.37465149, 2373.49153402, 1962.5114266 ,\n",
       "       3032.14225993,  123.01324514,  672.35203878, 1912.83642944,\n",
       "        302.65217295, 1803.43454631, 1903.10728841,  493.2967452 ,\n",
       "        225.90731583, 3201.12710205, 2613.27585775,  212.3446198 ,\n",
       "       2912.96642822, 2155.11515503,  271.47531962, 3005.11546631,\n",
       "       1196.39228963, 1237.58927124,  204.98662969,  171.3989681 ,\n",
       "        604.40358093, 1201.41201172,  213.25385564,  433.40965841,\n",
       "       1189.32866333,  514.26792308,  470.28734863, 1169.50133382,\n",
       "       4070.46953613,  164.27488937, 1858.32577311,  242.27145894,\n",
       "        703.91884949,  280.7901888 ,  134.74224609, 4106.4334082 ,\n",
       "       2806.12482178, 1647.74383708,  389.549493  ,  182.48818583,\n",
       "        134.63817698,  592.97307271, 1844.79878703, 1666.96347168,\n",
       "        201.02754623, 4085.58284424,  443.87759277,  174.60781443,\n",
       "        185.54261729,  142.98915171, 2990.03336507,  112.07411624,\n",
       "       1872.69901571,  246.20358597, 2356.32369141,  142.14393626,\n",
       "        790.62280396,  155.93520676, 2553.08955322,  177.5822226 ,\n",
       "       1633.89453654,  709.1185494 , 1323.0229244 , 1215.52466634,\n",
       "       1296.62247884, 2526.15169434,  291.18731873,  358.06138835,\n",
       "        395.84452362,  210.34517624, 1626.12479655, 3819.55902181,\n",
       "        251.52287425, 1765.71904989,  784.76999552, 1674.32886108,\n",
       "        229.38775462,  266.58795695, 1795.87431641, 2151.52995931,\n",
       "        265.12831421,  745.71778585,  137.01584727, 2576.37960449,\n",
       "        295.20358693, 4512.96577962,  172.36196971, 2100.86039347,\n",
       "        189.64577037,  265.17888321, 2588.30284912, 1867.9123584 ,\n",
       "       1209.32913656, 4676.42416504,  239.04194834,  224.43976018,\n",
       "       1711.1051119 ,  211.82572479, 1848.44031169, 2243.77561768,\n",
       "        738.77661784,  186.21874736, 2300.8623234 , 1258.0137439 ,\n",
       "        567.20817342,  695.42738363,  148.75808411,  179.44566157])"
      ]
     },
     "execution_count": 65,
=======
       "array([1848.95935059, 1856.93417187,  151.6846402 , 1815.56671582,\n",
       "       1814.63967627,  522.61327527, 3340.64464551, 1248.64795557,\n",
       "       2772.12482617,  379.73183142, 1204.17930762,  860.50242822,\n",
       "       1923.87245654, 3882.10933008, 1645.33104248, 1297.5604126 ,\n",
       "        758.38700342, 1582.24215967, 3179.7906543 , 2663.69564746,\n",
       "        437.31808728, 1645.45568066,  410.60821655, 1655.69257568,\n",
       "       2051.43686621,  174.00035944, 2358.06777344, 1947.92557275,\n",
       "       2650.64395703, 1982.29393799, 1297.75075781,  586.17220276,\n",
       "       1886.92792578, 1818.63443164, 1784.99555811, 1622.48233789,\n",
       "        497.13436243,  121.85354068,  172.4674682 ,  239.33018463,\n",
       "        112.98613483, 2820.07376758,  145.03871686,  249.72438275,\n",
       "        991.42150439,  599.86834937, 1809.18273145, 1626.69343115,\n",
       "       2278.83952344,  485.79714111,  398.29562561, 1777.28229297,\n",
       "        159.04983685, 1568.97185596, 1584.90258252, 3091.33189453,\n",
       "       3176.52744531, 3730.84432715, 2176.52702246, 3115.62482324,\n",
       "       1806.96813867,  243.63313818, 1876.48972705,  226.20450696,\n",
       "       1339.56085791,  187.9928233 , 2355.08977344,  132.29319778,\n",
       "       1849.31081543,  366.77185071, 3329.87444336, 1361.02288965,\n",
       "       1906.06569727, 1857.28278027,  467.82415649,  482.97237073,\n",
       "       2212.26996289,  672.67338452,  135.44629907, 4587.35158398,\n",
       "        454.10679468,  131.55893869, 1474.00868701,  132.8056113 ,\n",
       "        244.38091711,  134.81263226,  570.90800122,  138.07181628,\n",
       "        948.01409814,  755.41021753, 1417.23444971,  198.24907635,\n",
       "        438.86211597, 2258.48652441, 2434.59615332, 3143.52613867,\n",
       "        181.04510236, 2393.004875  , 3334.31873535, 1805.56915869,\n",
       "       2926.85656152, 3560.77732813,  161.08704584, 2266.10927832,\n",
       "       1636.24394336, 2834.76225684, 1565.53936328,  131.6854202 ,\n",
       "       1946.46288086, 4108.69724316,  185.72000305, 1752.67133105,\n",
       "       1782.19951514, 1293.81608984,  169.11444189,  117.86973547,\n",
       "       1814.2439126 , 1799.45058203, 1160.49648926,  218.87280182,\n",
       "        192.30779993, 2550.0204668 , 1931.21433594, 2910.35278418,\n",
       "       1626.67067529,  165.09113885,  253.66643451, 3494.7348125 ,\n",
       "        235.58437097,  593.61945923, 1622.27249414,  644.82673901,\n",
       "       1539.14841357,  203.60210028,  553.33492334, 3334.87574414,\n",
       "       1895.11725732,  602.41210034, 1216.75895166,  232.06396973,\n",
       "        380.58868127, 1751.37269141, 1979.12747705, 4225.85827246,\n",
       "       1203.48580908, 3927.04400391, 1887.3137373 , 3821.5237959 ,\n",
       "       1818.431854  ,  122.05535648, 3004.01953906, 1666.16570654,\n",
       "        422.58645483,  287.26093982, 2664.76034961,  140.10465314,\n",
       "        135.0043728 ,  204.92867426,  597.33753687, 2069.4516582 ,\n",
       "       1844.55039893,  243.76905316,  223.67179077,  439.76446936,\n",
       "        216.46192755, 1817.29719922, 3187.59304004,  446.84087048,\n",
       "        129.75150693,  709.94501562,  112.00483249, 2338.53131055,\n",
       "       1661.22590723,  603.26865991,  141.14930908,  184.76685089,\n",
       "        469.75954626,  289.39629993, 1543.34083447,  213.79446948,\n",
       "       1646.82774268,  285.73656836,  113.70027405, 1513.73519727,\n",
       "       3012.44914941,  240.80497913, 3750.1747002 , 1839.14551416,\n",
       "       1192.55594531, 2247.14027344, 2258.70404883,  117.91862372,\n",
       "       3751.64310645,  378.6051626 , 3818.9232959 ,  853.39196729,\n",
       "        290.46153992, 1849.70271924, 1194.86108545, 3303.14483301,\n",
       "       1556.07941406, 1227.87769092,  204.62992456, 3200.04985645,\n",
       "       1815.65838379,  395.87728723, 1817.1082124 ,  155.01734113,\n",
       "        138.00321378,  464.1205437 , 3309.16191602,  116.88676892,\n",
       "        366.59805518, 4365.98975977,  496.00713403, 3491.35989941,\n",
       "       1924.49207373, 3107.3587832 , 4155.48157617,  149.12225098,\n",
       "        198.86863257,  126.94692377, 2962.43309473, 2654.62447559,\n",
       "        350.94078674, 1529.51343799,  221.83874554,  346.55680054,\n",
       "        205.90442145, 3735.95649902, 3869.41930273, 1282.80004541,\n",
       "        236.15816107, 1709.26889404,  365.83866016,  601.4438335 ,\n",
       "       1323.45203418,   85.58587418, 3326.7603457 ,  229.81298834,\n",
       "        137.65202838, 2971.39874707, 2266.4291748 ,  137.71142062,\n",
       "        397.67952515, 1828.21868262,  318.87045447, 1100.6909895 ,\n",
       "       1727.02060596,  153.7833493 ,  116.16806125,  166.8220625 ,\n",
       "        205.41999139, 3323.64122461, 1286.61687842, 4063.54974805,\n",
       "       1865.53324561,  206.01244073,  193.56847662,  743.31921045,\n",
       "       1348.23453174,  181.12670587,  768.50746118, 1815.90829639,\n",
       "       1918.60474219, 2961.16775879,  165.06430145,  698.66524219,\n",
       "        134.60072791,  116.58081644,  200.95655426, 2047.64881445,\n",
       "        206.41746655, 2086.32566016,  219.69498566, 1652.46903076,\n",
       "        136.35530151,  164.63223334, 1636.09894482, 2662.72734375,\n",
       "        121.43078879, 1847.44542725, 1851.50183691,  485.81119055,\n",
       "       1100.29504932,  212.34473682,  128.30245889, 1065.00293115,\n",
       "        379.85486731, 2053.29782715,  160.65516089,  249.36861133,\n",
       "       1365.83565576,  172.98477191,  217.38684509,  503.8042937 ,\n",
       "        284.96260937, 1215.2827124 , 1251.30184229,  205.76114789,\n",
       "        627.20403418,  236.38837933, 1213.68507373,  180.50452747,\n",
       "        726.28806763, 1813.82575342, 3684.87294141,  237.21023676,\n",
       "       1754.28211914,  219.85708508, 3053.34743359, 1542.4991001 ,\n",
       "        281.17157764, 2963.82259863, 1741.62969385,  140.89173572,\n",
       "       1867.5962915 ,  134.154677  , 2862.53008789, 2637.52584277,\n",
       "       1844.65823437,  247.08625452, 2461.18251465,  288.64705811,\n",
       "       1653.57159863,  226.14315283,  216.49732001,  122.41729321,\n",
       "       1637.59793799, 1908.1899375 ,  494.97982507, 1273.03806885,\n",
       "       3137.89123437, 2983.74745508, 2919.98850879, 1055.73528198,\n",
       "       1648.80146533, 1199.67975635, 1886.48645752,  869.79839453,\n",
       "        144.70170203,  132.29533304,  280.16586401, 1545.07517773,\n",
       "       2063.1158335 , 1635.23671338,  276.90446033,  126.91660971,\n",
       "       1817.66803711, 1547.75993604, 3488.25120215,  285.45806274,\n",
       "        599.71328442,  151.73891168, 3383.71910059,  191.65356866,\n",
       "        148.95652148, 3814.90852246,  364.76075623, 1564.64237695,\n",
       "       1828.21679541,  468.14873596,  142.33859784, 2601.27529492,\n",
       "       1890.55120508,  388.10667883,  166.82865747, 1234.70418994,\n",
       "       1045.58189014,  110.0402045 , 2377.54730273, 1960.45422607,\n",
       "       3038.03582324,  123.4100845 ,  672.25847241, 1917.97110205,\n",
       "        302.85391187, 1804.88346875, 1904.00338818,  494.67785315,\n",
       "        226.00172864, 3201.30107031, 2617.95388477,  211.7715838 ,\n",
       "       2903.11421191, 2154.79598389,  272.11894427, 3002.26470703,\n",
       "       1196.61988184, 1238.30893848,  205.09056616,  171.17137335,\n",
       "        603.64234045, 1201.34671045,  213.63959528,  433.73502527,\n",
       "       1189.98605566,  515.58975415,  470.99934436, 1164.14137158,\n",
       "       4070.97247852,  164.80114575, 1857.7417793 ,  242.13670142,\n",
       "        703.70436206,  280.70387219,  134.55420639, 4118.69849902,\n",
       "       2811.05849805, 1648.31059375,  389.73579712,  182.54746814,\n",
       "        134.26595819,  595.86379858, 1844.00923047, 1667.60513965,\n",
       "        201.07752631, 4083.6447832 ,  442.86421118,  175.58218109,\n",
       "        184.90004504,  142.94076874, 2998.82431836,  111.78522556,\n",
       "       1867.55625732,  245.96766418, 2357.48223145,  142.29188989,\n",
       "        792.61196533,  155.61661792, 2546.46180176,  177.68516962,\n",
       "       1633.28065381,  706.70123975, 1321.11445361, 1216.37470801,\n",
       "       1295.5864873 , 2526.84596387,  291.13480017,  357.74563489,\n",
       "        397.45023047,  209.66207251, 1625.71235791, 3840.39816895,\n",
       "        251.3635705 , 1769.75325439,  783.24762817, 1677.15040088,\n",
       "        229.30323077,  267.52300092, 1794.61160645, 2144.93947363,\n",
       "        264.98896667,  747.61468213,  137.02591333, 2578.02161035,\n",
       "        294.1701759 , 4511.41916406,  172.68283325, 2102.60603809,\n",
       "        190.07892737,  265.62406775, 2587.94238672, 1868.12664893,\n",
       "       1210.12492285, 4667.79945898,  239.04682086,  225.2323324 ,\n",
       "       1706.18287939,  212.0116778 , 1844.76433008, 2247.10934473,\n",
       "        735.10791992,  186.167901  , 2307.85426172, 1256.79165137,\n",
       "        567.72084155,  691.28867773,  149.1487066 ,  179.56382269])"
      ]
     },
     "execution_count": 17,
>>>>>>> 5a6dd52f8e0999325c4df24e29d9267d27ab28c8
     "metadata": {},
     "output_type": "execute_result"
    }
   ],
   "source": [
    "y_pred_rf = best_rf.predict(X_test)\n",
    "y_pred_rf"
   ]
  },
  {
   "cell_type": "code",
<<<<<<< HEAD
   "execution_count": 66,
=======
   "execution_count": 18,
>>>>>>> 5a6dd52f8e0999325c4df24e29d9267d27ab28c8
   "metadata": {},
   "outputs": [
    {
     "name": "stdout",
     "output_type": "stream",
     "text": [
<<<<<<< HEAD
      "{'RMSE': 38.81330167974099, 'MSE': 1506.4723872825844, 'MAE': 20.625092262903856, 'R2': 0.9988425009977671}\n"
=======
      "{'RMSE': 39.301994776427776, 'MSE': 1544.646793406356, 'MAE': 20.820493477058417, 'R2': 0.9988131696689142}\n"
>>>>>>> 5a6dd52f8e0999325c4df24e29d9267d27ab28c8
     ]
    }
   ],
   "source": [
    "rf_metrics = {\n",
    "    'RMSE': np.sqrt(mean_squared_error(y_test, y_pred_rf)),\n",
    "    'MSE': mean_squared_error(y_test, y_pred_rf),\n",
    "    'MAE': mean_absolute_error(y_test, y_pred_rf),\n",
    "    'R2': r2_score(y_test, y_pred_rf)\n",
    "}\n",
    "print(rf_metrics)\n"
   ]
  },
  {
   "cell_type": "code",
<<<<<<< HEAD
   "execution_count": 67,
=======
   "execution_count": 19,
>>>>>>> 5a6dd52f8e0999325c4df24e29d9267d27ab28c8
   "metadata": {},
   "outputs": [
    {
     "data": {
      "text/plain": [
       "2399"
      ]
     },
<<<<<<< HEAD
     "execution_count": 67,
=======
     "execution_count": 19,
>>>>>>> 5a6dd52f8e0999325c4df24e29d9267d27ab28c8
     "metadata": {},
     "output_type": "execute_result"
    }
   ],
   "source": [
    "len(df)"
   ]
  },
  {
   "cell_type": "code",
<<<<<<< HEAD
   "execution_count": 68,
=======
   "execution_count": 20,
>>>>>>> 5a6dd52f8e0999325c4df24e29d9267d27ab28c8
   "metadata": {},
   "outputs": [],
   "source": [
    "data = df [len(df) - 15:]"
   ]
  },
  {
   "cell_type": "code",
   "execution_count": null,
   "metadata": {},
   "outputs": [],
   "source": []
  },
  {
   "cell_type": "code",
<<<<<<< HEAD
   "execution_count": 69,
=======
   "execution_count": 21,
>>>>>>> 5a6dd52f8e0999325c4df24e29d9267d27ab28c8
   "metadata": {},
   "outputs": [
    {
     "name": "stdout",
     "output_type": "stream",
     "text": [
<<<<<<< HEAD
      "[3787.34517253]\n",
      "[3753.93762777]\n",
      "[3755.57396077]\n",
      "[3747.52644613]\n",
      "[3723.69511312]\n",
      "[3614.28847819]\n",
      "[3551.25046794]\n",
      "[3508.79078125]\n",
      "[3428.75336019]\n",
      "[3359.7115446]\n"
=======
      "[3793.67809766]\n",
      "[3756.19758496]\n",
      "[3755.40884766]\n",
      "[3756.21886035]\n",
      "[3751.01545801]\n",
      "[3736.75675]\n",
      "[3610.11922168]\n",
      "[3531.47546484]\n",
      "[3478.52690039]\n",
      "[3374.94311816]\n"
>>>>>>> 5a6dd52f8e0999325c4df24e29d9267d27ab28c8
     ]
    }
   ],
   "source": [
    "for i in range(10):\n",
    "    sma = ta.sma(data['Close'], length=5).iloc[-1]\n",
    "    ema = ta.ema(data['Close'], length=5).iloc[-1]\n",
    "    rsi = ta.rsi(data['Close'], length=14).iloc[-1]\n",
    "    # sma_5, ema_5, rsi_14 = scaler.fit_transform(np.array([sma, ema, rsi]).reshape(-1, 1))\n",
    "    # new_close = best_rf.predict([[0.163528, 0.0, 0.0, 0.0, 1.0, 0.0, sma_5[0], ema_5[0], rsi_14[0]]])\n",
    "    new_close = best_rf.predict([[sma, ema, rsi]])\n",
    "    print(new_close)\n",
    "    new_row = pd.DataFrame({\"Close\": new_close, \"formatted_time\" : \"0\", \"SMA\" : sma, \"EMA\" : ema, \"RSI\" : rsi})\n",
    "    data = pd.concat([data, new_row], ignore_index= True)\n",
    "    "
   ]
  },
  {
   "cell_type": "code",
   "execution_count": null,
   "metadata": {},
   "outputs": [],
   "source": []
  },
  {
   "cell_type": "code",
<<<<<<< HEAD
   "execution_count": 70,
=======
   "execution_count": 22,
>>>>>>> 5a6dd52f8e0999325c4df24e29d9267d27ab28c8
   "metadata": {},
   "outputs": [
    {
     "data": {
      "text/html": [
       "<div>\n",
       "<style scoped>\n",
       "    .dataframe tbody tr th:only-of-type {\n",
       "        vertical-align: middle;\n",
       "    }\n",
       "\n",
       "    .dataframe tbody tr th {\n",
       "        vertical-align: top;\n",
       "    }\n",
       "\n",
       "    .dataframe thead th {\n",
       "        text-align: right;\n",
       "    }\n",
       "</style>\n",
       "<table border=\"1\" class=\"dataframe\">\n",
       "  <thead>\n",
       "    <tr style=\"text-align: right;\">\n",
       "      <th></th>\n",
       "      <th>Close</th>\n",
       "      <th>formatted_time</th>\n",
       "      <th>SMA</th>\n",
       "      <th>EMA</th>\n",
       "      <th>RSI</th>\n",
       "    </tr>\n",
       "  </thead>\n",
       "  <tbody>\n",
       "    <tr>\n",
       "      <th>0</th>\n",
       "      <td>3663.855469</td>\n",
       "      <td>20-05-2024</td>\n",
       "      <td>3179.579443</td>\n",
       "      <td>3256.483191</td>\n",
       "      <td>70.029124</td>\n",
       "    </tr>\n",
       "    <tr>\n",
       "      <th>1</th>\n",
       "      <td>3789.312744</td>\n",
       "      <td>21-05-2024</td>\n",
       "      <td>3348.415771</td>\n",
       "      <td>3434.093042</td>\n",
       "      <td>72.515353</td>\n",
       "    </tr>\n",
       "    <tr>\n",
       "      <th>2</th>\n",
       "      <td>3737.217773</td>\n",
       "      <td>22-05-2024</td>\n",
       "      <td>3477.035596</td>\n",
       "      <td>3535.134619</td>\n",
       "      <td>69.921548</td>\n",
       "    </tr>\n",
       "    <tr>\n",
       "      <th>3</th>\n",
       "      <td>3776.927246</td>\n",
       "      <td>23-05-2024</td>\n",
       "      <td>3607.831250</td>\n",
       "      <td>3615.732162</td>\n",
       "      <td>70.779529</td>\n",
       "    </tr>\n",
       "    <tr>\n",
       "      <th>4</th>\n",
       "      <td>3726.934570</td>\n",
       "      <td>24-05-2024</td>\n",
       "      <td>3738.849561</td>\n",
       "      <td>3652.799631</td>\n",
       "      <td>68.144123</td>\n",
       "    </tr>\n",
       "    <tr>\n",
       "      <th>5</th>\n",
       "      <td>3749.236572</td>\n",
       "      <td>25-05-2024</td>\n",
       "      <td>3755.925781</td>\n",
       "      <td>3684.945278</td>\n",
       "      <td>68.703947</td>\n",
       "    </tr>\n",
       "    <tr>\n",
       "      <th>6</th>\n",
       "      <td>3825.897461</td>\n",
       "      <td>26-05-2024</td>\n",
       "      <td>3763.242725</td>\n",
       "      <td>3731.929339</td>\n",
       "      <td>70.615536</td>\n",
       "    </tr>\n",
       "    <tr>\n",
       "      <th>7</th>\n",
       "      <td>3892.006836</td>\n",
       "      <td>27-05-2024</td>\n",
       "      <td>3794.200537</td>\n",
       "      <td>3785.288505</td>\n",
       "      <td>72.192909</td>\n",
       "    </tr>\n",
       "    <tr>\n",
       "      <th>8</th>\n",
       "      <td>3840.256348</td>\n",
       "      <td>28-05-2024</td>\n",
       "      <td>3806.866357</td>\n",
       "      <td>3803.611119</td>\n",
       "      <td>69.067365</td>\n",
       "    </tr>\n",
       "    <tr>\n",
       "      <th>9</th>\n",
       "      <td>3763.196533</td>\n",
       "      <td>29-05-2024</td>\n",
       "      <td>3814.118750</td>\n",
       "      <td>3790.139590</td>\n",
       "      <td>64.583517</td>\n",
       "    </tr>\n",
       "    <tr>\n",
       "      <th>10</th>\n",
       "      <td>3746.849609</td>\n",
       "      <td>30-05-2024</td>\n",
       "      <td>3813.641357</td>\n",
       "      <td>3775.709597</td>\n",
       "      <td>63.639676</td>\n",
       "    </tr>\n",
       "    <tr>\n",
       "      <th>11</th>\n",
       "      <td>3760.026611</td>\n",
       "      <td>31-05-2024</td>\n",
       "      <td>3800.467187</td>\n",
       "      <td>3770.481935</td>\n",
       "      <td>64.095183</td>\n",
       "    </tr>\n",
       "    <tr>\n",
       "      <th>12</th>\n",
       "      <td>3813.198975</td>\n",
       "      <td>01-06-2024</td>\n",
       "      <td>3784.705615</td>\n",
       "      <td>3784.720948</td>\n",
       "      <td>65.948936</td>\n",
       "    </tr>\n",
       "    <tr>\n",
       "      <th>13</th>\n",
       "      <td>3780.895996</td>\n",
       "      <td>02-06-2024</td>\n",
       "      <td>3772.833545</td>\n",
       "      <td>3783.445964</td>\n",
       "      <td>63.794067</td>\n",
       "    </tr>\n",
       "    <tr>\n",
       "      <th>14</th>\n",
       "      <td>3833.744629</td>\n",
       "      <td>03-06-2024</td>\n",
       "      <td>3786.943164</td>\n",
       "      <td>3800.212186</td>\n",
       "      <td>65.764946</td>\n",
       "    </tr>\n",
       "    <tr>\n",
       "      <th>15</th>\n",
<<<<<<< HEAD
       "      <td>3787.345173</td>\n",
=======
       "      <td>3793.678098</td>\n",
>>>>>>> 5a6dd52f8e0999325c4df24e29d9267d27ab28c8
       "      <td>0</td>\n",
       "      <td>3786.943164</td>\n",
       "      <td>3801.704423</td>\n",
       "      <td>60.654878</td>\n",
       "    </tr>\n",
       "    <tr>\n",
       "      <th>16</th>\n",
<<<<<<< HEAD
       "      <td>3753.937628</td>\n",
       "      <td>0</td>\n",
       "      <td>3795.042277</td>\n",
       "      <td>3796.918006</td>\n",
       "      <td>54.489523</td>\n",
       "    </tr>\n",
       "    <tr>\n",
       "      <th>17</th>\n",
       "      <td>3755.573961</td>\n",
       "      <td>0</td>\n",
       "      <td>3793.824480</td>\n",
       "      <td>3782.591213</td>\n",
       "      <td>50.508682</td>\n",
       "    </tr>\n",
       "    <tr>\n",
       "      <th>18</th>\n",
       "      <td>3747.526446</td>\n",
       "      <td>0</td>\n",
       "      <td>3782.299477</td>\n",
       "      <td>3773.585463</td>\n",
       "      <td>50.698673</td>\n",
       "    </tr>\n",
       "    <tr>\n",
       "      <th>19</th>\n",
       "      <td>3723.695113</td>\n",
       "      <td>0</td>\n",
       "      <td>3775.625567</td>\n",
       "      <td>3764.899124</td>\n",
       "      <td>49.688413</td>\n",
       "    </tr>\n",
       "    <tr>\n",
       "      <th>20</th>\n",
       "      <td>3614.288478</td>\n",
       "      <td>0</td>\n",
       "      <td>3753.615664</td>\n",
       "      <td>3751.164454</td>\n",
       "      <td>46.719446</td>\n",
       "    </tr>\n",
       "    <tr>\n",
       "      <th>21</th>\n",
       "      <td>3551.250468</td>\n",
       "      <td>0</td>\n",
       "      <td>3719.004325</td>\n",
       "      <td>3705.539128</td>\n",
       "      <td>36.065278</td>\n",
       "    </tr>\n",
       "    <tr>\n",
       "      <th>22</th>\n",
       "      <td>3508.790781</td>\n",
       "      <td>0</td>\n",
       "      <td>3678.466893</td>\n",
       "      <td>3654.109575</td>\n",
       "      <td>31.594556</td>\n",
       "    </tr>\n",
       "    <tr>\n",
       "      <th>23</th>\n",
       "      <td>3428.753360</td>\n",
       "      <td>0</td>\n",
       "      <td>3629.110257</td>\n",
       "      <td>3605.669977</td>\n",
       "      <td>28.988008</td>\n",
       "    </tr>\n",
       "    <tr>\n",
       "      <th>24</th>\n",
       "      <td>3359.711545</td>\n",
       "      <td>0</td>\n",
       "      <td>3565.355640</td>\n",
       "      <td>3546.697771</td>\n",
       "      <td>24.829624</td>\n",
=======
       "      <td>3756.197585</td>\n",
       "      <td>0</td>\n",
       "      <td>3796.308862</td>\n",
       "      <td>3799.028981</td>\n",
       "      <td>55.256114</td>\n",
       "    </tr>\n",
       "    <tr>\n",
       "      <th>17</th>\n",
       "      <td>3755.408848</td>\n",
       "      <td>0</td>\n",
       "      <td>3795.543056</td>\n",
       "      <td>3784.751849</td>\n",
       "      <td>50.709133</td>\n",
       "    </tr>\n",
       "    <tr>\n",
       "      <th>18</th>\n",
       "      <td>3756.218860</td>\n",
       "      <td>0</td>\n",
       "      <td>3783.985031</td>\n",
       "      <td>3774.970849</td>\n",
       "      <td>50.614742</td>\n",
       "    </tr>\n",
       "    <tr>\n",
       "      <th>19</th>\n",
       "      <td>3751.015458</td>\n",
       "      <td>0</td>\n",
       "      <td>3779.049604</td>\n",
       "      <td>3768.720186</td>\n",
       "      <td>50.716201</td>\n",
       "    </tr>\n",
       "    <tr>\n",
       "      <th>20</th>\n",
       "      <td>3736.756750</td>\n",
       "      <td>0</td>\n",
       "      <td>3762.503770</td>\n",
       "      <td>3762.818610</td>\n",
       "      <td>50.005488</td>\n",
       "    </tr>\n",
       "    <tr>\n",
       "      <th>21</th>\n",
       "      <td>3610.119222</td>\n",
       "      <td>0</td>\n",
       "      <td>3751.119500</td>\n",
       "      <td>3754.131323</td>\n",
       "      <td>48.019650</td>\n",
       "    </tr>\n",
       "    <tr>\n",
       "      <th>22</th>\n",
       "      <td>3531.475465</td>\n",
       "      <td>0</td>\n",
       "      <td>3721.903828</td>\n",
       "      <td>3706.127289</td>\n",
       "      <td>34.801049</td>\n",
       "    </tr>\n",
       "    <tr>\n",
       "      <th>23</th>\n",
       "      <td>3478.526900</td>\n",
       "      <td>0</td>\n",
       "      <td>3677.117151</td>\n",
       "      <td>3647.910015</td>\n",
       "      <td>29.390304</td>\n",
       "    </tr>\n",
       "    <tr>\n",
       "      <th>24</th>\n",
       "      <td>3374.943118</td>\n",
       "      <td>0</td>\n",
       "      <td>3621.578759</td>\n",
       "      <td>3591.448977</td>\n",
       "      <td>26.412791</td>\n",
>>>>>>> 5a6dd52f8e0999325c4df24e29d9267d27ab28c8
       "    </tr>\n",
       "  </tbody>\n",
       "</table>\n",
       "</div>"
      ],
      "text/plain": [
       "          Close formatted_time          SMA          EMA        RSI\n",
       "0   3663.855469     20-05-2024  3179.579443  3256.483191  70.029124\n",
       "1   3789.312744     21-05-2024  3348.415771  3434.093042  72.515353\n",
       "2   3737.217773     22-05-2024  3477.035596  3535.134619  69.921548\n",
       "3   3776.927246     23-05-2024  3607.831250  3615.732162  70.779529\n",
       "4   3726.934570     24-05-2024  3738.849561  3652.799631  68.144123\n",
       "5   3749.236572     25-05-2024  3755.925781  3684.945278  68.703947\n",
       "6   3825.897461     26-05-2024  3763.242725  3731.929339  70.615536\n",
       "7   3892.006836     27-05-2024  3794.200537  3785.288505  72.192909\n",
       "8   3840.256348     28-05-2024  3806.866357  3803.611119  69.067365\n",
       "9   3763.196533     29-05-2024  3814.118750  3790.139590  64.583517\n",
       "10  3746.849609     30-05-2024  3813.641357  3775.709597  63.639676\n",
       "11  3760.026611     31-05-2024  3800.467187  3770.481935  64.095183\n",
       "12  3813.198975     01-06-2024  3784.705615  3784.720948  65.948936\n",
       "13  3780.895996     02-06-2024  3772.833545  3783.445964  63.794067\n",
       "14  3833.744629     03-06-2024  3786.943164  3800.212186  65.764946\n",
<<<<<<< HEAD
       "15  3787.345173              0  3786.943164  3801.704423  60.654878\n",
       "16  3753.937628              0  3795.042277  3796.918006  54.489523\n",
       "17  3755.573961              0  3793.824480  3782.591213  50.508682\n",
       "18  3747.526446              0  3782.299477  3773.585463  50.698673\n",
       "19  3723.695113              0  3775.625567  3764.899124  49.688413\n",
       "20  3614.288478              0  3753.615664  3751.164454  46.719446\n",
       "21  3551.250468              0  3719.004325  3705.539128  36.065278\n",
       "22  3508.790781              0  3678.466893  3654.109575  31.594556\n",
       "23  3428.753360              0  3629.110257  3605.669977  28.988008\n",
       "24  3359.711545              0  3565.355640  3546.697771  24.829624"
      ]
     },
     "execution_count": 70,
=======
       "15  3793.678098              0  3786.943164  3801.704423  60.654878\n",
       "16  3756.197585              0  3796.308862  3799.028981  55.256114\n",
       "17  3755.408848              0  3795.543056  3784.751849  50.709133\n",
       "18  3756.218860              0  3783.985031  3774.970849  50.614742\n",
       "19  3751.015458              0  3779.049604  3768.720186  50.716201\n",
       "20  3736.756750              0  3762.503770  3762.818610  50.005488\n",
       "21  3610.119222              0  3751.119500  3754.131323  48.019650\n",
       "22  3531.475465              0  3721.903828  3706.127289  34.801049\n",
       "23  3478.526900              0  3677.117151  3647.910015  29.390304\n",
       "24  3374.943118              0  3621.578759  3591.448977  26.412791"
      ]
     },
     "execution_count": 22,
>>>>>>> 5a6dd52f8e0999325c4df24e29d9267d27ab28c8
     "metadata": {},
     "output_type": "execute_result"
    }
   ],
   "source": [
    "data"
   ]
  },
  {
   "cell_type": "code",
   "execution_count": null,
   "metadata": {},
   "outputs": [],
   "source": []
  },
  {
   "cell_type": "code",
<<<<<<< HEAD
   "execution_count": 71,
=======
   "execution_count": 23,
>>>>>>> 5a6dd52f8e0999325c4df24e29d9267d27ab28c8
   "metadata": {},
   "outputs": [
    {
     "name": "stdout",
     "output_type": "stream",
     "text": [
<<<<<<< HEAD
      "{'RMSE': 38.81330167974099, 'MSE': 1506.4723872825844, 'MAE': 20.625092262903856, 'R2': 0.9988425009977671}\n"
=======
      "{'RMSE': 39.301994776427776, 'MSE': 1544.646793406356, 'MAE': 20.820493477058417, 'R2': 0.9988131696689142}\n"
>>>>>>> 5a6dd52f8e0999325c4df24e29d9267d27ab28c8
     ]
    }
   ],
   "source": [
    "\n",
    "# Evaluate the model\n",
    "rf_metrics = {\n",
    "    'RMSE': np.sqrt(mean_squared_error(y_test, y_pred_rf)),\n",
    "    'MSE': mean_squared_error(y_test, y_pred_rf),\n",
    "    'MAE': mean_absolute_error(y_test, y_pred_rf),\n",
    "    'R2': r2_score(y_test, y_pred_rf)\n",
    "}\n",
    "print(rf_metrics)\n"
   ]
  },
  {
   "cell_type": "code",
<<<<<<< HEAD
   "execution_count": 72,
=======
   "execution_count": 24,
>>>>>>> 5a6dd52f8e0999325c4df24e29d9267d27ab28c8
   "metadata": {},
   "outputs": [],
   "source": [
    "import pickle \n",
    "with open('eth.pkl', 'wb') as f:\n",
    "    pickle.dump(best_rf, f)"
   ]
  }
 ],
 "metadata": {
  "kernelspec": {
   "display_name": "Python 3",
   "language": "python",
   "name": "python3"
  },
  "language_info": {
   "codemirror_mode": {
    "name": "ipython",
    "version": 3
   },
   "file_extension": ".py",
   "mimetype": "text/x-python",
   "name": "python",
   "nbconvert_exporter": "python",
   "pygments_lexer": "ipython3",
   "version": "3.12.1"
  }
 },
 "nbformat": 4,
 "nbformat_minor": 2
}
