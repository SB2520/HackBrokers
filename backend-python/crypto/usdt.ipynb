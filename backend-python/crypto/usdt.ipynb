{
 "cells": [
  {
   "cell_type": "code",
   "execution_count": 1,
   "metadata": {},
   "outputs": [],
   "source": [
    "import pandas as pd \n",
    "import numpy as np\n",
    "from sklearn.preprocessing import MinMaxScaler\n",
    "from sklearn.model_selection import train_test_split"
   ]
  },
  {
   "cell_type": "code",
   "execution_count": 2,
   "metadata": {},
   "outputs": [
    {
     "data": {
      "text/html": [
       "<div>\n",
       "<style scoped>\n",
       "    .dataframe tbody tr th:only-of-type {\n",
       "        vertical-align: middle;\n",
       "    }\n",
       "\n",
       "    .dataframe tbody tr th {\n",
       "        vertical-align: top;\n",
       "    }\n",
       "\n",
       "    .dataframe thead th {\n",
       "        text-align: right;\n",
       "    }\n",
       "</style>\n",
       "<table border=\"1\" class=\"dataframe\">\n",
       "  <thead>\n",
       "    <tr style=\"text-align: right;\">\n",
       "      <th></th>\n",
       "      <th>Date</th>\n",
       "      <th>Open</th>\n",
       "      <th>High</th>\n",
       "      <th>Low</th>\n",
       "      <th>Close</th>\n",
       "      <th>Volume</th>\n",
       "      <th>Dividends</th>\n",
       "      <th>Stock Splits</th>\n",
       "    </tr>\n",
       "  </thead>\n",
       "  <tbody>\n",
       "    <tr>\n",
       "      <th>0</th>\n",
       "      <td>2017-11-09 00:00:00+00:00</td>\n",
       "      <td>1.01087</td>\n",
       "      <td>1.01327</td>\n",
       "      <td>0.996515</td>\n",
       "      <td>1.00818</td>\n",
       "      <td>358188000</td>\n",
       "      <td>0.0</td>\n",
       "      <td>0.0</td>\n",
       "    </tr>\n",
       "    <tr>\n",
       "      <th>1</th>\n",
       "      <td>2017-11-10 00:00:00+00:00</td>\n",
       "      <td>1.00650</td>\n",
       "      <td>1.02423</td>\n",
       "      <td>0.995486</td>\n",
       "      <td>1.00601</td>\n",
       "      <td>756446016</td>\n",
       "      <td>0.0</td>\n",
       "      <td>0.0</td>\n",
       "    </tr>\n",
       "    <tr>\n",
       "      <th>2</th>\n",
       "      <td>2017-11-11 00:00:00+00:00</td>\n",
       "      <td>1.00598</td>\n",
       "      <td>1.02621</td>\n",
       "      <td>0.995799</td>\n",
       "      <td>1.00899</td>\n",
       "      <td>746227968</td>\n",
       "      <td>0.0</td>\n",
       "      <td>0.0</td>\n",
       "    </tr>\n",
       "    <tr>\n",
       "      <th>3</th>\n",
       "      <td>2017-11-12 00:00:00+00:00</td>\n",
       "      <td>1.00602</td>\n",
       "      <td>1.10591</td>\n",
       "      <td>0.967601</td>\n",
       "      <td>1.01247</td>\n",
       "      <td>1466060032</td>\n",
       "      <td>0.0</td>\n",
       "      <td>0.0</td>\n",
       "    </tr>\n",
       "    <tr>\n",
       "      <th>4</th>\n",
       "      <td>2017-11-13 00:00:00+00:00</td>\n",
       "      <td>1.00448</td>\n",
       "      <td>1.02929</td>\n",
       "      <td>0.975103</td>\n",
       "      <td>1.00935</td>\n",
       "      <td>767884032</td>\n",
       "      <td>0.0</td>\n",
       "      <td>0.0</td>\n",
       "    </tr>\n",
       "  </tbody>\n",
       "</table>\n",
       "</div>"
      ],
      "text/plain": [
       "                        Date     Open     High       Low    Close      Volume  \\\n",
       "0  2017-11-09 00:00:00+00:00  1.01087  1.01327  0.996515  1.00818   358188000   \n",
       "1  2017-11-10 00:00:00+00:00  1.00650  1.02423  0.995486  1.00601   756446016   \n",
       "2  2017-11-11 00:00:00+00:00  1.00598  1.02621  0.995799  1.00899   746227968   \n",
       "3  2017-11-12 00:00:00+00:00  1.00602  1.10591  0.967601  1.01247  1466060032   \n",
       "4  2017-11-13 00:00:00+00:00  1.00448  1.02929  0.975103  1.00935   767884032   \n",
       "\n",
       "   Dividends  Stock Splits  \n",
       "0        0.0           0.0  \n",
       "1        0.0           0.0  \n",
       "2        0.0           0.0  \n",
       "3        0.0           0.0  \n",
       "4        0.0           0.0  "
      ]
     },
     "execution_count": 2,
     "metadata": {},
     "output_type": "execute_result"
    }
   ],
   "source": [
    "df = pd.read_csv('usdt-usd.csv')\n",
    "df.head(5) "
   ]
  },
  {
   "cell_type": "code",
   "execution_count": 4,
   "metadata": {},
   "outputs": [
    {
     "data": {
      "text/plain": [
       "Index(['Date', 'Open', 'High', 'Low', 'Close', 'Volume', 'Dividends',\n",
       "       'Stock Splits'],\n",
       "      dtype='object')"
      ]
     },
     "execution_count": 4,
     "metadata": {},
     "output_type": "execute_result"
    }
   ],
   "source": [
    "df.columns"
   ]
  },
  {
   "cell_type": "code",
   "execution_count": 5,
   "metadata": {},
   "outputs": [],
   "source": [
    "df.drop([ 'Open', 'High', 'Low',  'Dividends', 'Stock Splits', 'Volume'], inplace = True, axis = 1)"
   ]
  },
  {
   "cell_type": "code",
   "execution_count": 6,
   "metadata": {},
   "outputs": [
    {
     "data": {
      "text/plain": [
       "0       09-11-2017\n",
       "1       10-11-2017\n",
       "2       11-11-2017\n",
       "3       12-11-2017\n",
       "4       13-11-2017\n",
       "           ...    \n",
       "2394    30-05-2024\n",
       "2395    31-05-2024\n",
       "2396    01-06-2024\n",
       "2397    02-06-2024\n",
       "2398    03-06-2024\n",
       "Name: formatted_time, Length: 2399, dtype: object"
      ]
     },
     "execution_count": 6,
     "metadata": {},
     "output_type": "execute_result"
    }
   ],
   "source": [
    "df['time'] = pd.to_datetime(df['Date'])\n",
    "df['formatted_time'] = df['time'].dt.strftime('%d-%m-%Y')\n",
    "df['formatted_time']"
   ]
  },
  {
   "cell_type": "code",
   "execution_count": 7,
   "metadata": {},
   "outputs": [],
   "source": [
    "df.drop([ 'Date', 'time'], inplace = True, axis = 1)"
   ]
  },
  {
   "cell_type": "code",
   "execution_count": 16,
   "metadata": {},
   "outputs": [],
   "source": [
    "import pandas_ta as ta\n",
    " \n",
    "df['SMA'] = ta.sma(df['Close'], length=5) \n",
    "df['EMA'] = ta.ema(df['Close'], length=5) \n",
    "df['RSI'] = ta.rsi(df['Close'], length=14) "
   ]
  },
  {
   "cell_type": "code",
   "execution_count": 17,
   "metadata": {},
   "outputs": [
    {
     "data": {
      "text/html": [
       "<div>\n",
       "<style scoped>\n",
       "    .dataframe tbody tr th:only-of-type {\n",
       "        vertical-align: middle;\n",
       "    }\n",
       "\n",
       "    .dataframe tbody tr th {\n",
       "        vertical-align: top;\n",
       "    }\n",
       "\n",
       "    .dataframe thead th {\n",
       "        text-align: right;\n",
       "    }\n",
       "</style>\n",
       "<table border=\"1\" class=\"dataframe\">\n",
       "  <thead>\n",
       "    <tr style=\"text-align: right;\">\n",
       "      <th></th>\n",
       "      <th>Close</th>\n",
       "      <th>formatted_time</th>\n",
       "      <th>SMA</th>\n",
       "      <th>EMA</th>\n",
       "      <th>RSI</th>\n",
       "    </tr>\n",
       "  </thead>\n",
       "  <tbody>\n",
       "    <tr>\n",
       "      <th>0</th>\n",
       "      <td>1.008180</td>\n",
       "      <td>09-11-2017</td>\n",
       "      <td>NaN</td>\n",
       "      <td>NaN</td>\n",
       "      <td>NaN</td>\n",
       "    </tr>\n",
       "    <tr>\n",
       "      <th>1</th>\n",
       "      <td>1.006010</td>\n",
       "      <td>10-11-2017</td>\n",
       "      <td>NaN</td>\n",
       "      <td>NaN</td>\n",
       "      <td>NaN</td>\n",
       "    </tr>\n",
       "    <tr>\n",
       "      <th>2</th>\n",
       "      <td>1.008990</td>\n",
       "      <td>11-11-2017</td>\n",
       "      <td>NaN</td>\n",
       "      <td>NaN</td>\n",
       "      <td>NaN</td>\n",
       "    </tr>\n",
       "    <tr>\n",
       "      <th>3</th>\n",
       "      <td>1.012470</td>\n",
       "      <td>12-11-2017</td>\n",
       "      <td>NaN</td>\n",
       "      <td>NaN</td>\n",
       "      <td>NaN</td>\n",
       "    </tr>\n",
       "    <tr>\n",
       "      <th>4</th>\n",
       "      <td>1.009350</td>\n",
       "      <td>13-11-2017</td>\n",
       "      <td>1.009000</td>\n",
       "      <td>1.009000</td>\n",
       "      <td>NaN</td>\n",
       "    </tr>\n",
       "    <tr>\n",
       "      <th>...</th>\n",
       "      <td>...</td>\n",
       "      <td>...</td>\n",
       "      <td>...</td>\n",
       "      <td>...</td>\n",
       "      <td>...</td>\n",
       "    </tr>\n",
       "    <tr>\n",
       "      <th>2394</th>\n",
       "      <td>0.999658</td>\n",
       "      <td>30-05-2024</td>\n",
       "      <td>0.999212</td>\n",
       "      <td>0.999314</td>\n",
       "      <td>49.520516</td>\n",
       "    </tr>\n",
       "    <tr>\n",
       "      <th>2395</th>\n",
       "      <td>0.998995</td>\n",
       "      <td>31-05-2024</td>\n",
       "      <td>0.999106</td>\n",
       "      <td>0.999208</td>\n",
       "      <td>42.810368</td>\n",
       "    </tr>\n",
       "    <tr>\n",
       "      <th>2396</th>\n",
       "      <td>0.999292</td>\n",
       "      <td>01-06-2024</td>\n",
       "      <td>0.999122</td>\n",
       "      <td>0.999236</td>\n",
       "      <td>46.319632</td>\n",
       "    </tr>\n",
       "    <tr>\n",
       "      <th>2397</th>\n",
       "      <td>0.999403</td>\n",
       "      <td>02-06-2024</td>\n",
       "      <td>0.999222</td>\n",
       "      <td>0.999291</td>\n",
       "      <td>47.613214</td>\n",
       "    </tr>\n",
       "    <tr>\n",
       "      <th>2398</th>\n",
       "      <td>0.999566</td>\n",
       "      <td>03-06-2024</td>\n",
       "      <td>0.999383</td>\n",
       "      <td>0.999383</td>\n",
       "      <td>49.542237</td>\n",
       "    </tr>\n",
       "  </tbody>\n",
       "</table>\n",
       "<p>2399 rows × 5 columns</p>\n",
       "</div>"
      ],
      "text/plain": [
       "         Close formatted_time       SMA       EMA        RSI\n",
       "0     1.008180     09-11-2017       NaN       NaN        NaN\n",
       "1     1.006010     10-11-2017       NaN       NaN        NaN\n",
       "2     1.008990     11-11-2017       NaN       NaN        NaN\n",
       "3     1.012470     12-11-2017       NaN       NaN        NaN\n",
       "4     1.009350     13-11-2017  1.009000  1.009000        NaN\n",
       "...        ...            ...       ...       ...        ...\n",
       "2394  0.999658     30-05-2024  0.999212  0.999314  49.520516\n",
       "2395  0.998995     31-05-2024  0.999106  0.999208  42.810368\n",
       "2396  0.999292     01-06-2024  0.999122  0.999236  46.319632\n",
       "2397  0.999403     02-06-2024  0.999222  0.999291  47.613214\n",
       "2398  0.999566     03-06-2024  0.999383  0.999383  49.542237\n",
       "\n",
       "[2399 rows x 5 columns]"
      ]
     },
     "execution_count": 17,
     "metadata": {},
     "output_type": "execute_result"
    }
   ],
   "source": [
    "df"
   ]
  },
  {
   "cell_type": "code",
   "execution_count": 18,
   "metadata": {},
   "outputs": [],
   "source": [
    "df.fillna(0, inplace = True)"
   ]
  },
  {
   "cell_type": "code",
   "execution_count": 19,
   "metadata": {},
   "outputs": [],
   "source": [
    "new_df = df.copy()"
   ]
  },
  {
   "cell_type": "code",
   "execution_count": 22,
   "metadata": {},
   "outputs": [],
   "source": [
    "X = new_df.drop(['Close', 'formatted_time'], axis = 1).values\n",
    "Y = new_df['Close'].values"
   ]
  },
  {
   "cell_type": "code",
   "execution_count": 23,
   "metadata": {},
   "outputs": [
    {
     "data": {
      "text/plain": [
       "array([[ 0.        ,  0.        ,  0.        ],\n",
       "       [ 0.        ,  0.        ,  0.        ],\n",
       "       [ 0.        ,  0.        ,  0.        ],\n",
       "       ...,\n",
       "       [ 0.99912181,  0.99923575, 46.31963211],\n",
       "       [ 0.999222  ,  0.9992915 , 47.61321412],\n",
       "       [ 0.9993829 ,  0.99938316, 49.54223662]])"
      ]
     },
     "execution_count": 23,
     "metadata": {},
     "output_type": "execute_result"
    }
   ],
   "source": [
    "X"
   ]
  },
  {
   "cell_type": "code",
   "execution_count": 24,
   "metadata": {},
   "outputs": [
    {
     "data": {
      "text/plain": [
       "array([1.00818002, 1.00601006, 1.00899005, ..., 0.99929202, 0.999403  ,\n",
       "       0.9995665 ])"
      ]
     },
     "execution_count": 24,
     "metadata": {},
     "output_type": "execute_result"
    }
   ],
   "source": [
    "Y"
   ]
  },
  {
   "cell_type": "code",
   "execution_count": 25,
   "metadata": {},
   "outputs": [],
   "source": [
    "X_train, X_test, y_train, y_test = train_test_split(X, Y, test_size=0.2, random_state=42)"
   ]
  },
  {
   "cell_type": "code",
   "execution_count": 26,
   "metadata": {},
   "outputs": [],
   "source": [
    "from sklearn.model_selection import GridSearchCV\n",
    "from sklearn.ensemble import RandomForestRegressor\n",
    "from sklearn.metrics import mean_squared_error, mean_absolute_error, r2_score "
   ]
  },
  {
   "cell_type": "code",
   "execution_count": 27,
   "metadata": {},
   "outputs": [
    {
     "data": {
      "text/html": [
       "<style>#sk-container-id-1 {color: black;}#sk-container-id-1 pre{padding: 0;}#sk-container-id-1 div.sk-toggleable {background-color: white;}#sk-container-id-1 label.sk-toggleable__label {cursor: pointer;display: block;width: 100%;margin-bottom: 0;padding: 0.3em;box-sizing: border-box;text-align: center;}#sk-container-id-1 label.sk-toggleable__label-arrow:before {content: \"▸\";float: left;margin-right: 0.25em;color: #696969;}#sk-container-id-1 label.sk-toggleable__label-arrow:hover:before {color: black;}#sk-container-id-1 div.sk-estimator:hover label.sk-toggleable__label-arrow:before {color: black;}#sk-container-id-1 div.sk-toggleable__content {max-height: 0;max-width: 0;overflow: hidden;text-align: left;background-color: #f0f8ff;}#sk-container-id-1 div.sk-toggleable__content pre {margin: 0.2em;color: black;border-radius: 0.25em;background-color: #f0f8ff;}#sk-container-id-1 input.sk-toggleable__control:checked~div.sk-toggleable__content {max-height: 200px;max-width: 100%;overflow: auto;}#sk-container-id-1 input.sk-toggleable__control:checked~label.sk-toggleable__label-arrow:before {content: \"▾\";}#sk-container-id-1 div.sk-estimator input.sk-toggleable__control:checked~label.sk-toggleable__label {background-color: #d4ebff;}#sk-container-id-1 div.sk-label input.sk-toggleable__control:checked~label.sk-toggleable__label {background-color: #d4ebff;}#sk-container-id-1 input.sk-hidden--visually {border: 0;clip: rect(1px 1px 1px 1px);clip: rect(1px, 1px, 1px, 1px);height: 1px;margin: -1px;overflow: hidden;padding: 0;position: absolute;width: 1px;}#sk-container-id-1 div.sk-estimator {font-family: monospace;background-color: #f0f8ff;border: 1px dotted black;border-radius: 0.25em;box-sizing: border-box;margin-bottom: 0.5em;}#sk-container-id-1 div.sk-estimator:hover {background-color: #d4ebff;}#sk-container-id-1 div.sk-parallel-item::after {content: \"\";width: 100%;border-bottom: 1px solid gray;flex-grow: 1;}#sk-container-id-1 div.sk-label:hover label.sk-toggleable__label {background-color: #d4ebff;}#sk-container-id-1 div.sk-serial::before {content: \"\";position: absolute;border-left: 1px solid gray;box-sizing: border-box;top: 0;bottom: 0;left: 50%;z-index: 0;}#sk-container-id-1 div.sk-serial {display: flex;flex-direction: column;align-items: center;background-color: white;padding-right: 0.2em;padding-left: 0.2em;position: relative;}#sk-container-id-1 div.sk-item {position: relative;z-index: 1;}#sk-container-id-1 div.sk-parallel {display: flex;align-items: stretch;justify-content: center;background-color: white;position: relative;}#sk-container-id-1 div.sk-item::before, #sk-container-id-1 div.sk-parallel-item::before {content: \"\";position: absolute;border-left: 1px solid gray;box-sizing: border-box;top: 0;bottom: 0;left: 50%;z-index: -1;}#sk-container-id-1 div.sk-parallel-item {display: flex;flex-direction: column;z-index: 1;position: relative;background-color: white;}#sk-container-id-1 div.sk-parallel-item:first-child::after {align-self: flex-end;width: 50%;}#sk-container-id-1 div.sk-parallel-item:last-child::after {align-self: flex-start;width: 50%;}#sk-container-id-1 div.sk-parallel-item:only-child::after {width: 0;}#sk-container-id-1 div.sk-dashed-wrapped {border: 1px dashed gray;margin: 0 0.4em 0.5em 0.4em;box-sizing: border-box;padding-bottom: 0.4em;background-color: white;}#sk-container-id-1 div.sk-label label {font-family: monospace;font-weight: bold;display: inline-block;line-height: 1.2em;}#sk-container-id-1 div.sk-label-container {text-align: center;}#sk-container-id-1 div.sk-container {/* jupyter's `normalize.less` sets `[hidden] { display: none; }` but bootstrap.min.css set `[hidden] { display: none !important; }` so we also need the `!important` here to be able to override the default hidden behavior on the sphinx rendered scikit-learn.org. See: https://github.com/scikit-learn/scikit-learn/issues/21755 */display: inline-block !important;position: relative;}#sk-container-id-1 div.sk-text-repr-fallback {display: none;}</style><div id=\"sk-container-id-1\" class=\"sk-top-container\"><div class=\"sk-text-repr-fallback\"><pre>GridSearchCV(cv=3, estimator=RandomForestRegressor(),\n",
       "             param_grid={&#x27;n_estimators&#x27;: [50, 100, 150, 200, 250, 300]})</pre><b>In a Jupyter environment, please rerun this cell to show the HTML representation or trust the notebook. <br />On GitHub, the HTML representation is unable to render, please try loading this page with nbviewer.org.</b></div><div class=\"sk-container\" hidden><div class=\"sk-item sk-dashed-wrapped\"><div class=\"sk-label-container\"><div class=\"sk-label sk-toggleable\"><input class=\"sk-toggleable__control sk-hidden--visually\" id=\"sk-estimator-id-1\" type=\"checkbox\" ><label for=\"sk-estimator-id-1\" class=\"sk-toggleable__label sk-toggleable__label-arrow\">GridSearchCV</label><div class=\"sk-toggleable__content\"><pre>GridSearchCV(cv=3, estimator=RandomForestRegressor(),\n",
       "             param_grid={&#x27;n_estimators&#x27;: [50, 100, 150, 200, 250, 300]})</pre></div></div></div><div class=\"sk-parallel\"><div class=\"sk-parallel-item\"><div class=\"sk-item\"><div class=\"sk-label-container\"><div class=\"sk-label sk-toggleable\"><input class=\"sk-toggleable__control sk-hidden--visually\" id=\"sk-estimator-id-2\" type=\"checkbox\" ><label for=\"sk-estimator-id-2\" class=\"sk-toggleable__label sk-toggleable__label-arrow\">estimator: RandomForestRegressor</label><div class=\"sk-toggleable__content\"><pre>RandomForestRegressor()</pre></div></div></div><div class=\"sk-serial\"><div class=\"sk-item\"><div class=\"sk-estimator sk-toggleable\"><input class=\"sk-toggleable__control sk-hidden--visually\" id=\"sk-estimator-id-3\" type=\"checkbox\" ><label for=\"sk-estimator-id-3\" class=\"sk-toggleable__label sk-toggleable__label-arrow\">RandomForestRegressor</label><div class=\"sk-toggleable__content\"><pre>RandomForestRegressor()</pre></div></div></div></div></div></div></div></div></div></div>"
      ],
      "text/plain": [
       "GridSearchCV(cv=3, estimator=RandomForestRegressor(),\n",
       "             param_grid={'n_estimators': [50, 100, 150, 200, 250, 300]})"
      ]
     },
     "execution_count": 27,
     "metadata": {},
     "output_type": "execute_result"
    }
   ],
   "source": [
    "rf = RandomForestRegressor()\n",
    " \n",
    "param_grid = {\n",
    "    'n_estimators': [50, 100, 150, 200, 250, 300]\n",
    "}\n",
    "grid_search_rf = GridSearchCV(estimator=rf, param_grid=param_grid, cv=3)\n",
    "grid_search_rf.fit(X_train, y_train)\n"
   ]
  },
  {
   "cell_type": "code",
   "execution_count": 28,
   "metadata": {},
   "outputs": [
    {
     "data": {
      "text/html": [
       "<style>#sk-container-id-2 {color: black;}#sk-container-id-2 pre{padding: 0;}#sk-container-id-2 div.sk-toggleable {background-color: white;}#sk-container-id-2 label.sk-toggleable__label {cursor: pointer;display: block;width: 100%;margin-bottom: 0;padding: 0.3em;box-sizing: border-box;text-align: center;}#sk-container-id-2 label.sk-toggleable__label-arrow:before {content: \"▸\";float: left;margin-right: 0.25em;color: #696969;}#sk-container-id-2 label.sk-toggleable__label-arrow:hover:before {color: black;}#sk-container-id-2 div.sk-estimator:hover label.sk-toggleable__label-arrow:before {color: black;}#sk-container-id-2 div.sk-toggleable__content {max-height: 0;max-width: 0;overflow: hidden;text-align: left;background-color: #f0f8ff;}#sk-container-id-2 div.sk-toggleable__content pre {margin: 0.2em;color: black;border-radius: 0.25em;background-color: #f0f8ff;}#sk-container-id-2 input.sk-toggleable__control:checked~div.sk-toggleable__content {max-height: 200px;max-width: 100%;overflow: auto;}#sk-container-id-2 input.sk-toggleable__control:checked~label.sk-toggleable__label-arrow:before {content: \"▾\";}#sk-container-id-2 div.sk-estimator input.sk-toggleable__control:checked~label.sk-toggleable__label {background-color: #d4ebff;}#sk-container-id-2 div.sk-label input.sk-toggleable__control:checked~label.sk-toggleable__label {background-color: #d4ebff;}#sk-container-id-2 input.sk-hidden--visually {border: 0;clip: rect(1px 1px 1px 1px);clip: rect(1px, 1px, 1px, 1px);height: 1px;margin: -1px;overflow: hidden;padding: 0;position: absolute;width: 1px;}#sk-container-id-2 div.sk-estimator {font-family: monospace;background-color: #f0f8ff;border: 1px dotted black;border-radius: 0.25em;box-sizing: border-box;margin-bottom: 0.5em;}#sk-container-id-2 div.sk-estimator:hover {background-color: #d4ebff;}#sk-container-id-2 div.sk-parallel-item::after {content: \"\";width: 100%;border-bottom: 1px solid gray;flex-grow: 1;}#sk-container-id-2 div.sk-label:hover label.sk-toggleable__label {background-color: #d4ebff;}#sk-container-id-2 div.sk-serial::before {content: \"\";position: absolute;border-left: 1px solid gray;box-sizing: border-box;top: 0;bottom: 0;left: 50%;z-index: 0;}#sk-container-id-2 div.sk-serial {display: flex;flex-direction: column;align-items: center;background-color: white;padding-right: 0.2em;padding-left: 0.2em;position: relative;}#sk-container-id-2 div.sk-item {position: relative;z-index: 1;}#sk-container-id-2 div.sk-parallel {display: flex;align-items: stretch;justify-content: center;background-color: white;position: relative;}#sk-container-id-2 div.sk-item::before, #sk-container-id-2 div.sk-parallel-item::before {content: \"\";position: absolute;border-left: 1px solid gray;box-sizing: border-box;top: 0;bottom: 0;left: 50%;z-index: -1;}#sk-container-id-2 div.sk-parallel-item {display: flex;flex-direction: column;z-index: 1;position: relative;background-color: white;}#sk-container-id-2 div.sk-parallel-item:first-child::after {align-self: flex-end;width: 50%;}#sk-container-id-2 div.sk-parallel-item:last-child::after {align-self: flex-start;width: 50%;}#sk-container-id-2 div.sk-parallel-item:only-child::after {width: 0;}#sk-container-id-2 div.sk-dashed-wrapped {border: 1px dashed gray;margin: 0 0.4em 0.5em 0.4em;box-sizing: border-box;padding-bottom: 0.4em;background-color: white;}#sk-container-id-2 div.sk-label label {font-family: monospace;font-weight: bold;display: inline-block;line-height: 1.2em;}#sk-container-id-2 div.sk-label-container {text-align: center;}#sk-container-id-2 div.sk-container {/* jupyter's `normalize.less` sets `[hidden] { display: none; }` but bootstrap.min.css set `[hidden] { display: none !important; }` so we also need the `!important` here to be able to override the default hidden behavior on the sphinx rendered scikit-learn.org. See: https://github.com/scikit-learn/scikit-learn/issues/21755 */display: inline-block !important;position: relative;}#sk-container-id-2 div.sk-text-repr-fallback {display: none;}</style><div id=\"sk-container-id-2\" class=\"sk-top-container\"><div class=\"sk-text-repr-fallback\"><pre>RandomForestRegressor(n_estimators=300)</pre><b>In a Jupyter environment, please rerun this cell to show the HTML representation or trust the notebook. <br />On GitHub, the HTML representation is unable to render, please try loading this page with nbviewer.org.</b></div><div class=\"sk-container\" hidden><div class=\"sk-item\"><div class=\"sk-estimator sk-toggleable\"><input class=\"sk-toggleable__control sk-hidden--visually\" id=\"sk-estimator-id-4\" type=\"checkbox\" checked><label for=\"sk-estimator-id-4\" class=\"sk-toggleable__label sk-toggleable__label-arrow\">RandomForestRegressor</label><div class=\"sk-toggleable__content\"><pre>RandomForestRegressor(n_estimators=300)</pre></div></div></div></div></div>"
      ],
      "text/plain": [
       "RandomForestRegressor(n_estimators=300)"
      ]
     },
     "execution_count": 28,
     "metadata": {},
     "output_type": "execute_result"
    }
   ],
   "source": [
    "best_rf = grid_search_rf.best_estimator_\n",
    "best_rf"
   ]
  },
  {
   "cell_type": "code",
   "execution_count": 29,
   "metadata": {},
   "outputs": [
    {
     "data": {
      "text/plain": [
       "array([1.00002969, 1.00029692, 1.0087777 , 0.99936268, 1.00021462,\n",
       "       0.99304206, 1.00075706, 1.00006255, 1.00257181, 1.00089973,\n",
       "       0.99955984, 0.99994746, 1.00015144, 1.00064947, 0.99969567,\n",
       "       1.00004595, 0.99774578, 1.0000965 , 1.00007714, 1.00048133,\n",
       "       1.00318127, 1.00034458, 0.99987211, 1.00046503, 1.00035392,\n",
       "       1.00410022, 1.00050278, 0.99887017, 1.00043564, 1.00043405,\n",
       "       1.00007338, 1.00110895, 1.00047521, 1.0004165 , 1.00005393,\n",
       "       1.00031046, 1.00662822, 1.00102749, 1.00420766, 1.00057992,\n",
       "       1.00867693, 1.00043382, 1.00334628, 1.00651283, 1.00555926,\n",
       "       1.00002448, 0.99991211, 0.99964011, 1.00078371, 1.00037329,\n",
       "       1.00111693, 0.99929687, 1.01884593, 1.00032878, 1.00011474,\n",
       "       1.00072169, 1.00066651, 0.99992976, 1.00025898, 1.00036898,\n",
       "       1.00011141, 1.00195609, 1.00003456, 1.00350591, 1.00010136,\n",
       "       1.00213385, 0.99954163, 1.02461253, 0.99851723, 1.00018466,\n",
       "       1.00017189, 1.00253362, 1.00019195, 1.0004362 , 1.00388342,\n",
       "       0.99985781, 0.99999175, 1.0005544 , 1.00417266, 1.00064553,\n",
       "       0.99914659, 1.00563072, 1.00014474, 1.00252687, 0.99750398,\n",
       "       1.0051394 , 1.00016981, 1.0054779 , 1.00300096, 1.02529477,\n",
       "       1.00190422, 1.00119963, 1.00305386, 1.00023551, 1.00072587,\n",
       "       1.00029871, 1.00464809, 1.00039435, 1.00069443, 1.0003456 ,\n",
       "       1.00007108, 1.0001943 , 1.00120629, 1.00060705, 0.9999526 ,\n",
       "       0.999984  , 1.00026158, 1.00668759, 1.00015557, 1.00008236,\n",
       "       1.00136328, 1.00028581, 0.99913103, 0.99986092, 1.00203924,\n",
       "       1.00883473, 0.99935559, 0.99881153, 0.99920283, 1.00383325,\n",
       "       1.000571  , 1.00017151, 1.00016816, 1.00018729, 1.00008422,\n",
       "       1.00031764, 1.00046424, 0.99935621, 0.99918402, 0.99990091,\n",
       "       1.00025977, 1.00001764, 1.00115548, 0.98880727, 1.00040596,\n",
       "       1.00079133, 1.00013558, 1.00050362, 1.00011173, 0.99871151,\n",
       "       1.00051206, 0.99986382, 0.99991495, 1.00053293, 1.00077963,\n",
       "       1.00201107, 1.00027389, 0.99837185, 0.99861972, 1.00128832,\n",
       "       1.00054188, 0.99995399, 1.00252015, 0.99844985, 0.99964721,\n",
       "       1.00343305, 1.00584991, 0.99750432, 1.00018595, 1.00093381,\n",
       "       0.99868128, 0.99973003, 1.00428358, 1.02290817, 0.99697502,\n",
       "       1.00003095, 1.00038793, 1.00046736, 1.0210502 , 1.0005958 ,\n",
       "       1.01841542, 1.00040269, 1.00017856, 0.99845773, 1.01571045,\n",
       "       1.00857828, 0.99742388, 1.00103753, 1.00009283, 0.99866045,\n",
       "       1.0002285 , 1.00174778, 1.02202927, 1.0005058 , 0.99890637,\n",
       "       1.00019944, 1.00022908, 1.00041287, 1.01638188, 0.99972517,\n",
       "       1.00162878, 1.00948288, 1.00044076, 1.00021766, 0.99872743,\n",
       "       1.00107643, 1.0029659 , 1.00027141, 0.99968959, 1.00016539,\n",
       "       0.99988528, 1.00079731, 1.00089706, 1.00043603, 1.00047677,\n",
       "       1.00091916, 1.0000429 , 1.01024258, 1.02288885, 1.00008984,\n",
       "       1.00021719, 1.00899638, 1.00085482, 1.00037318, 1.00149829,\n",
       "       1.00062111, 1.00073119, 0.99989208, 1.0001986 , 1.00652915,\n",
       "       1.00387633, 1.0168877 , 1.00007504, 1.00013873, 1.00080824,\n",
       "       0.99998926, 0.99851963, 1.00061389, 1.00319662, 1.00041644,\n",
       "       1.00018482, 1.00013043, 1.00253466, 1.00029577, 1.00027158,\n",
       "       1.00161925, 1.00011139, 1.00794361, 1.00035389, 0.9995226 ,\n",
       "       1.01109596, 1.00029293, 1.00130441, 1.00442272, 1.00132004,\n",
       "       0.99824305, 1.00233794, 0.99942923, 1.0005133 , 1.0060156 ,\n",
       "       0.99748812, 0.99878219, 0.9965597 , 1.00056643, 0.99999521,\n",
       "       1.00011012, 0.99994085, 0.99294872, 0.99241996, 1.00771022,\n",
       "       1.00523303, 1.0024817 , 1.00508865, 1.00027706, 1.00065215,\n",
       "       0.99847618, 0.99854275, 1.00032039, 1.01120876, 0.99319954,\n",
       "       0.9977807 , 1.00064251, 1.00600891, 1.00053528, 1.00414899,\n",
       "       1.00018132, 1.01129797, 0.99900478, 1.00012686, 1.00001181,\n",
       "       1.01626935, 1.00020721, 0.99877888, 1.00598004, 1.01855926,\n",
       "       0.992307  , 1.02096208, 1.0040747 , 1.00057764, 1.00042841,\n",
       "       0.99912905, 0.99539318, 1.00010203, 1.00827395, 1.00351699,\n",
       "       0.99889757, 1.00393647, 1.00016715, 0.99996586, 0.97260417,\n",
       "       0.99981008, 1.00532627, 0.99943739, 1.00703529, 1.01277346,\n",
       "       1.0001231 , 1.00117227, 1.00129572, 0.99989406, 1.00091545,\n",
       "       1.00066065, 1.00007942, 0.99786437, 1.00008114, 1.00035882,\n",
       "       1.01423948, 1.00035803, 1.01099575, 1.00036127, 1.00039913,\n",
       "       1.00018525, 1.00184742, 1.00046492, 0.99898849, 1.00019345,\n",
       "       0.99629318, 1.00320996, 1.0010043 , 1.00017963, 1.00024701,\n",
       "       1.00724595, 1.0000906 , 1.00060213, 1.00020191, 0.99989663,\n",
       "       0.9880834 , 0.99926492, 0.99951797, 1.00022777, 1.00003252,\n",
       "       1.00643781, 1.00049765, 1.0002716 , 0.99998232, 1.00475346,\n",
       "       1.00018331, 1.0000652 , 1.0174804 , 1.00007361, 1.00013193,\n",
       "       1.00036727, 1.00071285, 1.0072723 , 1.01218858, 1.00006221,\n",
       "       0.99523046, 1.01023396, 0.99959717, 1.00301332, 1.00009508,\n",
       "       0.99869931, 1.0017029 , 1.00279503, 1.00055014, 1.00018593,\n",
       "       1.00070689, 1.00181503, 1.00009733, 1.00142872, 1.00165384,\n",
       "       1.00124088, 1.00032333, 0.99858556, 0.99256997, 1.00070366,\n",
       "       0.99998577, 1.00059564, 1.00060291, 1.00007633, 1.00601708,\n",
       "       1.00633042, 1.00032484, 1.00014946, 1.00511061, 1.0001535 ,\n",
       "       1.00241842, 0.99851042, 1.00050531, 0.99867893, 1.00004929,\n",
       "       1.00053347, 1.00125819, 0.99977539, 0.99944718, 0.98875049,\n",
       "       0.99541271, 0.99982089, 1.00424201, 1.00221727, 1.00087044,\n",
       "       0.99998246, 1.00100816, 0.99943194, 1.00331594, 1.00010858,\n",
       "       1.0012174 , 1.00635813, 1.00078358, 1.00050118, 1.00023112,\n",
       "       1.00016643, 1.00143597, 1.00320616, 1.00124432, 1.00128997,\n",
       "       1.00040086, 1.00528534, 1.00127058, 0.99901635, 1.00043497,\n",
       "       1.00176135, 1.00295285, 1.00014997, 0.98581894, 1.00075969,\n",
       "       1.00210332, 1.00045061, 1.00070858, 0.9975052 , 1.01639085,\n",
       "       1.00020374, 1.01019502, 0.99990706, 1.00148387, 0.99996704,\n",
       "       0.9996712 , 1.00010207, 0.99996365, 0.99858483, 1.00095355,\n",
       "       1.00307992, 0.99899818, 0.99997638, 1.00012679, 1.00133389,\n",
       "       0.99989148, 0.99778519, 1.00044485, 0.99979958, 1.00150763,\n",
       "       1.00076635, 1.00010074, 1.00589722, 1.0017725 , 1.00836536,\n",
       "       1.00200277, 0.99990263, 1.00078311, 1.00618201, 0.99396299,\n",
       "       1.00086207, 1.00395626, 1.00036319, 1.00013767, 1.00015388,\n",
       "       0.99997347, 0.99979985, 1.0054795 , 1.00032608, 0.99807673,\n",
       "       0.99986327, 1.00025929, 1.01179981, 1.00109451, 1.00042716,\n",
       "       0.99875121, 0.9975195 , 0.99928539, 1.02223877, 1.00613709])"
      ]
     },
     "execution_count": 29,
     "metadata": {},
     "output_type": "execute_result"
    }
   ],
   "source": [
    "y_pred_rf = best_rf.predict(X_test) "
   ]
  },
  {
   "cell_type": "code",
   "execution_count": 30,
   "metadata": {},
   "outputs": [
    {
     "name": "stdout",
     "output_type": "stream",
     "text": [
      "{'RMSE': 0.001800782635511388, 'MSE': 3.2428181003593407e-06, 'MAE': 0.0007334840500520364, 'R2': 0.8843635627271114}\n"
     ]
    }
   ],
   "source": [
    "rf_metrics = {\n",
    "    'RMSE': np.sqrt(mean_squared_error(y_test, y_pred_rf)),\n",
    "    'MSE': mean_squared_error(y_test, y_pred_rf),\n",
    "    'MAE': mean_absolute_error(y_test, y_pred_rf),\n",
    "    'R2': r2_score(y_test, y_pred_rf)\n",
    "}\n",
    "print(rf_metrics)\n"
   ]
  },
  {
   "cell_type": "code",
   "execution_count": 31,
   "metadata": {},
   "outputs": [
    {
     "data": {
      "text/plain": [
       "2399"
      ]
     },
     "execution_count": 31,
     "metadata": {},
     "output_type": "execute_result"
    }
   ],
   "source": [
    "len(df)"
   ]
  },
  {
   "cell_type": "code",
   "execution_count": 32,
   "metadata": {},
   "outputs": [],
   "source": [
    "data = df [len(df) - 15:]"
   ]
  },
  {
   "cell_type": "code",
   "execution_count": 34,
   "metadata": {},
   "outputs": [
    {
     "name": "stdout",
     "output_type": "stream",
     "text": [
      "[0.99882265]\n",
      "[0.99888768]\n",
      "[0.9988445]\n",
      "[0.99870411]\n",
      "[0.9986585]\n",
      "[0.99872825]\n",
      "[0.99868193]\n",
      "[0.99866508]\n",
      "[0.99861337]\n",
      "[0.99858481]\n"
     ]
    }
   ],
   "source": [
    "for i in range(2):\n",
    "    sma = ta.sma(data['Close'], length=5).iloc[-1]\n",
    "    ema = ta.ema(data['Close'], length=5).iloc[-1]\n",
    "    rsi = ta.rsi(data['Close'], length=14).iloc[-1]\n",
    "    # sma_5, ema_5, rsi_14 = scaler.fit_transform(np.array([sma, ema, rsi]).reshape(-1, 1))\n",
    "    # new_close = best_rf.predict([[0.163528, 0.0, 0.0, 0.0, 1.0, 0.0, sma_5[0], ema_5[0], rsi_14[0]]])\n",
    "    new_close = best_rf.predict([[sma, ema, rsi]])\n",
    "    print(new_close)\n",
    "    new_row = pd.DataFrame({\"Close\": new_close, \"formatted_time\" : \"0\", \"SMA\" : sma, \"EMA\" : ema, \"RSI\" : rsi})\n",
    "    data = pd.concat([data, new_row], ignore_index= True)\n",
    "    "
   ]
  },
  {
   "cell_type": "code",
   "execution_count": null,
   "metadata": {},
   "outputs": [
    {
     "name": "stdout",
     "output_type": "stream",
     "text": [
      "{'RMSE': 39.27151662421437, 'MSE': 1542.2520179659455, 'MAE': 20.68864892191357, 'R2': 0.9988150096961236}\n"
     ]
    }
   ],
   "source": [
    "\n",
    "# Evaluate the model\n",
    "rf_metrics = {\n",
    "    'RMSE': np.sqrt(mean_squared_error(y_test, y_pred_rf)),\n",
    "    'MSE': mean_squared_error(y_test, y_pred_rf),\n",
    "    'MAE': mean_absolute_error(y_test, y_pred_rf),\n",
    "    'R2': r2_score(y_test, y_pred_rf)\n",
    "}\n",
    "print(rf_metrics)\n"
   ]
  },
  {
   "cell_type": "code",
   "execution_count": 38,
   "metadata": {},
   "outputs": [],
   "source": [
    "import pickle \n",
    "with open('usdt.pkl', 'wb') as f:\n",
    "    pickle.dump(best_rf, f)"
   ]
  }
 ],
 "metadata": {
  "kernelspec": {
   "display_name": "Python 3",
   "language": "python",
   "name": "python3"
  },
  "language_info": {
   "codemirror_mode": {
    "name": "ipython",
    "version": 3
   },
   "file_extension": ".py",
   "mimetype": "text/x-python",
   "name": "python",
   "nbconvert_exporter": "python",
   "pygments_lexer": "ipython3",
   "version": "3.12.0"
  }
 },
 "nbformat": 4,
 "nbformat_minor": 2
}
