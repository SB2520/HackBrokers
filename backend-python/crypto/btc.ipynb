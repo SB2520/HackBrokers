{
 "cells": [
  {
   "cell_type": "code",
   "execution_count": 1,
   "metadata": {},
   "outputs": [],
   "source": [
    "import pandas as pd \n",
    "import numpy as np\n",
    "from sklearn.preprocessing import MinMaxScaler\n",
    "from sklearn.model_selection import train_test_split"
   ]
  },
  {
   "cell_type": "code",
   "execution_count": 2,
   "metadata": {},
   "outputs": [],
   "source": [
    "import os  \n",
    "import json"
   ]
  },
  {
   "cell_type": "code",
   "execution_count": 3,
   "metadata": {},
   "outputs": [
    {
     "data": {
      "text/html": [
       "<div>\n",
       "<style scoped>\n",
       "    .dataframe tbody tr th:only-of-type {\n",
       "        vertical-align: middle;\n",
       "    }\n",
       "\n",
       "    .dataframe tbody tr th {\n",
       "        vertical-align: top;\n",
       "    }\n",
       "\n",
       "    .dataframe thead th {\n",
       "        text-align: right;\n",
       "    }\n",
       "</style>\n",
       "<table border=\"1\" class=\"dataframe\">\n",
       "  <thead>\n",
       "    <tr style=\"text-align: right;\">\n",
       "      <th></th>\n",
       "      <th>Date</th>\n",
       "      <th>Open</th>\n",
       "      <th>High</th>\n",
       "      <th>Low</th>\n",
       "      <th>Close</th>\n",
       "      <th>Volume</th>\n",
       "      <th>Dividends</th>\n",
       "      <th>Stock Splits</th>\n",
       "    </tr>\n",
       "  </thead>\n",
       "  <tbody>\n",
       "    <tr>\n",
       "      <th>0</th>\n",
       "      <td>2014-09-17 00:00:00+00:00</td>\n",
       "      <td>465.864014</td>\n",
       "      <td>468.174011</td>\n",
       "      <td>452.421997</td>\n",
       "      <td>457.334015</td>\n",
       "      <td>21056800</td>\n",
       "      <td>0.0</td>\n",
       "      <td>0.0</td>\n",
       "    </tr>\n",
       "    <tr>\n",
       "      <th>1</th>\n",
       "      <td>2014-09-18 00:00:00+00:00</td>\n",
       "      <td>456.859985</td>\n",
       "      <td>456.859985</td>\n",
       "      <td>413.104004</td>\n",
       "      <td>424.440002</td>\n",
       "      <td>34483200</td>\n",
       "      <td>0.0</td>\n",
       "      <td>0.0</td>\n",
       "    </tr>\n",
       "    <tr>\n",
       "      <th>2</th>\n",
       "      <td>2014-09-19 00:00:00+00:00</td>\n",
       "      <td>424.102997</td>\n",
       "      <td>427.834991</td>\n",
       "      <td>384.532013</td>\n",
       "      <td>394.795990</td>\n",
       "      <td>37919700</td>\n",
       "      <td>0.0</td>\n",
       "      <td>0.0</td>\n",
       "    </tr>\n",
       "    <tr>\n",
       "      <th>3</th>\n",
       "      <td>2014-09-20 00:00:00+00:00</td>\n",
       "      <td>394.673004</td>\n",
       "      <td>423.295990</td>\n",
       "      <td>389.882996</td>\n",
       "      <td>408.903992</td>\n",
       "      <td>36863600</td>\n",
       "      <td>0.0</td>\n",
       "      <td>0.0</td>\n",
       "    </tr>\n",
       "    <tr>\n",
       "      <th>4</th>\n",
       "      <td>2014-09-21 00:00:00+00:00</td>\n",
       "      <td>408.084991</td>\n",
       "      <td>412.425995</td>\n",
       "      <td>393.181000</td>\n",
       "      <td>398.821014</td>\n",
       "      <td>26580100</td>\n",
       "      <td>0.0</td>\n",
       "      <td>0.0</td>\n",
       "    </tr>\n",
       "  </tbody>\n",
       "</table>\n",
       "</div>"
      ],
      "text/plain": [
       "                        Date        Open        High         Low       Close  \\\n",
       "0  2014-09-17 00:00:00+00:00  465.864014  468.174011  452.421997  457.334015   \n",
       "1  2014-09-18 00:00:00+00:00  456.859985  456.859985  413.104004  424.440002   \n",
       "2  2014-09-19 00:00:00+00:00  424.102997  427.834991  384.532013  394.795990   \n",
       "3  2014-09-20 00:00:00+00:00  394.673004  423.295990  389.882996  408.903992   \n",
       "4  2014-09-21 00:00:00+00:00  408.084991  412.425995  393.181000  398.821014   \n",
       "\n",
       "     Volume  Dividends  Stock Splits  \n",
       "0  21056800        0.0           0.0  \n",
       "1  34483200        0.0           0.0  \n",
       "2  37919700        0.0           0.0  \n",
       "3  36863600        0.0           0.0  \n",
       "4  26580100        0.0           0.0  "
      ]
     },
     "execution_count": 3,
     "metadata": {},
     "output_type": "execute_result"
    }
   ],
   "source": [
    "df = pd.read_csv('btc.csv')\n",
    "df.head(5) "
   ]
  },
  {
   "cell_type": "code",
   "execution_count": 5,
   "metadata": {},
   "outputs": [
    {
     "data": {
      "text/plain": [
       "Index(['Date', 'Open', 'High', 'Low', 'Close', 'Volume', 'Dividends',\n",
       "       'Stock Splits'],\n",
       "      dtype='object')"
      ]
     },
     "execution_count": 5,
     "metadata": {},
     "output_type": "execute_result"
    }
   ],
   "source": [
    "df.columns"
   ]
  },
  {
   "cell_type": "code",
   "execution_count": 6,
   "metadata": {},
   "outputs": [],
   "source": [
    "df.drop([ 'Open', 'High', 'Low',  'Dividends', 'Stock Splits', 'Volume'], inplace = True, axis = 1)"
   ]
  },
  {
   "cell_type": "code",
   "execution_count": 7,
   "metadata": {},
   "outputs": [
    {
     "data": {
      "text/plain": [
       "0       17-09-2014\n",
       "1       18-09-2014\n",
       "2       19-09-2014\n",
       "3       20-09-2014\n",
       "4       21-09-2014\n",
       "           ...    \n",
       "3543    30-05-2024\n",
       "3544    31-05-2024\n",
       "3545    01-06-2024\n",
       "3546    02-06-2024\n",
       "3547    03-06-2024\n",
       "Name: formatted_time, Length: 3548, dtype: object"
      ]
     },
     "execution_count": 7,
     "metadata": {},
     "output_type": "execute_result"
    }
   ],
   "source": [
    "df['time'] = pd.to_datetime(df['Date'])\n",
    "df['formatted_time'] = df['time'].dt.strftime('%d-%m-%Y')\n",
    "df['formatted_time']"
   ]
  },
  {
   "cell_type": "code",
   "execution_count": 8,
   "metadata": {},
   "outputs": [],
   "source": [
    "df.drop([ 'Date', 'time'], inplace = True, axis = 1)"
   ]
  },
  {
   "cell_type": "code",
   "execution_count": 9,
   "metadata": {},
   "outputs": [
    {
     "data": {
      "text/html": [
       "<div>\n",
       "<style scoped>\n",
       "    .dataframe tbody tr th:only-of-type {\n",
       "        vertical-align: middle;\n",
       "    }\n",
       "\n",
       "    .dataframe tbody tr th {\n",
       "        vertical-align: top;\n",
       "    }\n",
       "\n",
       "    .dataframe thead th {\n",
       "        text-align: right;\n",
       "    }\n",
       "</style>\n",
       "<table border=\"1\" class=\"dataframe\">\n",
       "  <thead>\n",
       "    <tr style=\"text-align: right;\">\n",
       "      <th></th>\n",
       "      <th>Close</th>\n",
       "      <th>formatted_time</th>\n",
       "    </tr>\n",
       "  </thead>\n",
       "  <tbody>\n",
       "    <tr>\n",
       "      <th>0</th>\n",
       "      <td>457.334015</td>\n",
       "      <td>17-09-2014</td>\n",
       "    </tr>\n",
       "    <tr>\n",
       "      <th>1</th>\n",
       "      <td>424.440002</td>\n",
       "      <td>18-09-2014</td>\n",
       "    </tr>\n",
       "    <tr>\n",
       "      <th>2</th>\n",
       "      <td>394.795990</td>\n",
       "      <td>19-09-2014</td>\n",
       "    </tr>\n",
       "    <tr>\n",
       "      <th>3</th>\n",
       "      <td>408.903992</td>\n",
       "      <td>20-09-2014</td>\n",
       "    </tr>\n",
       "    <tr>\n",
       "      <th>4</th>\n",
       "      <td>398.821014</td>\n",
       "      <td>21-09-2014</td>\n",
       "    </tr>\n",
       "    <tr>\n",
       "      <th>...</th>\n",
       "      <td>...</td>\n",
       "      <td>...</td>\n",
       "    </tr>\n",
       "    <tr>\n",
       "      <th>3543</th>\n",
       "      <td>68364.992188</td>\n",
       "      <td>30-05-2024</td>\n",
       "    </tr>\n",
       "    <tr>\n",
       "      <th>3544</th>\n",
       "      <td>67491.414062</td>\n",
       "      <td>31-05-2024</td>\n",
       "    </tr>\n",
       "    <tr>\n",
       "      <th>3545</th>\n",
       "      <td>67706.937500</td>\n",
       "      <td>01-06-2024</td>\n",
       "    </tr>\n",
       "    <tr>\n",
       "      <th>3546</th>\n",
       "      <td>67751.601562</td>\n",
       "      <td>02-06-2024</td>\n",
       "    </tr>\n",
       "    <tr>\n",
       "      <th>3547</th>\n",
       "      <td>69073.578125</td>\n",
       "      <td>03-06-2024</td>\n",
       "    </tr>\n",
       "  </tbody>\n",
       "</table>\n",
       "<p>3548 rows × 2 columns</p>\n",
       "</div>"
      ],
      "text/plain": [
       "             Close formatted_time\n",
       "0       457.334015     17-09-2014\n",
       "1       424.440002     18-09-2014\n",
       "2       394.795990     19-09-2014\n",
       "3       408.903992     20-09-2014\n",
       "4       398.821014     21-09-2014\n",
       "...            ...            ...\n",
       "3543  68364.992188     30-05-2024\n",
       "3544  67491.414062     31-05-2024\n",
       "3545  67706.937500     01-06-2024\n",
       "3546  67751.601562     02-06-2024\n",
       "3547  69073.578125     03-06-2024\n",
       "\n",
       "[3548 rows x 2 columns]"
      ]
     },
     "execution_count": 9,
     "metadata": {},
     "output_type": "execute_result"
    }
   ],
   "source": [
    "df"
   ]
  },
  {
   "cell_type": "code",
   "execution_count": 18,
   "metadata": {},
   "outputs": [],
   "source": [
    "import pandas_ta as ta\n",
    " \n",
    "df['SMA'] = ta.sma(df['Close'], length=5) \n",
    "df['EMA'] = ta.ema(df['Close'], length=5) \n",
    "df['RSI'] = ta.rsi(df['Close'], length=14) "
   ]
  },
  {
   "cell_type": "code",
   "execution_count": 20,
   "metadata": {},
   "outputs": [],
   "source": [
    "df.fillna(0, inplace = True)"
   ]
  },
  {
   "cell_type": "code",
   "execution_count": 21,
   "metadata": {},
   "outputs": [],
   "source": [
    "new_df = df.copy()"
   ]
  },
  {
   "cell_type": "code",
   "execution_count": 24,
   "metadata": {},
   "outputs": [],
   "source": [
    "X = new_df.drop(['Close', 'formatted_time'], axis = 1).values\n",
    "Y = new_df['Close'].values"
   ]
  },
  {
   "cell_type": "code",
   "execution_count": 25,
   "metadata": {},
   "outputs": [
    {
     "data": {
      "text/plain": [
       "array([[0.00000000e+00, 0.00000000e+00, 0.00000000e+00],\n",
       "       [0.00000000e+00, 0.00000000e+00, 0.00000000e+00],\n",
       "       [0.00000000e+00, 0.00000000e+00, 0.00000000e+00],\n",
       "       ...,\n",
       "       [6.78875312e+04, 6.79410445e+04, 5.29987433e+01],\n",
       "       [6.77786078e+04, 6.78778969e+04, 5.31387865e+01],\n",
       "       [6.80777047e+04, 6.82764573e+04, 5.72033397e+01]])"
      ]
     },
     "execution_count": 25,
     "metadata": {},
     "output_type": "execute_result"
    }
   ],
   "source": [
    "X"
   ]
  },
  {
   "cell_type": "code",
   "execution_count": 26,
   "metadata": {},
   "outputs": [
    {
     "data": {
      "text/plain": [
       "array([  457.33401489,   424.44000244,   394.79598999, ...,\n",
       "       67706.9375    , 67751.6015625 , 69073.578125  ])"
      ]
     },
     "execution_count": 26,
     "metadata": {},
     "output_type": "execute_result"
    }
   ],
   "source": [
    "Y"
   ]
  },
  {
   "cell_type": "code",
   "execution_count": 27,
   "metadata": {},
   "outputs": [],
   "source": [
    "X_train, X_test, y_train, y_test = train_test_split(X, Y, test_size=0.2, random_state=42)"
   ]
  },
  {
   "cell_type": "code",
   "execution_count": 28,
   "metadata": {},
   "outputs": [],
   "source": [
    "from sklearn.model_selection import GridSearchCV\n",
    "from sklearn.ensemble import RandomForestRegressor\n",
    "from sklearn.metrics import mean_squared_error, mean_absolute_error, r2_score \n"
   ]
  },
  {
   "cell_type": "code",
   "execution_count": 29,
   "metadata": {},
   "outputs": [
    {
     "data": {
      "text/html": [
       "<style>#sk-container-id-1 {color: black;}#sk-container-id-1 pre{padding: 0;}#sk-container-id-1 div.sk-toggleable {background-color: white;}#sk-container-id-1 label.sk-toggleable__label {cursor: pointer;display: block;width: 100%;margin-bottom: 0;padding: 0.3em;box-sizing: border-box;text-align: center;}#sk-container-id-1 label.sk-toggleable__label-arrow:before {content: \"▸\";float: left;margin-right: 0.25em;color: #696969;}#sk-container-id-1 label.sk-toggleable__label-arrow:hover:before {color: black;}#sk-container-id-1 div.sk-estimator:hover label.sk-toggleable__label-arrow:before {color: black;}#sk-container-id-1 div.sk-toggleable__content {max-height: 0;max-width: 0;overflow: hidden;text-align: left;background-color: #f0f8ff;}#sk-container-id-1 div.sk-toggleable__content pre {margin: 0.2em;color: black;border-radius: 0.25em;background-color: #f0f8ff;}#sk-container-id-1 input.sk-toggleable__control:checked~div.sk-toggleable__content {max-height: 200px;max-width: 100%;overflow: auto;}#sk-container-id-1 input.sk-toggleable__control:checked~label.sk-toggleable__label-arrow:before {content: \"▾\";}#sk-container-id-1 div.sk-estimator input.sk-toggleable__control:checked~label.sk-toggleable__label {background-color: #d4ebff;}#sk-container-id-1 div.sk-label input.sk-toggleable__control:checked~label.sk-toggleable__label {background-color: #d4ebff;}#sk-container-id-1 input.sk-hidden--visually {border: 0;clip: rect(1px 1px 1px 1px);clip: rect(1px, 1px, 1px, 1px);height: 1px;margin: -1px;overflow: hidden;padding: 0;position: absolute;width: 1px;}#sk-container-id-1 div.sk-estimator {font-family: monospace;background-color: #f0f8ff;border: 1px dotted black;border-radius: 0.25em;box-sizing: border-box;margin-bottom: 0.5em;}#sk-container-id-1 div.sk-estimator:hover {background-color: #d4ebff;}#sk-container-id-1 div.sk-parallel-item::after {content: \"\";width: 100%;border-bottom: 1px solid gray;flex-grow: 1;}#sk-container-id-1 div.sk-label:hover label.sk-toggleable__label {background-color: #d4ebff;}#sk-container-id-1 div.sk-serial::before {content: \"\";position: absolute;border-left: 1px solid gray;box-sizing: border-box;top: 0;bottom: 0;left: 50%;z-index: 0;}#sk-container-id-1 div.sk-serial {display: flex;flex-direction: column;align-items: center;background-color: white;padding-right: 0.2em;padding-left: 0.2em;position: relative;}#sk-container-id-1 div.sk-item {position: relative;z-index: 1;}#sk-container-id-1 div.sk-parallel {display: flex;align-items: stretch;justify-content: center;background-color: white;position: relative;}#sk-container-id-1 div.sk-item::before, #sk-container-id-1 div.sk-parallel-item::before {content: \"\";position: absolute;border-left: 1px solid gray;box-sizing: border-box;top: 0;bottom: 0;left: 50%;z-index: -1;}#sk-container-id-1 div.sk-parallel-item {display: flex;flex-direction: column;z-index: 1;position: relative;background-color: white;}#sk-container-id-1 div.sk-parallel-item:first-child::after {align-self: flex-end;width: 50%;}#sk-container-id-1 div.sk-parallel-item:last-child::after {align-self: flex-start;width: 50%;}#sk-container-id-1 div.sk-parallel-item:only-child::after {width: 0;}#sk-container-id-1 div.sk-dashed-wrapped {border: 1px dashed gray;margin: 0 0.4em 0.5em 0.4em;box-sizing: border-box;padding-bottom: 0.4em;background-color: white;}#sk-container-id-1 div.sk-label label {font-family: monospace;font-weight: bold;display: inline-block;line-height: 1.2em;}#sk-container-id-1 div.sk-label-container {text-align: center;}#sk-container-id-1 div.sk-container {/* jupyter's `normalize.less` sets `[hidden] { display: none; }` but bootstrap.min.css set `[hidden] { display: none !important; }` so we also need the `!important` here to be able to override the default hidden behavior on the sphinx rendered scikit-learn.org. See: https://github.com/scikit-learn/scikit-learn/issues/21755 */display: inline-block !important;position: relative;}#sk-container-id-1 div.sk-text-repr-fallback {display: none;}</style><div id=\"sk-container-id-1\" class=\"sk-top-container\"><div class=\"sk-text-repr-fallback\"><pre>GridSearchCV(cv=3, estimator=RandomForestRegressor(),\n",
       "             param_grid={&#x27;n_estimators&#x27;: [50, 100, 150, 200, 250, 300]})</pre><b>In a Jupyter environment, please rerun this cell to show the HTML representation or trust the notebook. <br />On GitHub, the HTML representation is unable to render, please try loading this page with nbviewer.org.</b></div><div class=\"sk-container\" hidden><div class=\"sk-item sk-dashed-wrapped\"><div class=\"sk-label-container\"><div class=\"sk-label sk-toggleable\"><input class=\"sk-toggleable__control sk-hidden--visually\" id=\"sk-estimator-id-1\" type=\"checkbox\" ><label for=\"sk-estimator-id-1\" class=\"sk-toggleable__label sk-toggleable__label-arrow\">GridSearchCV</label><div class=\"sk-toggleable__content\"><pre>GridSearchCV(cv=3, estimator=RandomForestRegressor(),\n",
       "             param_grid={&#x27;n_estimators&#x27;: [50, 100, 150, 200, 250, 300]})</pre></div></div></div><div class=\"sk-parallel\"><div class=\"sk-parallel-item\"><div class=\"sk-item\"><div class=\"sk-label-container\"><div class=\"sk-label sk-toggleable\"><input class=\"sk-toggleable__control sk-hidden--visually\" id=\"sk-estimator-id-2\" type=\"checkbox\" ><label for=\"sk-estimator-id-2\" class=\"sk-toggleable__label sk-toggleable__label-arrow\">estimator: RandomForestRegressor</label><div class=\"sk-toggleable__content\"><pre>RandomForestRegressor()</pre></div></div></div><div class=\"sk-serial\"><div class=\"sk-item\"><div class=\"sk-estimator sk-toggleable\"><input class=\"sk-toggleable__control sk-hidden--visually\" id=\"sk-estimator-id-3\" type=\"checkbox\" ><label for=\"sk-estimator-id-3\" class=\"sk-toggleable__label sk-toggleable__label-arrow\">RandomForestRegressor</label><div class=\"sk-toggleable__content\"><pre>RandomForestRegressor()</pre></div></div></div></div></div></div></div></div></div></div>"
      ],
      "text/plain": [
       "GridSearchCV(cv=3, estimator=RandomForestRegressor(),\n",
       "             param_grid={'n_estimators': [50, 100, 150, 200, 250, 300]})"
      ]
     },
     "execution_count": 29,
     "metadata": {},
     "output_type": "execute_result"
    }
   ],
   "source": [
    "rf = RandomForestRegressor()\n",
    " \n",
    "param_grid = {\n",
    "    'n_estimators': [50, 100, 150, 200, 250, 300]\n",
    "}\n",
    "grid_search_rf = GridSearchCV(estimator=rf, param_grid=param_grid, cv=3)\n",
    "grid_search_rf.fit(X_train, y_train)\n"
   ]
  },
  {
   "cell_type": "code",
   "execution_count": 30,
   "metadata": {},
   "outputs": [
    {
     "data": {
      "text/html": [
       "<style>#sk-container-id-2 {color: black;}#sk-container-id-2 pre{padding: 0;}#sk-container-id-2 div.sk-toggleable {background-color: white;}#sk-container-id-2 label.sk-toggleable__label {cursor: pointer;display: block;width: 100%;margin-bottom: 0;padding: 0.3em;box-sizing: border-box;text-align: center;}#sk-container-id-2 label.sk-toggleable__label-arrow:before {content: \"▸\";float: left;margin-right: 0.25em;color: #696969;}#sk-container-id-2 label.sk-toggleable__label-arrow:hover:before {color: black;}#sk-container-id-2 div.sk-estimator:hover label.sk-toggleable__label-arrow:before {color: black;}#sk-container-id-2 div.sk-toggleable__content {max-height: 0;max-width: 0;overflow: hidden;text-align: left;background-color: #f0f8ff;}#sk-container-id-2 div.sk-toggleable__content pre {margin: 0.2em;color: black;border-radius: 0.25em;background-color: #f0f8ff;}#sk-container-id-2 input.sk-toggleable__control:checked~div.sk-toggleable__content {max-height: 200px;max-width: 100%;overflow: auto;}#sk-container-id-2 input.sk-toggleable__control:checked~label.sk-toggleable__label-arrow:before {content: \"▾\";}#sk-container-id-2 div.sk-estimator input.sk-toggleable__control:checked~label.sk-toggleable__label {background-color: #d4ebff;}#sk-container-id-2 div.sk-label input.sk-toggleable__control:checked~label.sk-toggleable__label {background-color: #d4ebff;}#sk-container-id-2 input.sk-hidden--visually {border: 0;clip: rect(1px 1px 1px 1px);clip: rect(1px, 1px, 1px, 1px);height: 1px;margin: -1px;overflow: hidden;padding: 0;position: absolute;width: 1px;}#sk-container-id-2 div.sk-estimator {font-family: monospace;background-color: #f0f8ff;border: 1px dotted black;border-radius: 0.25em;box-sizing: border-box;margin-bottom: 0.5em;}#sk-container-id-2 div.sk-estimator:hover {background-color: #d4ebff;}#sk-container-id-2 div.sk-parallel-item::after {content: \"\";width: 100%;border-bottom: 1px solid gray;flex-grow: 1;}#sk-container-id-2 div.sk-label:hover label.sk-toggleable__label {background-color: #d4ebff;}#sk-container-id-2 div.sk-serial::before {content: \"\";position: absolute;border-left: 1px solid gray;box-sizing: border-box;top: 0;bottom: 0;left: 50%;z-index: 0;}#sk-container-id-2 div.sk-serial {display: flex;flex-direction: column;align-items: center;background-color: white;padding-right: 0.2em;padding-left: 0.2em;position: relative;}#sk-container-id-2 div.sk-item {position: relative;z-index: 1;}#sk-container-id-2 div.sk-parallel {display: flex;align-items: stretch;justify-content: center;background-color: white;position: relative;}#sk-container-id-2 div.sk-item::before, #sk-container-id-2 div.sk-parallel-item::before {content: \"\";position: absolute;border-left: 1px solid gray;box-sizing: border-box;top: 0;bottom: 0;left: 50%;z-index: -1;}#sk-container-id-2 div.sk-parallel-item {display: flex;flex-direction: column;z-index: 1;position: relative;background-color: white;}#sk-container-id-2 div.sk-parallel-item:first-child::after {align-self: flex-end;width: 50%;}#sk-container-id-2 div.sk-parallel-item:last-child::after {align-self: flex-start;width: 50%;}#sk-container-id-2 div.sk-parallel-item:only-child::after {width: 0;}#sk-container-id-2 div.sk-dashed-wrapped {border: 1px dashed gray;margin: 0 0.4em 0.5em 0.4em;box-sizing: border-box;padding-bottom: 0.4em;background-color: white;}#sk-container-id-2 div.sk-label label {font-family: monospace;font-weight: bold;display: inline-block;line-height: 1.2em;}#sk-container-id-2 div.sk-label-container {text-align: center;}#sk-container-id-2 div.sk-container {/* jupyter's `normalize.less` sets `[hidden] { display: none; }` but bootstrap.min.css set `[hidden] { display: none !important; }` so we also need the `!important` here to be able to override the default hidden behavior on the sphinx rendered scikit-learn.org. See: https://github.com/scikit-learn/scikit-learn/issues/21755 */display: inline-block !important;position: relative;}#sk-container-id-2 div.sk-text-repr-fallback {display: none;}</style><div id=\"sk-container-id-2\" class=\"sk-top-container\"><div class=\"sk-text-repr-fallback\"><pre>RandomForestRegressor(n_estimators=150)</pre><b>In a Jupyter environment, please rerun this cell to show the HTML representation or trust the notebook. <br />On GitHub, the HTML representation is unable to render, please try loading this page with nbviewer.org.</b></div><div class=\"sk-container\" hidden><div class=\"sk-item\"><div class=\"sk-estimator sk-toggleable\"><input class=\"sk-toggleable__control sk-hidden--visually\" id=\"sk-estimator-id-4\" type=\"checkbox\" checked><label for=\"sk-estimator-id-4\" class=\"sk-toggleable__label sk-toggleable__label-arrow\">RandomForestRegressor</label><div class=\"sk-toggleable__content\"><pre>RandomForestRegressor(n_estimators=150)</pre></div></div></div></div></div>"
      ],
      "text/plain": [
       "RandomForestRegressor(n_estimators=150)"
      ]
     },
     "execution_count": 30,
     "metadata": {},
     "output_type": "execute_result"
    }
   ],
   "source": [
    "best_rf = grid_search_rf.best_estimator_\n",
    "best_rf"
   ]
  },
  {
   "cell_type": "code",
   "execution_count": 31,
   "metadata": {},
   "outputs": [
    {
     "data": {
      "text/plain": [
       "array([  296.52546651, 46194.86747396, 24178.21059896, 48155.75710938,\n",
       "       14957.02883464,  8100.49818685,  3691.2543571 ,  9149.37807292,\n",
       "        9106.26328776, 24056.54048177,   712.74038778,   531.10718669,\n",
       "       10098.1198763 , 26053.34567708,  8463.90218099, 67866.64440104,\n",
       "         361.01270203, 20710.62946615, 16104.5318099 ,  6498.16445638,\n",
       "        5763.00170573, 52198.85075521, 26316.3050651 ,  8687.18435547,\n",
       "       48280.08502604, 19370.81420573,   237.43453115,   366.11615417,\n",
       "        4331.74171875, 13751.1035612 , 30174.07259115,   225.59937042,\n",
       "       66728.94328125, 19751.02786458, 19233.3300651 ,  4408.52001302,\n",
       "        1010.38261759,   236.26087179,   310.53152425,   943.48327189,\n",
       "       26928.12545573, 25691.04388021, 37008.86270833,   315.76996847,\n",
       "       61532.67695313,  9460.42238932,   609.7626355 , 28394.81283854,\n",
       "       39290.80018229, 10412.76126953,   241.2175708 , 50198.35674479,\n",
       "         448.80611287,  6475.76320964, 42444.49557292,  9812.15233073,\n",
       "       63248.58690104,  2874.79874023, 31989.3797526 , 42499.22994792,\n",
       "       29848.4072526 ,  2057.25594645,  7328.02758789,   421.22683838,\n",
       "       61935.65747396, 10325.27009115, 23112.35108073,   260.26580465,\n",
       "        1033.56140666,   325.43017253, 16633.38317708,  1198.45234294,\n",
       "        8156.13101563,   287.21289795, 19068.50328125,   376.24144816,\n",
       "       11138.09196615,   338.81736532,   413.74366455,   384.80575155,\n",
       "        7252.61299479,   907.29491618, 28425.06924479,   341.58601054,\n",
       "         457.00219096,   258.38665649, 47547.39369792,  9354.41878906,\n",
       "       43892.49955729,  1043.21454264,   780.31515544,  9779.8310026 ,\n",
       "       10769.14255859, 10110.23244792,   279.90058675, 10998.53525391,\n",
       "       19912.2188151 , 19901.09259115, 44297.99098958,  5184.57880534,\n",
       "         382.93217122,   267.71991618,  9444.27861979, 10431.05970052,\n",
       "       42941.83145833,   444.38374166,   616.21996623,  3843.94573079,\n",
       "        7044.71374674, 10769.28305339,   287.98085836, 23112.98061198,\n",
       "       16719.79042969,  7646.68309896,   227.68706523, 10384.05404948,\n",
       "        6608.5583724 ,  2641.78698893, 16719.08063802,   395.99207133,\n",
       "       16880.76320312, 29836.8593099 ,   654.28274251, 49163.84317708,\n",
       "        6109.59839844, 19240.81597656,  1008.05090617, 11520.04957682,\n",
       "        6464.81357422, 29206.3803125 ,   228.10594788,  5226.52925781,\n",
       "        5512.22857096,   424.5994576 ,   266.27815653,  1797.7108724 ,\n",
       "       56088.95453125,  8079.35405273,  9280.42895833,  6506.73388346,\n",
       "       46601.39424479, 19837.69940104, 26111.00460937, 37111.58153646,\n",
       "         408.1254659 , 30752.54339844, 26750.77415365,   340.51365234,\n",
       "       47735.73557292,  4233.0264209 ,  4084.13634928, 10625.38519531,\n",
       "         280.25446737, 38473.82950521,   673.85606038,  8706.69128906,\n",
       "         226.5248877 , 42303.59367188, 20079.34768229,   381.75672526,\n",
       "        6321.32767904, 22743.78583333,   340.26467306,  8925.95609375,\n",
       "        2464.32590983, 37995.14734375,  3666.51387533, 58031.48934896,\n",
       "         262.43466817,   296.73002604,  4178.06102376, 29989.50351563,\n",
       "        5392.60335937, 29161.35723958,   424.41865641,  6643.87094727,\n",
       "       20877.58992187,  1025.03124308,   246.15030538, 51752.58450521,\n",
       "       45996.60354167,  2489.48815755,  6889.86655273, 46936.79721354,\n",
       "        1174.87753743, 28136.16933594,  2599.77701172, 11550.46833984,\n",
       "       36890.77572917,  8242.24352865, 52478.95119792,   248.83759989,\n",
       "       32305.06533854,  2648.60818522,  3636.94981283, 11314.64783203,\n",
       "         384.0948641 , 46548.97799479,   598.61996826, 38127.10736979,\n",
       "         739.33671265,   452.58602987,   402.85917277, 40029.55002604,\n",
       "        9240.87681641,   244.50060415, 39384.3378125 ,  6543.50929362,\n",
       "       28100.64457031,  4198.24293457,   275.57341064, 11614.85489583,\n",
       "         446.81743347,   236.95142843,  8778.94977214, 40394.93317708,\n",
       "        2749.73503743,   637.12775675,  6704.39476237,   251.58874146,\n",
       "         893.68125041, 56363.25059896, 17078.29200521,   364.85414815,\n",
       "       37803.36796875, 12009.33540365,  4388.98694661,   268.41160929,\n",
       "         384.9033254 ,   263.02038472,  6499.93772461, 63439.48440104,\n",
       "       10569.17134766,  9726.33699219, 27551.96678385,  1170.12720052,\n",
       "        4046.5680127 , 50039.08619792,   414.10996216, 49065.92606771,\n",
       "       42198.07341146,   986.46957316, 21247.99794271,  4303.99602214,\n",
       "         316.29756409,  1763.33779134,  7756.62675781,   242.10433055,\n",
       "        6747.26736979, 47423.7159375 ,   296.31769307, 18585.48679688,\n",
       "        3909.51674967,  6301.7236263 ,   237.54907776, 27970.76661458,\n",
       "        3976.24800456, 30376.72766927, 20627.09175781, 50036.02950521,\n",
       "        9169.17935547,   273.15381958, 30859.45401042,  1115.99893473,\n",
       "       40183.26354167,  1234.35034668,   375.22651408, 11347.37882812,\n",
       "       37165.89291667,   237.85534739, 39628.47606771,   770.45290731,\n",
       "       16721.30113281,   265.97197123, 56011.30947917,   653.32194987,\n",
       "       10489.01214193, 10124.81926432, 15524.2975    ,  7267.42278971,\n",
       "        1011.87190633,  9201.8289974 , 63440.62135417, 26487.98972656,\n",
       "        7152.5419694 ,   222.91690592,   407.55071045, 29482.22395833,\n",
       "       52354.60304688,  7189.4514974 , 40176.41192708, 69868.97864583,\n",
       "         238.35532206,  8388.358125  ,   587.99180705,   432.59967285,\n",
       "       37027.39979167,  9181.40840495,   289.32261434, 29248.84580729,\n",
       "        9262.39516276,  6274.77745768, 20405.00763021, 65437.12828125,\n",
       "       49612.51026042,  4120.72264648,   317.38663574, 16701.2806901 ,\n",
       "         278.67139221,   238.60184041,  3673.09293783, 25748.78334635,\n",
       "       36611.25143229, 54398.33611979, 61811.31578125, 15315.9795638 ,\n",
       "       27045.1880599 ,   340.94887085, 64434.03700521, 46913.84828125,\n",
       "         417.09574931, 25821.15376302, 41334.17307292, 37543.06455729,\n",
       "       68471.878125  , 11979.18628906,   403.57334167,  9156.88445964,\n",
       "       23288.91723958, 19335.10473958,   362.63276693, 10261.74652995,\n",
       "        7991.72861654, 36872.88984375,  7218.7968099 ,   274.1986794 ,\n",
       "        4915.66251953,  3628.41005697, 19761.4209375 ,  9162.34204427,\n",
       "       46240.90585938,  9370.14027344,  9817.12440755,  6653.29458333,\n",
       "         393.74926493,   703.85990641, 23092.60378906,   257.21749746,\n",
       "        7100.46277018, 47321.55416667, 11566.95988281,  9108.33483724,\n",
       "       39206.35520833, 10375.82115885, 32791.13824219,   236.16861806,\n",
       "         238.55044139,  6482.79916667, 42287.65942708,  6567.77847005,\n",
       "       10415.38229818,  9190.20371745,   432.42091838,   457.22367045,\n",
       "       30378.15247396,   378.87198751,   235.97080668, 10024.12781901,\n",
       "        6365.7142513 ,  3020.25741211,   452.35175415,   229.21361369,\n",
       "       47093.31625   ,   227.80596517,   424.18261393, 46901.02848958,\n",
       "        7466.26720378,  8604.6761849 ,  1172.51997314,  6320.67163411,\n",
       "         670.25281372,  8750.97511068, 23539.09040365,  8396.26035156,\n",
       "         286.18486674, 30272.07035156, 30367.72471354, 16847.2436849 ,\n",
       "         771.39316895,  3421.41190918, 32797.59627604, 44200.69007813,\n",
       "       17832.92013021, 66590.13552083, 57388.31325521,  6873.37102214,\n",
       "         380.65829712, 21007.96476563,   285.54309611, 61063.43471354,\n",
       "         264.53996409,  7110.91585286, 22083.8224349 ,  1224.38741048,\n",
       "        9666.45723307,  6132.65677409,  1031.47503133, 16054.84897786,\n",
       "       26480.96632812,  7464.83436523, 45542.38072917, 16738.24097656,\n",
       "       57423.82869792,  6297.80927083,   277.75979858,  1612.38691325,\n",
       "       34697.8734375 , 26123.29516927,   382.3372286 ,   229.67632751,\n",
       "       26039.47592448, 42250.84783854,   241.99139465,   653.15873942,\n",
       "         391.6438031 ,  9598.80595703, 27652.54161458,   236.69968811,\n",
       "       61275.90632812, 10070.43513021, 32041.25260417,  4283.23290039,\n",
       "         446.0819279 ,   216.65794179,  8129.88892578,  6503.38336263,\n",
       "         222.66480184, 23005.9706901 , 53352.79458333, 48222.14513021,\n",
       "        9046.43670573, 29352.10847656,  6203.91235352,  9351.50146484,\n",
       "        6949.19363607,  2580.43563639,   358.34100301,  9412.74494792,\n",
       "         372.07718079,  1063.39536336, 46201.08739583,   763.77028117,\n",
       "       47731.88299479,  2166.33509766,   455.11441813, 10172.1496224 ,\n",
       "       46104.37044271, 26782.4509375 , 22616.17423177, 25425.37152344,\n",
       "         324.41406576, 56286.85028646,   216.55204427,  6407.55373698,\n",
       "        2553.20115234,  9363.37628906,  6875.65734701, 53992.28377604,\n",
       "       11633.80736328,   651.90915731,  3851.84113118,  8260.75923503,\n",
       "         249.54921967, 10246.8189974 ,   248.17481974,  6316.89589518,\n",
       "        3603.23818848, 21296.37889323,   289.67308838, 29992.57901042,\n",
       "         767.17462484,   233.34781942,   220.61296132, 38455.69851563,\n",
       "        5951.1477474 ,  9500.51242839, 10313.21338542,   342.39236715,\n",
       "        1168.55625895,   230.09348633, 58409.98122396,  7367.32953125,\n",
       "       64485.5021875 , 24784.94966146,  5301.23384115,   417.43293925,\n",
       "       41019.14427083,  9765.33416016,  9234.21690104, 11827.17539714,\n",
       "         330.03832723, 23665.14296875,   581.31025391, 61002.67161458,\n",
       "         359.79223612,  1155.20484131,   234.56117432, 57275.25309896,\n",
       "        9668.42374349, 11403.14895182,  6614.73354492, 29972.71627604,\n",
       "       44392.94148437,  7654.74697917,   697.46745687, 10352.85942708,\n",
       "       11651.25697917, 20078.58160156, 27045.10867188,  3472.08515137,\n",
       "       20696.91628906, 11450.44160156, 44603.56      , 40012.38325521,\n",
       "         402.70284312,  6978.27389323, 41563.29848958,   448.97661275,\n",
       "         711.20648356,   637.68209188,   239.12631205,  1227.34287028,\n",
       "       38233.09565104, 29051.60878906,   657.22951579,  1062.85925537,\n",
       "         291.27410197,   246.23274913, 11563.87758464,   590.15943563,\n",
       "        4036.45699219,  9998.93882812, 16202.12115234,   411.04741313,\n",
       "       43697.3421875 ,   230.65398041,  3773.8997526 , 30390.19251302,\n",
       "         630.25690918,   423.68470235,  2592.15575195,  8030.84759115,\n",
       "        9167.54353516,   418.70758321,  9062.65528646,   993.20874837,\n",
       "         774.62414754,   321.67911825, 34279.46268229,   229.41183909,\n",
       "       19801.03414063, 58439.33177083,  4041.71558105,  3871.82367839,\n",
       "        6771.98734701, 57359.38067708, 37951.82924479,  6323.92888997,\n",
       "       30420.60348958,   235.58927327,   380.30721619, 23302.55674479,\n",
       "       18826.19666667,  6885.33355794, 23080.97330729,   574.72068929,\n",
       "       51839.67039062, 32567.40626302,   677.36773112, 41218.43447917,\n",
       "       63138.45367188,  4062.74941732,  9360.75446615,  6797.49001628,\n",
       "        4297.04949382, 42708.86942708, 22313.50647135,   403.10842407,\n",
       "        6348.75192708,  9460.26966797,   224.23211843, 10035.14796224,\n",
       "       34826.65957031,   608.7731429 , 47517.13901042, 63843.34479167,\n",
       "        9095.58284505, 47745.18796875, 14778.8238737 ,  9217.59824219,\n",
       "        8094.476875  , 45804.21721354,  7580.13491211,   449.21976868,\n",
       "        8742.43026042, 27644.90143229,   277.16050761, 37922.98291667,\n",
       "         379.01131612,   419.5418752 ,  8876.60388021, 38576.77200521,\n",
       "        3641.36980957, 37167.06044271,  7971.00900391,  7412.65878255,\n",
       "       69898.85145833, 34179.49855469,  1208.32809326, 23559.68010417,\n",
       "        5759.2668099 ,   326.02794047, 11247.79701823,  8031.46930013,\n",
       "       52189.47221354,  8192.69765951,   354.04302816,  4190.13775879,\n",
       "         910.2262321 , 61715.225625  ,   742.62196289,  4306.5762028 ,\n",
       "       39824.04171875,  9129.28369792, 10519.82274089,   352.4506134 ,\n",
       "        7920.37538411, 46342.70833333, 36125.97369792,  2735.98649902,\n",
       "       29846.13273438,   385.60208333,  3925.87784342, 42896.61778646,\n",
       "         444.12359762, 37877.55963542, 26045.886875  ,   224.69863444,\n",
       "       30348.63119792, 10339.76529948,  8070.82389648, 36818.23143229,\n",
       "       19894.54101562, 40747.12877604, 46202.79380208,  1006.14197754,\n",
       "        9754.8661849 , 55618.96401042, 23132.87345052,  8723.39162109,\n",
       "         432.00721659,  8753.38604167,  2206.0085555 ,  6495.83097982,\n",
       "       13843.32455078,   433.43845072,   292.16828023, 16070.47352214,\n",
       "         340.25193258,  2846.95142415,  3484.35062012, 41882.41367188,\n",
       "       41386.74075521,  9781.08860026,   598.17444092,  9219.26710286,\n",
       "         259.81545959, 38168.37661458, 55161.71380208, 15010.63454427,\n",
       "        3634.49777832,   287.5359318 ,  8430.33289388, 23671.54804687,\n",
       "        6578.55136068, 42274.36255208,   229.19524556, 11356.61287109,\n",
       "         455.9355658 , 11765.90189453,   637.5055835 , 61426.84479167,\n",
       "       10219.87080078,   771.08076742,  3858.63672038, 21645.89364583,\n",
       "         226.18666636, 13276.96402995,   653.80714884,   751.1714856 ,\n",
       "        9898.7373112 ,   683.47508097,   430.81496785, 15527.26453125,\n",
       "        1258.57086995,  3907.74202474,  5830.91076823, 53838.67703125,\n",
       "         919.79540771, 19142.98433594])"
      ]
     },
     "execution_count": 31,
     "metadata": {},
     "output_type": "execute_result"
    }
   ],
   "source": [
    "y_pred_rf = best_rf.predict(X_test) "
   ]
  },
  {
   "cell_type": "code",
   "execution_count": 32,
   "metadata": {},
   "outputs": [
    {
     "name": "stdout",
     "output_type": "stream",
     "text": [
      "{'RMSE': 550.7509947507542, 'MSE': 303326.6582189453, 'MAE': 264.3326364674436, 'R2': 0.9990843529617618}\n"
     ]
    }
   ],
   "source": [
    "rf_metrics = {\n",
    "    'RMSE': np.sqrt(mean_squared_error(y_test, y_pred_rf)),\n",
    "    'MSE': mean_squared_error(y_test, y_pred_rf),\n",
    "    'MAE': mean_absolute_error(y_test, y_pred_rf),\n",
    "    'R2': r2_score(y_test, y_pred_rf)\n",
    "}\n",
    "print(rf_metrics)\n"
   ]
  },
  {
   "cell_type": "code",
   "execution_count": 34,
   "metadata": {},
   "outputs": [
    {
     "name": "stdout",
     "output_type": "stream",
     "text": [
      "[68950.04520833]\n",
      "[68783.3953125]\n",
      "[68533.40567708]\n",
      "[68396.24924479]\n",
      "[67618.65583333]\n",
      "[66222.8146875]\n",
      "[64616.13161458]\n",
      "[64177.259375]\n",
      "[62832.32619792]\n",
      "[62783.76028646]\n"
     ]
    }
   ],
   "source": [
    "for i in range(2):\n",
    "    sma = ta.sma(data['Close'], length=5).iloc[-1]\n",
    "    ema = ta.ema(data['Close'], length=5).iloc[-1]\n",
    "    rsi = ta.rsi(data['Close'], length=14).iloc[-1]\n",
    "    # sma_5, ema_5, rsi_14 = scaler.fit_transform(np.array([sma, ema, rsi]).reshape(-1, 1))\n",
    "    # new_close = best_rf.predict([[0.163528, 0.0, 0.0, 0.0, 1.0, 0.0, sma_5[0], ema_5[0], rsi_14[0]]])\n",
    "    new_close = best_rf.predict([[sma, ema, rsi]])\n",
    "    print(new_close)\n",
    "    new_row = pd.DataFrame({\"Close\": new_close, \"Volume\": 21292490752, \"formatted_time\" : \"0\", \"SMA\" : sma, \"EMA\" : ema, \"RSI\" : rsi})\n",
    "    data = pd.concat([data, new_row], ignore_index= True)\n",
    "    "
   ]
  },
  {
   "cell_type": "code",
   "execution_count": 35,
   "metadata": {},
   "outputs": [],
   "source": [
    "import pickle \n",
    "with open('btc.pkl', 'wb') as f:\n",
    "    pickle.dump(best_rf, f)"
   ]
  }
 ],
 "metadata": {
  "kernelspec": {
   "display_name": "Python 3",
   "language": "python",
   "name": "python3"
  },
  "language_info": {
   "codemirror_mode": {
    "name": "ipython",
    "version": 3
   },
   "file_extension": ".py",
   "mimetype": "text/x-python",
   "name": "python",
   "nbconvert_exporter": "python",
   "pygments_lexer": "ipython3",
   "version": "3.12.0"
  }
 },
 "nbformat": 4,
 "nbformat_minor": 2
}
