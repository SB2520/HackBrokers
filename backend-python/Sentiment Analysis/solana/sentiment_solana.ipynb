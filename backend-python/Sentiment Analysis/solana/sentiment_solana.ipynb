{
 "cells": [
  {
   "cell_type": "code",
   "execution_count": 1,
   "metadata": {},
   "outputs": [],
   "source": [
    "import mwclient\n",
    "import time\n",
    "import transformers\n",
    "\n",
    "site = mwclient.Site('en.wikipedia.org')\n",
    "page = site.pages['Solana_(blockchain_platform)']"
   ]
  },
  {
   "cell_type": "code",
   "execution_count": 2,
   "metadata": {},
   "outputs": [],
   "source": [
    "revs = list(page.revisions())"
   ]
  },
  {
   "cell_type": "code",
   "execution_count": 3,
   "metadata": {},
   "outputs": [
    {
     "data": {
      "text/plain": [
       "OrderedDict([('revid', 1214126707),\n",
       "             ('parentid', 1213607691),\n",
       "             ('user', 'MrOllie'),\n",
       "             ('timestamp',\n",
       "              time.struct_time(tm_year=2024, tm_mon=3, tm_mday=17, tm_hour=2, tm_min=56, tm_sec=22, tm_wday=6, tm_yday=77, tm_isdst=-1)),\n",
       "             ('comment', 'tense')])"
      ]
     },
     "execution_count": 3,
     "metadata": {},
     "output_type": "execute_result"
    }
   ],
   "source": [
    "revs[0]"
   ]
  },
  {
   "cell_type": "code",
   "execution_count": 4,
   "metadata": {},
   "outputs": [],
   "source": [
    "revs = sorted(revs, key=lambda rev: rev[\"timestamp\"]) "
   ]
  },
  {
   "cell_type": "code",
   "execution_count": 5,
   "metadata": {},
   "outputs": [
    {
     "data": {
      "text/plain": [
       "OrderedDict([('revid', 1043592861),\n",
       "             ('parentid', 0),\n",
       "             ('user', 'Heroeswithmetaphors'),\n",
       "             ('timestamp',\n",
       "              time.struct_time(tm_year=2021, tm_mon=9, tm_mday=10, tm_hour=22, tm_min=14, tm_sec=47, tm_wday=4, tm_yday=253, tm_isdst=-1)),\n",
       "             ('comment',\n",
       "              '[[WP:AES|←]]Created page with \\'\\'\\'\\'Solana\\'\\'\\' is a public [[blockchain]] platform. It is [[open-source]] and [[Decentralized computing|decentralized]], with consensus achieved using [[proof of stake]]  and  proof of history. It can facilitate peer-to-peer transactions with its internal [[cryptocurrency]], \\'\\'\\'SOL\\'\\'\\', and   claims to   support 50,000 [[transactions per second]].  Anatoly Yakovenko is the founder and CEO of Solana.<ref name=\"Why Solana\" /> \\'\\'[[Bloomberg]]\\'\\' considers Solana t...\\'')])"
      ]
     },
     "execution_count": 5,
     "metadata": {},
     "output_type": "execute_result"
    }
   ],
   "source": [
    "revs[0]"
   ]
  },
  {
   "cell_type": "code",
   "execution_count": 6,
   "metadata": {},
   "outputs": [
    {
     "name": "stderr",
     "output_type": "stream",
     "text": [
      "<frozen importlib._bootstrap>:488: DeprecationWarning: Type google._upb._message.MessageMapContainer uses PyType_Spec with a metaclass that has custom tp_new. This is deprecated and will no longer be allowed in Python 3.14.\n",
      "<frozen importlib._bootstrap>:488: DeprecationWarning: Type google._upb._message.ScalarMapContainer uses PyType_Spec with a metaclass that has custom tp_new. This is deprecated and will no longer be allowed in Python 3.14.\n",
      "No model was supplied, defaulted to distilbert/distilbert-base-uncased-finetuned-sst-2-english and revision af0f99b (https://huggingface.co/distilbert/distilbert-base-uncased-finetuned-sst-2-english).\n",
      "Using a pipeline without specifying a model name and revision in production is not recommended.\n",
      "c:\\Users\\SUBRAT\\AppData\\Local\\Programs\\Python\\Python312\\Lib\\site-packages\\huggingface_hub\\file_download.py:1132: FutureWarning: `resume_download` is deprecated and will be removed in version 1.0.0. Downloads always resume when possible. If you want to force a new download, use `force_download=True`.\n",
      "  warnings.warn(\n"
     ]
    },
    {
     "name": "stdout",
     "output_type": "stream",
     "text": [
      "WARNING:tensorflow:From c:\\Users\\SUBRAT\\AppData\\Local\\Programs\\Python\\Python312\\Lib\\site-packages\\tf_keras\\src\\losses.py:2976: The name tf.losses.sparse_softmax_cross_entropy is deprecated. Please use tf.compat.v1.losses.sparse_softmax_cross_entropy instead.\n",
      "\n"
     ]
    }
   ],
   "source": [
    "from transformers import pipeline\n",
    "sentiment_pipeline = pipeline(\"sentiment-analysis\")\n",
    "\n",
    "def find_sentiment(text):\n",
    "    sent = sentiment_pipeline([text[:250]])[0]\n",
    "    score = sent[\"score\"]\n",
    "    if sent[\"label\"] == \"NEGATIVE\":\n",
    "        score *= -1\n",
    "    return score"
   ]
  },
  {
   "cell_type": "code",
   "execution_count": 7,
   "metadata": {},
   "outputs": [],
   "source": [
    "edits = {}\n",
    "\n",
    "for rev in revs:        \n",
    "    date = time.strftime(\"%Y-%m-%d\", rev[\"timestamp\"])\n",
    "    if date not in edits:\n",
    "        edits[date] = dict(sentiments=list(), edit_count=0)\n",
    "    \n",
    "    edits[date][\"edit_count\"] += 1\n",
    "    \n",
    "    comment = rev.get(\"comment\", \"\")\n",
    "    edits[date][\"sentiments\"].append(find_sentiment(comment))"
   ]
  },
  {
   "cell_type": "code",
   "execution_count": 8,
   "metadata": {},
   "outputs": [],
   "source": [
    "from statistics import mean\n",
    "\n",
    "for key in edits:\n",
    "    if len(edits[key][\"sentiments\"]) > 0:\n",
    "        edits[key][\"sentiment\"] = mean(edits[key][\"sentiments\"])\n",
    "        edits[key][\"neg_sentiment\"] = len([s for s in edits[key][\"sentiments\"] if s < 0]) / len(edits[key][\"sentiments\"])\n",
    "    else:\n",
    "        edits[key][\"sentiment\"] = 0\n",
    "        edits[key][\"neg_sentiment\"] = 0\n",
    "    \n",
    "    del edits[key][\"sentiments\"]"
   ]
  },
  {
   "cell_type": "code",
   "execution_count": 9,
   "metadata": {},
   "outputs": [],
   "source": [
    "import pandas as pd\n",
    "edits_df = pd.DataFrame.from_dict(edits, orient=\"index\")"
   ]
  },
  {
   "cell_type": "code",
   "execution_count": 10,
   "metadata": {},
   "outputs": [
    {
     "data": {
      "text/html": [
       "<div>\n",
       "<style scoped>\n",
       "    .dataframe tbody tr th:only-of-type {\n",
       "        vertical-align: middle;\n",
       "    }\n",
       "\n",
       "    .dataframe tbody tr th {\n",
       "        vertical-align: top;\n",
       "    }\n",
       "\n",
       "    .dataframe thead th {\n",
       "        text-align: right;\n",
       "    }\n",
       "</style>\n",
       "<table border=\"1\" class=\"dataframe\">\n",
       "  <thead>\n",
       "    <tr style=\"text-align: right;\">\n",
       "      <th></th>\n",
       "      <th>edit_count</th>\n",
       "      <th>sentiment</th>\n",
       "      <th>neg_sentiment</th>\n",
       "    </tr>\n",
       "  </thead>\n",
       "  <tbody>\n",
       "    <tr>\n",
       "      <th>2021-09-10</th>\n",
       "      <td>2</td>\n",
       "      <td>-0.026268</td>\n",
       "      <td>0.500000</td>\n",
       "    </tr>\n",
       "    <tr>\n",
       "      <th>2021-09-11</th>\n",
       "      <td>2</td>\n",
       "      <td>-0.125361</td>\n",
       "      <td>0.500000</td>\n",
       "    </tr>\n",
       "    <tr>\n",
       "      <th>2021-09-13</th>\n",
       "      <td>3</td>\n",
       "      <td>0.185897</td>\n",
       "      <td>0.333333</td>\n",
       "    </tr>\n",
       "    <tr>\n",
       "      <th>2021-09-14</th>\n",
       "      <td>1</td>\n",
       "      <td>0.748121</td>\n",
       "      <td>0.000000</td>\n",
       "    </tr>\n",
       "    <tr>\n",
       "      <th>2021-09-15</th>\n",
       "      <td>4</td>\n",
       "      <td>-0.119876</td>\n",
       "      <td>0.500000</td>\n",
       "    </tr>\n",
       "    <tr>\n",
       "      <th>...</th>\n",
       "      <td>...</td>\n",
       "      <td>...</td>\n",
       "      <td>...</td>\n",
       "    </tr>\n",
       "    <tr>\n",
       "      <th>2024-02-19</th>\n",
       "      <td>6</td>\n",
       "      <td>-0.640141</td>\n",
       "      <td>0.833333</td>\n",
       "    </tr>\n",
       "    <tr>\n",
       "      <th>2024-02-20</th>\n",
       "      <td>8</td>\n",
       "      <td>-0.010332</td>\n",
       "      <td>0.500000</td>\n",
       "    </tr>\n",
       "    <tr>\n",
       "      <th>2024-02-21</th>\n",
       "      <td>3</td>\n",
       "      <td>-0.331259</td>\n",
       "      <td>0.666667</td>\n",
       "    </tr>\n",
       "    <tr>\n",
       "      <th>2024-03-14</th>\n",
       "      <td>1</td>\n",
       "      <td>0.998236</td>\n",
       "      <td>0.000000</td>\n",
       "    </tr>\n",
       "    <tr>\n",
       "      <th>2024-03-17</th>\n",
       "      <td>1</td>\n",
       "      <td>-0.997568</td>\n",
       "      <td>1.000000</td>\n",
       "    </tr>\n",
       "  </tbody>\n",
       "</table>\n",
       "<p>190 rows × 3 columns</p>\n",
       "</div>"
      ],
      "text/plain": [
       "            edit_count  sentiment  neg_sentiment\n",
       "2021-09-10           2  -0.026268       0.500000\n",
       "2021-09-11           2  -0.125361       0.500000\n",
       "2021-09-13           3   0.185897       0.333333\n",
       "2021-09-14           1   0.748121       0.000000\n",
       "2021-09-15           4  -0.119876       0.500000\n",
       "...                ...        ...            ...\n",
       "2024-02-19           6  -0.640141       0.833333\n",
       "2024-02-20           8  -0.010332       0.500000\n",
       "2024-02-21           3  -0.331259       0.666667\n",
       "2024-03-14           1   0.998236       0.000000\n",
       "2024-03-17           1  -0.997568       1.000000\n",
       "\n",
       "[190 rows x 3 columns]"
      ]
     },
     "execution_count": 10,
     "metadata": {},
     "output_type": "execute_result"
    }
   ],
   "source": [
    "edits_df"
   ]
  },
  {
   "cell_type": "code",
   "execution_count": 11,
   "metadata": {},
   "outputs": [
    {
     "data": {
      "text/html": [
       "<div>\n",
       "<style scoped>\n",
       "    .dataframe tbody tr th:only-of-type {\n",
       "        vertical-align: middle;\n",
       "    }\n",
       "\n",
       "    .dataframe tbody tr th {\n",
       "        vertical-align: top;\n",
       "    }\n",
       "\n",
       "    .dataframe thead th {\n",
       "        text-align: right;\n",
       "    }\n",
       "</style>\n",
       "<table border=\"1\" class=\"dataframe\">\n",
       "  <thead>\n",
       "    <tr style=\"text-align: right;\">\n",
       "      <th></th>\n",
       "      <th>edit_count</th>\n",
       "      <th>sentiment</th>\n",
       "      <th>neg_sentiment</th>\n",
       "    </tr>\n",
       "  </thead>\n",
       "  <tbody>\n",
       "    <tr>\n",
       "      <th>2021-12-02</th>\n",
       "      <td>2.466667</td>\n",
       "      <td>-0.115112</td>\n",
       "      <td>0.526768</td>\n",
       "    </tr>\n",
       "    <tr>\n",
       "      <th>2021-12-06</th>\n",
       "      <td>2.433333</td>\n",
       "      <td>-0.147124</td>\n",
       "      <td>0.543434</td>\n",
       "    </tr>\n",
       "    <tr>\n",
       "      <th>2021-12-08</th>\n",
       "      <td>2.400000</td>\n",
       "      <td>-0.176140</td>\n",
       "      <td>0.560101</td>\n",
       "    </tr>\n",
       "    <tr>\n",
       "      <th>2021-12-09</th>\n",
       "      <td>2.466667</td>\n",
       "      <td>-0.215607</td>\n",
       "      <td>0.582323</td>\n",
       "    </tr>\n",
       "    <tr>\n",
       "      <th>2021-12-13</th>\n",
       "      <td>2.533333</td>\n",
       "      <td>-0.234919</td>\n",
       "      <td>0.593434</td>\n",
       "    </tr>\n",
       "    <tr>\n",
       "      <th>...</th>\n",
       "      <td>...</td>\n",
       "      <td>...</td>\n",
       "      <td>...</td>\n",
       "    </tr>\n",
       "    <tr>\n",
       "      <th>2024-02-19</th>\n",
       "      <td>2.933333</td>\n",
       "      <td>-0.214769</td>\n",
       "      <td>0.604246</td>\n",
       "    </tr>\n",
       "    <tr>\n",
       "      <th>2024-02-20</th>\n",
       "      <td>3.100000</td>\n",
       "      <td>-0.202918</td>\n",
       "      <td>0.598690</td>\n",
       "    </tr>\n",
       "    <tr>\n",
       "      <th>2024-02-21</th>\n",
       "      <td>3.166667</td>\n",
       "      <td>-0.180640</td>\n",
       "      <td>0.587579</td>\n",
       "    </tr>\n",
       "    <tr>\n",
       "      <th>2024-03-14</th>\n",
       "      <td>3.133333</td>\n",
       "      <td>-0.147472</td>\n",
       "      <td>0.570913</td>\n",
       "    </tr>\n",
       "    <tr>\n",
       "      <th>2024-03-17</th>\n",
       "      <td>2.900000</td>\n",
       "      <td>-0.156470</td>\n",
       "      <td>0.575079</td>\n",
       "    </tr>\n",
       "  </tbody>\n",
       "</table>\n",
       "<p>161 rows × 3 columns</p>\n",
       "</div>"
      ],
      "text/plain": [
       "            edit_count  sentiment  neg_sentiment\n",
       "2021-12-02    2.466667  -0.115112       0.526768\n",
       "2021-12-06    2.433333  -0.147124       0.543434\n",
       "2021-12-08    2.400000  -0.176140       0.560101\n",
       "2021-12-09    2.466667  -0.215607       0.582323\n",
       "2021-12-13    2.533333  -0.234919       0.593434\n",
       "...                ...        ...            ...\n",
       "2024-02-19    2.933333  -0.214769       0.604246\n",
       "2024-02-20    3.100000  -0.202918       0.598690\n",
       "2024-02-21    3.166667  -0.180640       0.587579\n",
       "2024-03-14    3.133333  -0.147472       0.570913\n",
       "2024-03-17    2.900000  -0.156470       0.575079\n",
       "\n",
       "[161 rows x 3 columns]"
      ]
     },
     "execution_count": 11,
     "metadata": {},
     "output_type": "execute_result"
    }
   ],
   "source": [
    "rolling_edits = edits_df.rolling(30, min_periods=30).mean()\n",
    "rolling_edits = rolling_edits.dropna()\n",
    "rolling_edits"
   ]
  },
  {
   "cell_type": "code",
   "execution_count": 12,
   "metadata": {},
   "outputs": [],
   "source": [
    "rolling_edits.to_csv(\"solana_sentiment.csv\")"
   ]
  }
 ],
 "metadata": {
  "kernelspec": {
   "display_name": "Python 3",
   "language": "python",
   "name": "python3"
  },
  "language_info": {
   "codemirror_mode": {
    "name": "ipython",
    "version": 3
   },
   "file_extension": ".py",
   "mimetype": "text/x-python",
   "name": "python",
   "nbconvert_exporter": "python",
   "pygments_lexer": "ipython3",
   "version": "3.12.1"
  }
 },
 "nbformat": 4,
 "nbformat_minor": 2
}
